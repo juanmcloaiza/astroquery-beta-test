{
 "cells": [
  {
   "cell_type": "markdown",
   "metadata": {},
   "source": [
    "<hr style=\"border:2px solid #0281c9\"> </hr>\n",
    "\n",
    "<img align=\"left\" alt=\"ESO Logo\" src=\"http://archive.eso.org/i/esologo.png\">  \n",
    "\n",
    "<div align=\"center\">\n",
    "  <h1 style=\"color: #0281c9; font-weight: bold;\">Astroquery Beta Test</h1>\n",
    "  <h2 style=\"color: #0281c9; font-weight: bold;\">ESO Science Archive - April 2025</h2> \n",
    "</div>\n",
    "\n",
    "<hr style=\"border:2px solid #0281c9\"> </hr>"
   ]
  },
  {
   "cell_type": "markdown",
   "metadata": {},
   "source": [
    "_This notebook focuses specifically on testing recent developments related to the transition from the WDB backend to the TAP backend._ - [DFS-19635](https://jira.eso.org/browse/DFS-19635)\n",
    "\n",
    "As a Beta tester, we would like to ask your feedback on the following aspects:\n",
    "\n",
    " - What absolutely needs to be fixed before the release\n",
    " - What would be nice to be fixed before the release\n",
    " - Feature ideas and improvements for subsequent releases\n",
    "\n",
    "The current astroquery ESO module documentation will mostly work: https://astroquery.readthedocs.io/en/latest/eso/eso.html\n",
    "\n",
    "For the parts that unevitably needed changes, the updated documentation is found in the `docs` folder in this repository:\n",
    " - `./docs/AstroqueryEsoDocumentation-Beta.pdf`\n",
    " - `./docs/AstroqueryEsoDocstrings-Beta.pdf`\n",
    " - `./docs/html/`\n"
   ]
  },
  {
   "cell_type": "code",
   "execution_count": 2,
   "metadata": {},
   "outputs": [
    {
     "name": "stdout",
     "output_type": "stream",
     "text": [
      "mkdir: cannot create directory ‘TEST_ESO_ASTROQUERY’: File exists\n",
      "fatal: destination path 'astroquery' already exists and is not an empty directory.\n",
      "Already on 'TAP'\n",
      "Your branch is up to date with 'origin/TAP'.\n",
      "Processing /workspaces/astroquery-beta-test/TEST_ESO_ASTROQUERY/astroquery\n",
      "  Installing build dependencies ... \u001b[?25ldone\n",
      "\u001b[?25h  Getting requirements to build wheel ... \u001b[?25ldone\n",
      "\u001b[?25h  Preparing metadata (pyproject.toml) ... \u001b[?25ldone\n",
      "\u001b[?25hRequirement already satisfied: numpy>=1.20 in /home/codespace/.local/lib/python3.12/site-packages (from astroquery==0.4.11.dev10181) (2.2.4)\n",
      "Requirement already satisfied: astropy>=5.0 in /usr/local/python/3.12.1/lib/python3.12/site-packages (from astroquery==0.4.11.dev10181) (7.0.1)\n",
      "Requirement already satisfied: requests>=2.19 in /home/codespace/.local/lib/python3.12/site-packages (from astroquery==0.4.11.dev10181) (2.32.3)\n",
      "Requirement already satisfied: beautifulsoup4>=4.8 in /home/codespace/.local/lib/python3.12/site-packages (from astroquery==0.4.11.dev10181) (4.13.3)\n",
      "Requirement already satisfied: html5lib>=0.999 in /usr/local/python/3.12.1/lib/python3.12/site-packages (from astroquery==0.4.11.dev10181) (1.1)\n",
      "Requirement already satisfied: keyring>=15.0 in /usr/local/python/3.12.1/lib/python3.12/site-packages (from astroquery==0.4.11.dev10181) (25.6.0)\n",
      "Requirement already satisfied: pyvo>=1.5 in /usr/local/python/3.12.1/lib/python3.12/site-packages (from astroquery==0.4.11.dev10181) (1.6.1)\n",
      "Requirement already satisfied: pyerfa>=2.0.1.1 in /usr/local/python/3.12.1/lib/python3.12/site-packages (from astropy>=5.0->astroquery==0.4.11.dev10181) (2.0.1.5)\n",
      "Requirement already satisfied: astropy-iers-data>=0.2025.1.31.12.41.4 in /usr/local/python/3.12.1/lib/python3.12/site-packages (from astropy>=5.0->astroquery==0.4.11.dev10181) (0.2025.3.31.0.36.18)\n",
      "Requirement already satisfied: PyYAML>=6.0.0 in /home/codespace/.local/lib/python3.12/site-packages (from astropy>=5.0->astroquery==0.4.11.dev10181) (6.0.2)\n",
      "Requirement already satisfied: packaging>=22.0.0 in /home/codespace/.local/lib/python3.12/site-packages (from astropy>=5.0->astroquery==0.4.11.dev10181) (24.2)\n",
      "Requirement already satisfied: soupsieve>1.2 in /home/codespace/.local/lib/python3.12/site-packages (from beautifulsoup4>=4.8->astroquery==0.4.11.dev10181) (2.6)\n",
      "Requirement already satisfied: typing-extensions>=4.0.0 in /home/codespace/.local/lib/python3.12/site-packages (from beautifulsoup4>=4.8->astroquery==0.4.11.dev10181) (4.12.2)\n",
      "Requirement already satisfied: six>=1.9 in /home/codespace/.local/lib/python3.12/site-packages (from html5lib>=0.999->astroquery==0.4.11.dev10181) (1.17.0)\n",
      "Requirement already satisfied: webencodings in /home/codespace/.local/lib/python3.12/site-packages (from html5lib>=0.999->astroquery==0.4.11.dev10181) (0.5.1)\n",
      "Requirement already satisfied: SecretStorage>=3.2 in /usr/local/python/3.12.1/lib/python3.12/site-packages (from keyring>=15.0->astroquery==0.4.11.dev10181) (3.3.3)\n",
      "Requirement already satisfied: jeepney>=0.4.2 in /usr/local/python/3.12.1/lib/python3.12/site-packages (from keyring>=15.0->astroquery==0.4.11.dev10181) (0.9.0)\n",
      "Requirement already satisfied: jaraco.classes in /usr/local/python/3.12.1/lib/python3.12/site-packages (from keyring>=15.0->astroquery==0.4.11.dev10181) (3.4.0)\n",
      "Requirement already satisfied: jaraco.functools in /usr/local/python/3.12.1/lib/python3.12/site-packages (from keyring>=15.0->astroquery==0.4.11.dev10181) (4.1.0)\n",
      "Requirement already satisfied: jaraco.context in /usr/local/python/3.12.1/lib/python3.12/site-packages (from keyring>=15.0->astroquery==0.4.11.dev10181) (6.0.1)\n",
      "Requirement already satisfied: charset-normalizer<4,>=2 in /home/codespace/.local/lib/python3.12/site-packages (from requests>=2.19->astroquery==0.4.11.dev10181) (3.4.1)\n",
      "Requirement already satisfied: idna<4,>=2.5 in /home/codespace/.local/lib/python3.12/site-packages (from requests>=2.19->astroquery==0.4.11.dev10181) (3.10)\n",
      "Requirement already satisfied: urllib3<3,>=1.21.1 in /home/codespace/.local/lib/python3.12/site-packages (from requests>=2.19->astroquery==0.4.11.dev10181) (2.3.0)\n",
      "Requirement already satisfied: certifi>=2017.4.17 in /home/codespace/.local/lib/python3.12/site-packages (from requests>=2.19->astroquery==0.4.11.dev10181) (2025.1.31)\n",
      "Requirement already satisfied: cryptography>=2.0 in /usr/local/python/3.12.1/lib/python3.12/site-packages (from SecretStorage>=3.2->keyring>=15.0->astroquery==0.4.11.dev10181) (44.0.2)\n",
      "Requirement already satisfied: more-itertools in /usr/local/python/3.12.1/lib/python3.12/site-packages (from jaraco.classes->keyring>=15.0->astroquery==0.4.11.dev10181) (10.6.0)\n",
      "Requirement already satisfied: cffi>=1.12 in /home/codespace/.local/lib/python3.12/site-packages (from cryptography>=2.0->SecretStorage>=3.2->keyring>=15.0->astroquery==0.4.11.dev10181) (1.17.1)\n",
      "Requirement already satisfied: pycparser in /home/codespace/.local/lib/python3.12/site-packages (from cffi>=1.12->cryptography>=2.0->SecretStorage>=3.2->keyring>=15.0->astroquery==0.4.11.dev10181) (2.22)\n",
      "Building wheels for collected packages: astroquery\n",
      "  Building wheel for astroquery (pyproject.toml) ... \u001b[?25ldone\n",
      "\u001b[?25h  Created wheel for astroquery: filename=astroquery-0.4.11.dev10181-py3-none-any.whl size=11137130 sha256=bf646d69b7fd4bd795f84dfbdd1848b85d040f26dc0f37d34b9921b97e5fc7ff\n",
      "  Stored in directory: /tmp/pip-ephem-wheel-cache-j9p46mn5/wheels/b6/28/82/3659dc0de87b199f1911ba27ca92f40086d52605a8cf8e2243\n",
      "Successfully built astroquery\n",
      "Installing collected packages: astroquery\n",
      "  Attempting uninstall: astroquery\n",
      "    Found existing installation: astroquery 0.4.11.dev10181\n",
      "    Uninstalling astroquery-0.4.11.dev10181:\n",
      "      Successfully uninstalled astroquery-0.4.11.dev10181\n",
      "Successfully installed astroquery-0.4.11.dev10181\n",
      "\n",
      " ##### \n",
      "\n",
      "ESO TAP url: https://archive.eso.org/tap_obs\n",
      "\n",
      " If the line above reads \"ESO TAP url: http://archive.eso.org/tap_obs\", everything went ok\n",
      "\n",
      "\n",
      " ##### \n"
     ]
    }
   ],
   "source": [
    "!bash install_astroquery.sh"
   ]
  },
  {
   "cell_type": "markdown",
   "metadata": {},
   "source": [
    "## Handy imports and functions"
   ]
  },
  {
   "cell_type": "code",
   "execution_count": 3,
   "metadata": {},
   "outputs": [],
   "source": [
    "import os\n",
    "import pandas as pd\n",
    "import astropy.table.table as aqtable\n",
    "from pyvo.dal.exceptions import DALQueryError, DALServiceError\n",
    "from IPython.display import clear_output\n",
    "\n",
    "def table_to_csv(aqtable: aqtable, filepath: str):\n",
    "    aqtable.to_pandas().to_csv(filepath)\n",
    "    print(f\"Table saved to {filepath}\")"
   ]
  },
  {
   "cell_type": "markdown",
   "metadata": {},
   "source": [
    "## ESO instance"
   ]
  },
  {
   "cell_type": "code",
   "execution_count": 4,
   "metadata": {},
   "outputs": [
    {
     "name": "stdout",
     "output_type": "stream",
     "text": [
      "ESO tap_url = https://archive.eso.org/tap_obs\n"
     ]
    }
   ],
   "source": [
    "from astroquery.eso import Eso\n",
    "\n",
    "eso_instance = Eso()\n",
    "\n",
    "eso_instance.maxrec = 1000\n",
    "\n",
    "print(f\"ESO tap_url = {eso_instance._tap_url()}\")"
   ]
  },
  {
   "cell_type": "markdown",
   "metadata": {},
   "source": [
    "# Tutorial"
   ]
  },
  {
   "cell_type": "markdown",
   "metadata": {},
   "source": [
    "## Query Raw Data"
   ]
  },
  {
   "cell_type": "code",
   "execution_count": 5,
   "metadata": {},
   "outputs": [
    {
     "name": "stdout",
     "output_type": "stream",
     "text": [
      "Table saved to ./eso_aq_example_query_main.csv\n"
     ]
    },
    {
     "name": "stderr",
     "output_type": "stream",
     "text": [
      "/home/codespace/.python/current/lib/python3.12/site-packages/pyvo/dal/query.py:341: DALOverflowWarning: Partial result set. Potential causes MAXREC, async storage space, etc.\n",
      "  warn(\"Partial result set. Potential causes MAXREC, async storage space, etc.\",\n",
      "WARNING: MaxResultsWarning: Results truncated to 1000. To retrieve all the records set to None the maxrec attribute [astroquery.eso.core]\n"
     ]
    }
   ],
   "source": [
    "my_table = eso_instance.query_main()\n",
    "table_to_csv(my_table, \"./eso_aq_example_query_main.csv\")\n",
    "# my_table[:2].show_in_notebook()"
   ]
  },
  {
   "cell_type": "markdown",
   "metadata": {},
   "source": [
    "## Query Phase 3 Data"
   ]
  },
  {
   "cell_type": "code",
   "execution_count": 6,
   "metadata": {},
   "outputs": [
    {
     "name": "stdout",
     "output_type": "stream",
     "text": [
      "              survey\n",
      "0         081.C-0827\n",
      "1         092.A-0472\n",
      "2         096.B-0054\n",
      "3        1100.A-0528\n",
      "4        1101.A-0127\n",
      "5         193.D-0232\n",
      "6         195.B-0283\n",
      "7         196.B-0578\n",
      "8         196.D-0214\n",
      "9         197.A-0384\n",
      "10        198.A-0708\n",
      "11        60.A-9284H\n",
      "12         60.A-9493\n",
      "13             ADHOC\n",
      "14          ALCOHOLS\n",
      "15           ALLSMOG\n",
      "16              ALMA\n",
      "17             AMAZE\n",
      "18             AMBRE\n",
      "19       APEX-SciOps\n",
      "20          ATLASGAL\n",
      "21          CAFFEINE\n",
      "22           ENTROPY\n",
      "23       ePESSTOplus\n",
      "24          ERIS-NIX\n",
      "25     ERIS-SPIFFIER\n",
      "26          ESPRESSO\n",
      "27           ESSENCE\n",
      "28               FDS\n",
      "29             FEROS\n",
      "30          Fornax3D\n",
      "31        FORS2-SPEC\n",
      "32           GAIAESO\n",
      "33              GCAV\n",
      "34           GIRAFFE\n",
      "35       GOODS_FORS2\n",
      "36       GOODS_ISAAC\n",
      "37  GOODS_VIMOS_IMAG\n",
      "38  GOODS_VIMOS_SPEC\n",
      "39          GW170817\n",
      "40             HARPS\n",
      "41             HAWKI\n",
      "42              HUGS\n",
      "43           INSPIRE\n",
      "44              KIDS\n",
      "45              KMOS\n",
      "46            LEGA-C\n",
      "47              LESS\n",
      "48             MAGIC\n",
      "49              MUSE\n",
      "50         MUSE-DEEP\n",
      "51          MUSE-STD\n",
      "52  MW-BULGE-PSFPHOT\n",
      "53              NGTS\n",
      "54             NIRPS\n",
      "55     OMEGACAM_INAF\n",
      "56         PENELLOPE\n",
      "57            PESSTO\n",
      "58            PHANGS\n",
      "59           PIONIER\n",
      "60            SHARKS\n",
      "61            SPHERE\n",
      "62             SUPER\n",
      "63        UltraVISTA\n",
      "64              UVES\n",
      "65        UVES_SQUAD\n",
      "66           VANDELS\n",
      "67             VEGAS\n",
      "68             VEILS\n",
      "69             VEXAS\n",
      "70               VHS\n",
      "71             VIDEO\n",
      "72            VIKING\n",
      "73             VIMOS\n",
      "74          VINROUGE\n",
      "75            VIPERS\n",
      "76           VISIONS\n",
      "77               VMC\n",
      "78         VPHASplus\n",
      "79         VST-ATLAS\n",
      "80               VVV\n",
      "81              VVVX\n",
      "82            XQ-100\n",
      "83             XSGRB\n",
      "84          XSHOOTER\n",
      "85           XShootU\n",
      "86               XSL\n",
      "87           ZCOSMOS\n"
     ]
    }
   ],
   "source": [
    "available_surveys = eso_instance.list_surveys()\n",
    "\n",
    "print(pd.DataFrame({\"survey\": available_surveys}).to_string())"
   ]
  },
  {
   "cell_type": "code",
   "execution_count": 7,
   "metadata": {},
   "outputs": [
    {
     "name": "stdout",
     "output_type": "stream",
     "text": [
      "Table saved to ./eso_aq_example_query_surveys.csv\n"
     ]
    },
    {
     "name": "stderr",
     "output_type": "stream",
     "text": [
      "/home/codespace/.python/current/lib/python3.12/site-packages/pyvo/dal/query.py:341: DALOverflowWarning: Partial result set. Potential causes MAXREC, async storage space, etc.\n",
      "  warn(\"Partial result set. Potential causes MAXREC, async storage space, etc.\",\n",
      "WARNING: MaxResultsWarning: Results truncated to 1000. To retrieve all the records set to None the maxrec attribute [astroquery.eso.core]\n"
     ]
    }
   ],
   "source": [
    "my_table = eso_instance.query_surveys()\n",
    "\n",
    "table_to_csv(my_table, \"./eso_aq_example_query_surveys.csv\")\n",
    "# my_table[:2].show_in_notebook()"
   ]
  },
  {
   "cell_type": "code",
   "execution_count": 8,
   "metadata": {},
   "outputs": [
    {
     "name": "stdout",
     "output_type": "stream",
     "text": [
      "Table saved to ./eso_aq_example_query_surveys_sphere.csv\n"
     ]
    }
   ],
   "source": [
    "my_table = eso_instance.query_surveys('SPHERE')\n",
    "\n",
    "table_to_csv(my_table, \"./eso_aq_example_query_surveys_sphere.csv\")\n",
    "# my_table.show_in_notebook()"
   ]
  },
  {
   "cell_type": "code",
   "execution_count": 9,
   "metadata": {},
   "outputs": [
    {
     "name": "stdout",
     "output_type": "stream",
     "text": [
      "Table saved to ./eso_aq_example_query_surveys_sphere_vegas.csv\n"
     ]
    }
   ],
   "source": [
    "my_table = eso_instance.query_surveys(['SPHERE', 'VEGAS'])\n",
    "my_table_2 = eso_instance.query_surveys('SPHERE, VEGAS')\n",
    "assert all(my_table.values_equal(my_table_2))\n",
    "\n",
    "table_to_csv(my_table, \"./eso_aq_example_query_surveys_sphere_vegas.csv\")\n",
    "\n",
    "#my_table.show_in_notebook()"
   ]
  },
  {
   "cell_type": "markdown",
   "metadata": {},
   "source": [
    "## Query Instrument Specific Data"
   ]
  },
  {
   "cell_type": "code",
   "execution_count": 10,
   "metadata": {},
   "outputs": [
    {
     "name": "stdout",
     "output_type": "stream",
     "text": [
      "         instrument\n",
      "0            alpaca\n",
      "1             amber\n",
      "2              apex\n",
      "3   apex_quicklooks\n",
      "4            crires\n",
      "5             efosc\n",
      "6              eris\n",
      "7          espresso\n",
      "8              fiat\n",
      "9             fors1\n",
      "10            fors2\n",
      "11          giraffe\n",
      "12          gravity\n",
      "13            harps\n",
      "14            hawki\n",
      "15            isaac\n",
      "16             kmos\n",
      "17          matisse\n",
      "18             midi\n",
      "19             muse\n",
      "20             naco\n",
      "21            nirps\n",
      "22         omegacam\n",
      "23          pionier\n",
      "24          sinfoni\n",
      "25             sofi\n",
      "26           sphere\n",
      "27             uves\n",
      "28            vimos\n",
      "29           vircam\n",
      "30            visir\n",
      "31            wlgsu\n",
      "32         xshooter\n"
     ]
    }
   ],
   "source": [
    "available_instruments = eso_instance.list_instruments()\n",
    "print(pd.DataFrame({\"instrument\": available_instruments}).to_string())"
   ]
  },
  {
   "cell_type": "code",
   "execution_count": 11,
   "metadata": {},
   "outputs": [
    {
     "name": "stdout",
     "output_type": "stream",
     "text": [
      "Table saved to ./eso_aq_example_query_instrument_midi.csv\n"
     ]
    },
    {
     "name": "stderr",
     "output_type": "stream",
     "text": [
      "/home/codespace/.python/current/lib/python3.12/site-packages/pyvo/dal/query.py:341: DALOverflowWarning: Partial result set. Potential causes MAXREC, async storage space, etc.\n",
      "  warn(\"Partial result set. Potential causes MAXREC, async storage space, etc.\",\n",
      "WARNING: MaxResultsWarning: Results truncated to 1000. To retrieve all the records set to None the maxrec attribute [astroquery.eso.core]\n"
     ]
    }
   ],
   "source": [
    "my_table = eso_instance.query_instrument(\"midi\")\n",
    "table_to_csv(my_table, \"./eso_aq_example_query_instrument_midi.csv\")\n",
    "# my_table.show_in_notebook()"
   ]
  },
  {
   "cell_type": "markdown",
   "metadata": {},
   "source": [
    "## Query some columns"
   ]
  },
  {
   "cell_type": "code",
   "execution_count": 12,
   "metadata": {},
   "outputs": [
    {
     "name": "stdout",
     "output_type": "stream",
     "text": [
      "Table saved to ./eso_aq_example_query_main_columns.csv\n"
     ]
    },
    {
     "name": "stderr",
     "output_type": "stream",
     "text": [
      "/home/codespace/.python/current/lib/python3.12/site-packages/pyvo/dal/query.py:341: DALOverflowWarning: Partial result set. Potential causes MAXREC, async storage space, etc.\n",
      "  warn(\"Partial result set. Potential causes MAXREC, async storage space, etc.\",\n",
      "WARNING: MaxResultsWarning: Results truncated to 1000. To retrieve all the records set to None the maxrec attribute [astroquery.eso.core]\n"
     ]
    }
   ],
   "source": [
    "my_table = eso_instance.query_main(columns=[\"target\", \"instrument\", \"date_obs\", \"access_url\", \"datalink_url\"])\n",
    "table_to_csv(my_table, \"./eso_aq_example_query_main_columns.csv\")\n",
    "#my_table[0:3].show_in_notebook()"
   ]
  },
  {
   "cell_type": "markdown",
   "metadata": {},
   "source": [
    "## Info before launching a query"
   ]
  },
  {
   "cell_type": "markdown",
   "metadata": {},
   "source": [
    "### Rows and columns"
   ]
  },
  {
   "cell_type": "code",
   "execution_count": 13,
   "metadata": {},
   "outputs": [
    {
     "name": "stdout",
     "output_type": "stream",
     "text": [
      "INFO: \n",
      "Columns present in the table dbo.raw:\n",
      "    column_name     datatype    xtype     unit \n",
      "------------------- -------- ----------- ------\n",
      "     access_estsize     long              kbyte\n",
      "         access_url     char                   \n",
      "       datalink_url     char                   \n",
      "           date_obs     char                   \n",
      "                dec   double                deg\n",
      "            dec_pnt   double                deg\n",
      "        det_chip1id     char                   \n",
      "   det_chop_ncycles    short                   \n",
      "            det_dit    float                  s\n",
      "          det_expid    short                   \n",
      "           det_ndit    short                   \n",
      "             dp_cat     char                   \n",
      "              dp_id     char                   \n",
      "            dp_tech     char                   \n",
      "            dp_type     char                   \n",
      "            ecl_lat   double                deg\n",
      "            ecl_lon   double                deg\n",
      "          exp_start     char   timestamp       \n",
      "           exposure    float                  s\n",
      "        filter_path     char                   \n",
      "            gal_lat   double                deg\n",
      "            gal_lon   double                deg\n",
      "          grat_path     char                   \n",
      "          gris_path     char                   \n",
      "           ins_mode     char                   \n",
      "         instrument     char                   \n",
      "         lambda_max   double                 nm\n",
      "         lambda_min   double                 nm\n",
      "      last_mod_date     char   timestamp       \n",
      "            mjd_obs   double                  d\n",
      "              ob_id      int                   \n",
      "            ob_name     char                   \n",
      "             object     char                   \n",
      "           obs_mode     char                   \n",
      "           origfile     char                   \n",
      "             period    short                   \n",
      "             pi_coi     char                   \n",
      "            prog_id     char                   \n",
      "         prog_title     char                   \n",
      "          prog_type      int                   \n",
      "                 ra   double                deg\n",
      "             ra_pnt   double                deg\n",
      "       release_date     char   timestamp       \n",
      "           s_region     char adql:REGION       \n",
      "          slit_path     char                   \n",
      "             target     char                   \n",
      "       tel_airm_end    float                   \n",
      "     tel_airm_start    float                   \n",
      "            tel_alt    float                deg\n",
      "  tel_ambi_fwhm_end    float             arcsec\n",
      "tel_ambi_fwhm_start    float             arcsec\n",
      "  tel_ambi_pres_end    float                hPa\n",
      "tel_ambi_pres_start    float                hPa\n",
      "      tel_ambi_rhum    float                  %\n",
      "             tel_az    float                deg\n",
      "          telescope     char                   \n",
      "          tpl_expno      int                   \n",
      "             tpl_id     char                   \n",
      "           tpl_name     char                   \n",
      "           tpl_nexp      int                   \n",
      "          tpl_seqno      int                   \n",
      "          tpl_start     char                   \n",
      "\n",
      "Number of records present in the table dbo.raw:\n",
      "34602448\n",
      " [astroquery.eso.core]\n"
     ]
    }
   ],
   "source": [
    "eso_instance.query_main(help=True)"
   ]
  },
  {
   "cell_type": "markdown",
   "metadata": {},
   "source": [
    "### Number of records"
   ]
  },
  {
   "cell_type": "code",
   "execution_count": 14,
   "metadata": {},
   "outputs": [
    {
     "name": "stdout",
     "output_type": "stream",
     "text": [
      "Counts: 3.46e+07, 4.67e+05\n",
      "Counts: 2.12e+04, 2.20e+01\n"
     ]
    }
   ],
   "source": [
    "count_m = eso_instance.query_main(count_only=True)\n",
    "count_n = eso_instance.query_main(instrument=\"MUSE\", count_only=True)\n",
    "print(f\"Counts: {count_m:0.2e}, {count_n:0.2e}\")\n",
    "\n",
    "count_m = eso_instance.query_surveys('MUSE', count_only=True)\n",
    "count_n = eso_instance.query_surveys('MUSE', ra=18, dec=0 , radius=1, count_only=True)\n",
    "print(f\"Counts: {count_m:0.2e}, {count_n:0.2e}\")"
   ]
  },
  {
   "cell_type": "code",
   "execution_count": 15,
   "metadata": {},
   "outputs": [
    {
     "name": "stdout",
     "output_type": "stream",
     "text": [
      "              survey  num_records\n",
      "0         081.C-0827            1\n",
      "1         092.A-0472            4\n",
      "2         096.B-0054            8\n",
      "3        1100.A-0528            1\n",
      "4        1101.A-0127            4\n",
      "5         193.D-0232         5397\n",
      "6         195.B-0283          587\n",
      "7         196.B-0578          114\n",
      "8         196.D-0214          361\n",
      "9         197.A-0384           28\n",
      "10        198.A-0708          165\n",
      "11        60.A-9284H            2\n",
      "12         60.A-9493            1\n",
      "13             ADHOC         3720\n",
      "14          ALCOHOLS            5\n",
      "15           ALLSMOG           88\n",
      "16              ALMA       707211\n",
      "17             AMAZE           25\n",
      "18             AMBRE            3\n",
      "19       APEX-SciOps            1\n",
      "20          ATLASGAL           48\n",
      "21          CAFFEINE           96\n",
      "22           ENTROPY            3\n",
      "23       ePESSTOplus         4472\n",
      "24          ERIS-NIX          356\n",
      "25     ERIS-SPIFFIER         1104\n",
      "26          ESPRESSO        23527\n",
      "27           ESSENCE          185\n",
      "28               FDS          102\n",
      "29             FEROS        93079\n",
      "30          Fornax3D           31\n",
      "31        FORS2-SPEC        91035\n",
      "32           GAIAESO       194423\n",
      "33              GCAV         1058\n",
      "34           GIRAFFE      1111492\n",
      "35       GOODS_FORS2         1716\n",
      "36       GOODS_ISAAC           83\n",
      "37  GOODS_VIMOS_IMAG            2\n",
      "38  GOODS_VIMOS_SPEC         5053\n",
      "39          GW170817           15\n",
      "40             HARPS       341424\n",
      "41             HAWKI        28586\n",
      "42              HUGS           21\n",
      "43           INSPIRE          195\n",
      "44              KIDS        19340\n",
      "45              KMOS       125576\n",
      "46            LEGA-C         4154\n",
      "47              LESS            1\n",
      "48             MAGIC           18\n",
      "49              MUSE        21178\n",
      "50         MUSE-DEEP         1502\n",
      "51          MUSE-STD           35\n",
      "52  MW-BULGE-PSFPHOT         4096\n",
      "53              NGTS         1944\n",
      "54             NIRPS         4185\n",
      "55     OMEGACAM_INAF          125\n",
      "56         PENELLOPE          246\n",
      "57            PESSTO         7484\n",
      "58            PHANGS           38\n",
      "59           PIONIER         4681\n",
      "60            SHARKS           20\n",
      "61            SPHERE          602\n",
      "62             SUPER           20\n",
      "63        UltraVISTA           17\n",
      "64              UVES        84057\n",
      "65        UVES_SQUAD          467\n",
      "66           VANDELS         2167\n",
      "67             VEGAS           23\n",
      "68             VEILS         6526\n",
      "69             VEXAS          126\n",
      "70               VHS       458782\n",
      "71             VIDEO        31672\n",
      "72            VIKING        20711\n",
      "73             VIMOS        16728\n",
      "74          VINROUGE         2016\n",
      "75            VIPERS        91509\n",
      "76           VISIONS         3374\n",
      "77               VMC        42589\n",
      "78         VPHASplus        58831\n",
      "79         VST-ATLAS        62765\n",
      "80               VVV       216281\n",
      "81              VVVX       405625\n",
      "82            XQ-100          455\n",
      "83             XSGRB          518\n",
      "84          XSHOOTER       178314\n",
      "85           XShootU          260\n",
      "86               XSL         2634\n",
      "87           ZCOSMOS        20806\n"
     ]
    }
   ],
   "source": [
    "survey_nrows = {\"survey\": [], \"num_records\": []}\n",
    "for x in available_surveys:\n",
    "    n = eso_instance.query_surveys(x, count_only=True)\n",
    "    survey_nrows[\"num_records\"].append(n)\n",
    "    survey_nrows[\"survey\"].append(x)\n",
    "    print(x, n)\n",
    "\n",
    "clear_output()\n",
    "print(pd.DataFrame(survey_nrows).to_string())"
   ]
  },
  {
   "cell_type": "markdown",
   "metadata": {},
   "source": [
    "### Column names as list"
   ]
  },
  {
   "cell_type": "code",
   "execution_count": 16,
   "metadata": {},
   "outputs": [
    {
     "name": "stdout",
     "output_type": "stream",
     "text": [
      "                      0\n",
      "0        access_estsize\n",
      "1            access_url\n",
      "2          datalink_url\n",
      "3              date_obs\n",
      "4                   dec\n",
      "5               dec_pnt\n",
      "6           det_chip1id\n",
      "7      det_chop_ncycles\n",
      "8               det_dit\n",
      "9             det_expid\n",
      "10             det_ndit\n",
      "11               dp_cat\n",
      "12                dp_id\n",
      "13              dp_tech\n",
      "14              dp_type\n",
      "15              ecl_lat\n",
      "16              ecl_lon\n",
      "17            exp_start\n",
      "18             exposure\n",
      "19          filter_path\n",
      "20              gal_lat\n",
      "21              gal_lon\n",
      "22            grat_path\n",
      "23            gris_path\n",
      "24             ins_mode\n",
      "25           instrument\n",
      "26           lambda_max\n",
      "27           lambda_min\n",
      "28        last_mod_date\n",
      "29              mjd_obs\n",
      "30                ob_id\n",
      "31              ob_name\n",
      "32               object\n",
      "33             obs_mode\n",
      "34             origfile\n",
      "35               period\n",
      "36               pi_coi\n",
      "37              prog_id\n",
      "38           prog_title\n",
      "39            prog_type\n",
      "40                   ra\n",
      "41               ra_pnt\n",
      "42         release_date\n",
      "43             s_region\n",
      "44            slit_path\n",
      "45               target\n",
      "46         tel_airm_end\n",
      "47       tel_airm_start\n",
      "48              tel_alt\n",
      "49    tel_ambi_fwhm_end\n",
      "50  tel_ambi_fwhm_start\n",
      "51    tel_ambi_pres_end\n",
      "52  tel_ambi_pres_start\n",
      "53        tel_ambi_rhum\n",
      "54               tel_az\n",
      "55            telescope\n",
      "56            tpl_expno\n",
      "57               tpl_id\n",
      "58             tpl_name\n",
      "59             tpl_nexp\n",
      "60            tpl_seqno\n",
      "61            tpl_start\n"
     ]
    }
   ],
   "source": [
    "column_list = list(eso_instance.query_main(top=1).columns)\n",
    "print(pd.DataFrame(column_list).to_string())"
   ]
  },
  {
   "cell_type": "markdown",
   "metadata": {},
   "source": [
    "## Limit the number of records - _top_ vs _maxrec_"
   ]
  },
  {
   "cell_type": "markdown",
   "metadata": {},
   "source": [
    " - `top`: \"I don't care how many records there are, give me only the _top N_, because my science requires only those.\"\n",
    " - `maxrec`: \"Give me as many records as possible given my computational resources and time constraints. Please warn me if results are truncated.\"\n",
    "\n",
    "Key Differences:\n",
    "\n",
    " - Scope: `TOP` is used within the ADQL query to limit the number of rows returned by that specific query. In contrast, `maxrec` is a TAP service parameter that sets an upper limit on the number of records any query can return, acting as a server-side `safeguard` control.\n",
    "\n",
    " - Implementation: `TOP` is specified in the query language (ADQL), whereas `maxrec` is a parameter of the TAP service protocol, often set outside the query itself."
   ]
  },
  {
   "cell_type": "code",
   "execution_count": 17,
   "metadata": {},
   "outputs": [
    {
     "data": {
      "text/html": [
       "<div><i>Table length=3</i>\n",
       "<table id=\"table126883739075216\" class=\"table-striped table-bordered table-condensed\">\n",
       "<thead><tr><th>access_estsize</th><th>access_url</th><th>datalink_url</th><th>date_obs</th><th>dec</th><th>dec_pnt</th><th>det_chip1id</th><th>det_chop_ncycles</th><th>det_dit</th><th>det_expid</th><th>det_ndit</th><th>dp_cat</th><th>dp_id</th><th>dp_tech</th><th>dp_type</th><th>ecl_lat</th><th>ecl_lon</th><th>exp_start</th><th>exposure</th><th>filter_path</th><th>gal_lat</th><th>gal_lon</th><th>grat_path</th><th>gris_path</th><th>ins_mode</th><th>instrument</th><th>lambda_max</th><th>lambda_min</th><th>last_mod_date</th><th>mjd_obs</th><th>ob_id</th><th>ob_name</th><th>object</th><th>obs_mode</th><th>origfile</th><th>period</th><th>pi_coi</th><th>prog_id</th><th>prog_title</th><th>prog_type</th><th>ra</th><th>ra_pnt</th><th>release_date</th><th>s_region</th><th>slit_path</th><th>target</th><th>tel_airm_end</th><th>tel_airm_start</th><th>tel_alt</th><th>tel_ambi_fwhm_end</th><th>tel_ambi_fwhm_start</th><th>tel_ambi_pres_end</th><th>tel_ambi_pres_start</th><th>tel_ambi_rhum</th><th>tel_az</th><th>telescope</th><th>tpl_expno</th><th>tpl_id</th><th>tpl_name</th><th>tpl_nexp</th><th>tpl_seqno</th><th>tpl_start</th></tr></thead>\n",
       "<thead><tr><th>kbyte</th><th></th><th></th><th></th><th>deg</th><th>deg</th><th></th><th></th><th>s</th><th></th><th></th><th></th><th></th><th></th><th></th><th>deg</th><th>deg</th><th></th><th>s</th><th></th><th>deg</th><th>deg</th><th></th><th></th><th></th><th></th><th>nm</th><th>nm</th><th></th><th>d</th><th></th><th></th><th></th><th></th><th></th><th></th><th></th><th></th><th></th><th></th><th>deg</th><th>deg</th><th></th><th></th><th></th><th></th><th></th><th></th><th>deg</th><th>arcsec</th><th>arcsec</th><th>hPa</th><th>hPa</th><th>%</th><th>deg</th><th></th><th></th><th></th><th></th><th></th><th></th><th></th></tr></thead>\n",
       "<thead><tr><th>int64</th><th>object</th><th>object</th><th>object</th><th>float64</th><th>float64</th><th>object</th><th>int16</th><th>float32</th><th>int16</th><th>int16</th><th>object</th><th>object</th><th>object</th><th>object</th><th>float64</th><th>float64</th><th>object</th><th>float32</th><th>object</th><th>float64</th><th>float64</th><th>object</th><th>object</th><th>object</th><th>object</th><th>float64</th><th>float64</th><th>object</th><th>float64</th><th>int32</th><th>object</th><th>object</th><th>object</th><th>object</th><th>int16</th><th>object</th><th>object</th><th>object</th><th>int32</th><th>float64</th><th>float64</th><th>object</th><th>object</th><th>object</th><th>object</th><th>float32</th><th>float32</th><th>float32</th><th>float32</th><th>float32</th><th>float32</th><th>float32</th><th>float32</th><th>float32</th><th>object</th><th>int32</th><th>object</th><th>object</th><th>int32</th><th>int32</th><th>object</th></tr></thead>\n",
       "<tr><td>25918</td><td>https://dataportal.eso.org/dataPortal/file/ALPACA.2022-12-07T00:55:05.270</td><td>https://archive.eso.org/datalink/links?ID=ivo://eso.org/ID?ALPACA.2022-12-07T00:55:05.270</td><td>2022-12-07T00:55:05.270</td><td>-24.74604694</td><td>-24.746047</td><td>CMOS-GS16MP</td><td>--</td><td>--</td><td>--</td><td>--</td><td>CALIB</td><td>ALPACA.2022-12-07T00:55:05.270</td><td>IMAGE</td><td>SKY</td><td>-30.061165</td><td>6.838335</td><td>2022-12-07T00:55:05.270Z</td><td>120.0</td><td>LUMINANCE</td><td>-84.089755</td><td>190.504407</td><td></td><td></td><td></td><td>ALPACA</td><td>700.0</td><td>400.0</td><td>2023-06-02T13:20:55.733Z</td><td>59920.03825543982</td><td>--</td><td></td><td>ALL SKY</td><td>s</td><td>ALPACA.2022-12-07T00-55-05.270.fits</td><td>60</td><td>ESO PARANAL OBSERVATORY</td><td>60.A-9300(B)</td><td>MASCOT ENGINEERING RUN</td><td>0</td><td>18.87548</td><td>18.87548</td><td>2022-12-07T00:55:05.270Z</td><td>POSITION J2000 18.87548000000001 -24.746047</td><td></td><td></td><td>1.0</td><td>1.0</td><td>90.0</td><td>--</td><td>--</td><td>--</td><td>--</td><td>--</td><td>0.0</td><td>ALPACA</td><td>--</td><td></td><td></td><td>--</td><td>--</td><td></td></tr>\n",
       "<tr><td>25911</td><td>https://dataportal.eso.org/dataPortal/file/ALPACA.2022-12-07T00:57:07.400</td><td>https://archive.eso.org/datalink/links?ID=ivo://eso.org/ID?ALPACA.2022-12-07T00:57:07.400</td><td>2022-12-07T00:57:07.400</td><td>-24.74570194</td><td>-24.745702</td><td>CMOS-GS16MP</td><td>--</td><td>--</td><td>--</td><td>--</td><td>CALIB</td><td>ALPACA.2022-12-07T00:57:07.400</td><td>IMAGE</td><td>SKY</td><td>-30.262454</td><td>7.321629</td><td>2022-12-07T00:57:07.400Z</td><td>120.0</td><td>LUMINANCE</td><td>-83.666774</td><td>192.289978</td><td></td><td></td><td></td><td>ALPACA</td><td>700.0</td><td>400.0</td><td>2023-06-02T13:20:55.733Z</td><td>59920.03966898148</td><td>--</td><td></td><td>ALL SKY</td><td>s</td><td>ALPACA.2022-12-07T00-57-07.400.fits</td><td>60</td><td>ESO PARANAL OBSERVATORY</td><td>60.A-9300(B)</td><td>MASCOT ENGINEERING RUN</td><td>0</td><td>19.38619194</td><td>19.386192</td><td>2022-12-07T00:57:07.400Z</td><td>POSITION J2000 19.386191999999994 -24.745702</td><td></td><td></td><td>1.0</td><td>1.0</td><td>90.0</td><td>--</td><td>--</td><td>--</td><td>--</td><td>--</td><td>0.0</td><td>ALPACA</td><td>--</td><td></td><td></td><td>--</td><td>--</td><td></td></tr>\n",
       "<tr><td>25775</td><td>https://dataportal.eso.org/dataPortal/file/ALPACA.2022-12-07T00:59:14.840</td><td>https://archive.eso.org/datalink/links?ID=ivo://eso.org/ID?ALPACA.2022-12-07T00:59:14.840</td><td>2022-12-07T00:59:14.840</td><td>-24.74533194</td><td>-24.745332</td><td>CMOS-GS16MP</td><td>--</td><td>--</td><td>--</td><td>--</td><td>CALIB</td><td>ALPACA.2022-12-07T00:59:14.840</td><td>IMAGE</td><td>SKY</td><td>-30.472252</td><td>7.827128</td><td>2022-12-07T00:59:14.840Z</td><td>120.0</td><td>LUMINANCE</td><td>-83.220412</td><td>193.929393</td><td></td><td></td><td></td><td>ALPACA</td><td>700.0</td><td>400.0</td><td>2023-06-02T13:20:55.733Z</td><td>59920.04114398148</td><td>--</td><td></td><td>ALL SKY</td><td>s</td><td>ALPACA.2022-12-07T00-59-14.840.fits</td><td>60</td><td>ESO PARANAL OBSERVATORY</td><td>60.A-9300(B)</td><td>MASCOT ENGINEERING RUN</td><td>0</td><td>19.91910694</td><td>19.919107</td><td>2022-12-07T00:59:14.840Z</td><td>POSITION J2000 19.919106999999997 -24.745332</td><td></td><td></td><td>1.0</td><td>1.0</td><td>90.0</td><td>--</td><td>--</td><td>--</td><td>--</td><td>--</td><td>0.0</td><td>ALPACA</td><td>--</td><td></td><td></td><td>--</td><td>--</td><td></td></tr>\n",
       "</table></div>"
      ],
      "text/plain": [
       "<Table length=3>\n",
       "access_estsize ... tpl_start\n",
       "    kbyte      ...          \n",
       "    int64      ...   object \n",
       "-------------- ... ---------\n",
       "         25918 ...          \n",
       "         25911 ...          \n",
       "         25775 ...          "
      ]
     },
     "execution_count": 17,
     "metadata": {},
     "output_type": "execute_result"
    }
   ],
   "source": [
    "eso_instance.maxrec = None \n",
    "eso_instance.query_main(top=3)"
   ]
  },
  {
   "cell_type": "code",
   "execution_count": 18,
   "metadata": {},
   "outputs": [
    {
     "name": "stderr",
     "output_type": "stream",
     "text": [
      "/home/codespace/.python/current/lib/python3.12/site-packages/pyvo/dal/query.py:341: DALOverflowWarning: Partial result set. Potential causes MAXREC, async storage space, etc.\n",
      "  warn(\"Partial result set. Potential causes MAXREC, async storage space, etc.\",\n",
      "WARNING: MaxResultsWarning: Results truncated to 3. To retrieve all the records set to None the maxrec attribute [astroquery.eso.core]\n"
     ]
    },
    {
     "data": {
      "text/html": [
       "<div><i>Table length=3</i>\n",
       "<table id=\"table126883760820288\" class=\"table-striped table-bordered table-condensed\">\n",
       "<thead><tr><th>access_estsize</th><th>access_url</th><th>datalink_url</th><th>date_obs</th><th>dec</th><th>dec_pnt</th><th>det_chip1id</th><th>det_chop_ncycles</th><th>det_dit</th><th>det_expid</th><th>det_ndit</th><th>dp_cat</th><th>dp_id</th><th>dp_tech</th><th>dp_type</th><th>ecl_lat</th><th>ecl_lon</th><th>exp_start</th><th>exposure</th><th>filter_path</th><th>gal_lat</th><th>gal_lon</th><th>grat_path</th><th>gris_path</th><th>ins_mode</th><th>instrument</th><th>lambda_max</th><th>lambda_min</th><th>last_mod_date</th><th>mjd_obs</th><th>ob_id</th><th>ob_name</th><th>object</th><th>obs_mode</th><th>origfile</th><th>period</th><th>pi_coi</th><th>prog_id</th><th>prog_title</th><th>prog_type</th><th>ra</th><th>ra_pnt</th><th>release_date</th><th>s_region</th><th>slit_path</th><th>target</th><th>tel_airm_end</th><th>tel_airm_start</th><th>tel_alt</th><th>tel_ambi_fwhm_end</th><th>tel_ambi_fwhm_start</th><th>tel_ambi_pres_end</th><th>tel_ambi_pres_start</th><th>tel_ambi_rhum</th><th>tel_az</th><th>telescope</th><th>tpl_expno</th><th>tpl_id</th><th>tpl_name</th><th>tpl_nexp</th><th>tpl_seqno</th><th>tpl_start</th></tr></thead>\n",
       "<thead><tr><th>kbyte</th><th></th><th></th><th></th><th>deg</th><th>deg</th><th></th><th></th><th>s</th><th></th><th></th><th></th><th></th><th></th><th></th><th>deg</th><th>deg</th><th></th><th>s</th><th></th><th>deg</th><th>deg</th><th></th><th></th><th></th><th></th><th>nm</th><th>nm</th><th></th><th>d</th><th></th><th></th><th></th><th></th><th></th><th></th><th></th><th></th><th></th><th></th><th>deg</th><th>deg</th><th></th><th></th><th></th><th></th><th></th><th></th><th>deg</th><th>arcsec</th><th>arcsec</th><th>hPa</th><th>hPa</th><th>%</th><th>deg</th><th></th><th></th><th></th><th></th><th></th><th></th><th></th></tr></thead>\n",
       "<thead><tr><th>int64</th><th>object</th><th>object</th><th>object</th><th>float64</th><th>float64</th><th>object</th><th>int16</th><th>float32</th><th>int16</th><th>int16</th><th>object</th><th>object</th><th>object</th><th>object</th><th>float64</th><th>float64</th><th>object</th><th>float32</th><th>object</th><th>float64</th><th>float64</th><th>object</th><th>object</th><th>object</th><th>object</th><th>float64</th><th>float64</th><th>object</th><th>float64</th><th>int32</th><th>object</th><th>object</th><th>object</th><th>object</th><th>int16</th><th>object</th><th>object</th><th>object</th><th>int32</th><th>float64</th><th>float64</th><th>object</th><th>object</th><th>object</th><th>object</th><th>float32</th><th>float32</th><th>float32</th><th>float32</th><th>float32</th><th>float32</th><th>float32</th><th>float32</th><th>float32</th><th>object</th><th>int32</th><th>object</th><th>object</th><th>int32</th><th>int32</th><th>object</th></tr></thead>\n",
       "<tr><td>25918</td><td>https://dataportal.eso.org/dataPortal/file/ALPACA.2022-12-07T00:55:05.270</td><td>https://archive.eso.org/datalink/links?ID=ivo://eso.org/ID?ALPACA.2022-12-07T00:55:05.270</td><td>2022-12-07T00:55:05.270</td><td>-24.74604694</td><td>-24.746047</td><td>CMOS-GS16MP</td><td>--</td><td>--</td><td>--</td><td>--</td><td>CALIB</td><td>ALPACA.2022-12-07T00:55:05.270</td><td>IMAGE</td><td>SKY</td><td>-30.061165</td><td>6.838335</td><td>2022-12-07T00:55:05.270Z</td><td>120.0</td><td>LUMINANCE</td><td>-84.089755</td><td>190.504407</td><td></td><td></td><td></td><td>ALPACA</td><td>700.0</td><td>400.0</td><td>2023-06-02T13:20:55.733Z</td><td>59920.03825543982</td><td>--</td><td></td><td>ALL SKY</td><td>s</td><td>ALPACA.2022-12-07T00-55-05.270.fits</td><td>60</td><td>ESO PARANAL OBSERVATORY</td><td>60.A-9300(B)</td><td>MASCOT ENGINEERING RUN</td><td>0</td><td>18.87548</td><td>18.87548</td><td>2022-12-07T00:55:05.270Z</td><td>POSITION J2000 18.87548000000001 -24.746047</td><td></td><td></td><td>1.0</td><td>1.0</td><td>90.0</td><td>--</td><td>--</td><td>--</td><td>--</td><td>--</td><td>0.0</td><td>ALPACA</td><td>--</td><td></td><td></td><td>--</td><td>--</td><td></td></tr>\n",
       "<tr><td>25911</td><td>https://dataportal.eso.org/dataPortal/file/ALPACA.2022-12-07T00:57:07.400</td><td>https://archive.eso.org/datalink/links?ID=ivo://eso.org/ID?ALPACA.2022-12-07T00:57:07.400</td><td>2022-12-07T00:57:07.400</td><td>-24.74570194</td><td>-24.745702</td><td>CMOS-GS16MP</td><td>--</td><td>--</td><td>--</td><td>--</td><td>CALIB</td><td>ALPACA.2022-12-07T00:57:07.400</td><td>IMAGE</td><td>SKY</td><td>-30.262454</td><td>7.321629</td><td>2022-12-07T00:57:07.400Z</td><td>120.0</td><td>LUMINANCE</td><td>-83.666774</td><td>192.289978</td><td></td><td></td><td></td><td>ALPACA</td><td>700.0</td><td>400.0</td><td>2023-06-02T13:20:55.733Z</td><td>59920.03966898148</td><td>--</td><td></td><td>ALL SKY</td><td>s</td><td>ALPACA.2022-12-07T00-57-07.400.fits</td><td>60</td><td>ESO PARANAL OBSERVATORY</td><td>60.A-9300(B)</td><td>MASCOT ENGINEERING RUN</td><td>0</td><td>19.38619194</td><td>19.386192</td><td>2022-12-07T00:57:07.400Z</td><td>POSITION J2000 19.386191999999994 -24.745702</td><td></td><td></td><td>1.0</td><td>1.0</td><td>90.0</td><td>--</td><td>--</td><td>--</td><td>--</td><td>--</td><td>0.0</td><td>ALPACA</td><td>--</td><td></td><td></td><td>--</td><td>--</td><td></td></tr>\n",
       "<tr><td>25775</td><td>https://dataportal.eso.org/dataPortal/file/ALPACA.2022-12-07T00:59:14.840</td><td>https://archive.eso.org/datalink/links?ID=ivo://eso.org/ID?ALPACA.2022-12-07T00:59:14.840</td><td>2022-12-07T00:59:14.840</td><td>-24.74533194</td><td>-24.745332</td><td>CMOS-GS16MP</td><td>--</td><td>--</td><td>--</td><td>--</td><td>CALIB</td><td>ALPACA.2022-12-07T00:59:14.840</td><td>IMAGE</td><td>SKY</td><td>-30.472252</td><td>7.827128</td><td>2022-12-07T00:59:14.840Z</td><td>120.0</td><td>LUMINANCE</td><td>-83.220412</td><td>193.929393</td><td></td><td></td><td></td><td>ALPACA</td><td>700.0</td><td>400.0</td><td>2023-06-02T13:20:55.733Z</td><td>59920.04114398148</td><td>--</td><td></td><td>ALL SKY</td><td>s</td><td>ALPACA.2022-12-07T00-59-14.840.fits</td><td>60</td><td>ESO PARANAL OBSERVATORY</td><td>60.A-9300(B)</td><td>MASCOT ENGINEERING RUN</td><td>0</td><td>19.91910694</td><td>19.919107</td><td>2022-12-07T00:59:14.840Z</td><td>POSITION J2000 19.919106999999997 -24.745332</td><td></td><td></td><td>1.0</td><td>1.0</td><td>90.0</td><td>--</td><td>--</td><td>--</td><td>--</td><td>--</td><td>0.0</td><td>ALPACA</td><td>--</td><td></td><td></td><td>--</td><td>--</td><td></td></tr>\n",
       "</table></div>"
      ],
      "text/plain": [
       "<Table length=3>\n",
       "access_estsize ... tpl_start\n",
       "    kbyte      ...          \n",
       "    int64      ...   object \n",
       "-------------- ... ---------\n",
       "         25918 ...          \n",
       "         25911 ...          \n",
       "         25775 ...          "
      ]
     },
     "execution_count": 18,
     "metadata": {},
     "output_type": "execute_result"
    }
   ],
   "source": [
    "eso_instance.maxrec = 3\n",
    "eso_instance.query_main()"
   ]
  },
  {
   "cell_type": "code",
   "execution_count": 19,
   "metadata": {},
   "outputs": [
    {
     "name": "stderr",
     "output_type": "stream",
     "text": [
      "WARNING: MaxResultsWarning: Results truncated to 5. To retrieve all the records set to None the maxrec attribute [astroquery.eso.core]\n"
     ]
    },
    {
     "data": {
      "text/html": [
       "<div><i>Table length=5</i>\n",
       "<table id=\"table126883741888064\" class=\"table-striped table-bordered table-condensed\">\n",
       "<thead><tr><th>access_estsize</th><th>access_url</th><th>datalink_url</th><th>date_obs</th><th>dec</th><th>dec_pnt</th><th>det_chip1id</th><th>det_chop_ncycles</th><th>det_dit</th><th>det_expid</th><th>det_ndit</th><th>dp_cat</th><th>dp_id</th><th>dp_tech</th><th>dp_type</th><th>ecl_lat</th><th>ecl_lon</th><th>exp_start</th><th>exposure</th><th>filter_path</th><th>gal_lat</th><th>gal_lon</th><th>grat_path</th><th>gris_path</th><th>ins_mode</th><th>instrument</th><th>lambda_max</th><th>lambda_min</th><th>last_mod_date</th><th>mjd_obs</th><th>ob_id</th><th>ob_name</th><th>object</th><th>obs_mode</th><th>origfile</th><th>period</th><th>pi_coi</th><th>prog_id</th><th>prog_title</th><th>prog_type</th><th>ra</th><th>ra_pnt</th><th>release_date</th><th>s_region</th><th>slit_path</th><th>target</th><th>tel_airm_end</th><th>tel_airm_start</th><th>tel_alt</th><th>tel_ambi_fwhm_end</th><th>tel_ambi_fwhm_start</th><th>tel_ambi_pres_end</th><th>tel_ambi_pres_start</th><th>tel_ambi_rhum</th><th>tel_az</th><th>telescope</th><th>tpl_expno</th><th>tpl_id</th><th>tpl_name</th><th>tpl_nexp</th><th>tpl_seqno</th><th>tpl_start</th></tr></thead>\n",
       "<thead><tr><th>kbyte</th><th></th><th></th><th></th><th>deg</th><th>deg</th><th></th><th></th><th>s</th><th></th><th></th><th></th><th></th><th></th><th></th><th>deg</th><th>deg</th><th></th><th>s</th><th></th><th>deg</th><th>deg</th><th></th><th></th><th></th><th></th><th>nm</th><th>nm</th><th></th><th>d</th><th></th><th></th><th></th><th></th><th></th><th></th><th></th><th></th><th></th><th></th><th>deg</th><th>deg</th><th></th><th></th><th></th><th></th><th></th><th></th><th>deg</th><th>arcsec</th><th>arcsec</th><th>hPa</th><th>hPa</th><th>%</th><th>deg</th><th></th><th></th><th></th><th></th><th></th><th></th><th></th></tr></thead>\n",
       "<thead><tr><th>int64</th><th>object</th><th>object</th><th>object</th><th>float64</th><th>float64</th><th>object</th><th>int16</th><th>float32</th><th>int16</th><th>int16</th><th>object</th><th>object</th><th>object</th><th>object</th><th>float64</th><th>float64</th><th>object</th><th>float32</th><th>object</th><th>float64</th><th>float64</th><th>object</th><th>object</th><th>object</th><th>object</th><th>float64</th><th>float64</th><th>object</th><th>float64</th><th>int32</th><th>object</th><th>object</th><th>object</th><th>object</th><th>int16</th><th>object</th><th>object</th><th>object</th><th>int32</th><th>float64</th><th>float64</th><th>object</th><th>object</th><th>object</th><th>object</th><th>float32</th><th>float32</th><th>float32</th><th>float32</th><th>float32</th><th>float32</th><th>float32</th><th>float32</th><th>float32</th><th>object</th><th>int32</th><th>object</th><th>object</th><th>int32</th><th>int32</th><th>object</th></tr></thead>\n",
       "<tr><td>25918</td><td>https://dataportal.eso.org/dataPortal/file/ALPACA.2022-12-07T00:55:05.270</td><td>https://archive.eso.org/datalink/links?ID=ivo://eso.org/ID?ALPACA.2022-12-07T00:55:05.270</td><td>2022-12-07T00:55:05.270</td><td>-24.74604694</td><td>-24.746047</td><td>CMOS-GS16MP</td><td>--</td><td>--</td><td>--</td><td>--</td><td>CALIB</td><td>ALPACA.2022-12-07T00:55:05.270</td><td>IMAGE</td><td>SKY</td><td>-30.061165</td><td>6.838335</td><td>2022-12-07T00:55:05.270Z</td><td>120.0</td><td>LUMINANCE</td><td>-84.089755</td><td>190.504407</td><td></td><td></td><td></td><td>ALPACA</td><td>700.0</td><td>400.0</td><td>2023-06-02T13:20:55.733Z</td><td>59920.03825543982</td><td>--</td><td></td><td>ALL SKY</td><td>s</td><td>ALPACA.2022-12-07T00-55-05.270.fits</td><td>60</td><td>ESO PARANAL OBSERVATORY</td><td>60.A-9300(B)</td><td>MASCOT ENGINEERING RUN</td><td>0</td><td>18.87548</td><td>18.87548</td><td>2022-12-07T00:55:05.270Z</td><td>POSITION J2000 18.87548000000001 -24.746047</td><td></td><td></td><td>1.0</td><td>1.0</td><td>90.0</td><td>--</td><td>--</td><td>--</td><td>--</td><td>--</td><td>0.0</td><td>ALPACA</td><td>--</td><td></td><td></td><td>--</td><td>--</td><td></td></tr>\n",
       "<tr><td>25911</td><td>https://dataportal.eso.org/dataPortal/file/ALPACA.2022-12-07T00:57:07.400</td><td>https://archive.eso.org/datalink/links?ID=ivo://eso.org/ID?ALPACA.2022-12-07T00:57:07.400</td><td>2022-12-07T00:57:07.400</td><td>-24.74570194</td><td>-24.745702</td><td>CMOS-GS16MP</td><td>--</td><td>--</td><td>--</td><td>--</td><td>CALIB</td><td>ALPACA.2022-12-07T00:57:07.400</td><td>IMAGE</td><td>SKY</td><td>-30.262454</td><td>7.321629</td><td>2022-12-07T00:57:07.400Z</td><td>120.0</td><td>LUMINANCE</td><td>-83.666774</td><td>192.289978</td><td></td><td></td><td></td><td>ALPACA</td><td>700.0</td><td>400.0</td><td>2023-06-02T13:20:55.733Z</td><td>59920.03966898148</td><td>--</td><td></td><td>ALL SKY</td><td>s</td><td>ALPACA.2022-12-07T00-57-07.400.fits</td><td>60</td><td>ESO PARANAL OBSERVATORY</td><td>60.A-9300(B)</td><td>MASCOT ENGINEERING RUN</td><td>0</td><td>19.38619194</td><td>19.386192</td><td>2022-12-07T00:57:07.400Z</td><td>POSITION J2000 19.386191999999994 -24.745702</td><td></td><td></td><td>1.0</td><td>1.0</td><td>90.0</td><td>--</td><td>--</td><td>--</td><td>--</td><td>--</td><td>0.0</td><td>ALPACA</td><td>--</td><td></td><td></td><td>--</td><td>--</td><td></td></tr>\n",
       "<tr><td>25775</td><td>https://dataportal.eso.org/dataPortal/file/ALPACA.2022-12-07T00:59:14.840</td><td>https://archive.eso.org/datalink/links?ID=ivo://eso.org/ID?ALPACA.2022-12-07T00:59:14.840</td><td>2022-12-07T00:59:14.840</td><td>-24.74533194</td><td>-24.745332</td><td>CMOS-GS16MP</td><td>--</td><td>--</td><td>--</td><td>--</td><td>CALIB</td><td>ALPACA.2022-12-07T00:59:14.840</td><td>IMAGE</td><td>SKY</td><td>-30.472252</td><td>7.827128</td><td>2022-12-07T00:59:14.840Z</td><td>120.0</td><td>LUMINANCE</td><td>-83.220412</td><td>193.929393</td><td></td><td></td><td></td><td>ALPACA</td><td>700.0</td><td>400.0</td><td>2023-06-02T13:20:55.733Z</td><td>59920.04114398148</td><td>--</td><td></td><td>ALL SKY</td><td>s</td><td>ALPACA.2022-12-07T00-59-14.840.fits</td><td>60</td><td>ESO PARANAL OBSERVATORY</td><td>60.A-9300(B)</td><td>MASCOT ENGINEERING RUN</td><td>0</td><td>19.91910694</td><td>19.919107</td><td>2022-12-07T00:59:14.840Z</td><td>POSITION J2000 19.919106999999997 -24.745332</td><td></td><td></td><td>1.0</td><td>1.0</td><td>90.0</td><td>--</td><td>--</td><td>--</td><td>--</td><td>--</td><td>0.0</td><td>ALPACA</td><td>--</td><td></td><td></td><td>--</td><td>--</td><td></td></tr>\n",
       "<tr><td>25674</td><td>https://dataportal.eso.org/dataPortal/file/ALPACA.2022-12-07T01:01:16.900</td><td>https://archive.eso.org/datalink/links?ID=ivo://eso.org/ID?ALPACA.2022-12-07T01:01:16.900</td><td>2022-12-07T01:01:16.900</td><td>-24.74496888</td><td>-24.744969</td><td>CMOS-GS16MP</td><td>--</td><td>--</td><td>--</td><td>--</td><td>CALIB</td><td>ALPACA.2022-12-07T01:01:16.900</td><td>IMAGE</td><td>SKY</td><td>-30.672945</td><td>8.312446</td><td>2022-12-07T01:01:16.900Z</td><td>120.0</td><td>LUMINANCE</td><td>-82.788982</td><td>195.322223</td><td></td><td></td><td></td><td>ALPACA</td><td>700.0</td><td>400.0</td><td>2023-06-02T13:20:55.733Z</td><td>59920.04255671296</td><td>--</td><td></td><td>ALL SKY</td><td>s</td><td>ALPACA.2022-12-07T01-01-16.900.fits</td><td>60</td><td>ESO PARANAL OBSERVATORY</td><td>60.A-9300(B)</td><td>MASCOT ENGINEERING RUN</td><td>0</td><td>20.42952305</td><td>20.429523</td><td>2022-12-07T01:01:16.900Z</td><td>POSITION J2000 20.42952299999999 -24.744969</td><td></td><td></td><td>1.0</td><td>1.0</td><td>90.0</td><td>--</td><td>--</td><td>--</td><td>--</td><td>--</td><td>0.0</td><td>ALPACA</td><td>--</td><td></td><td></td><td>--</td><td>--</td><td></td></tr>\n",
       "<tr><td>26348</td><td>https://dataportal.eso.org/dataPortal/file/ALPACA.2022-12-07T01:03:24.990</td><td>https://archive.eso.org/datalink/links?ID=ivo://eso.org/ID?ALPACA.2022-12-07T01:03:24.990</td><td>2022-12-07T01:03:24.990</td><td>-24.74457694</td><td>-24.744577</td><td>CMOS-GS16MP</td><td>--</td><td>--</td><td>--</td><td>--</td><td>CALIB</td><td>ALPACA.2022-12-07T01:03:24.990</td><td>IMAGE</td><td>SKY</td><td>-30.883275</td><td>8.822981</td><td>2022-12-07T01:03:24.990Z</td><td>120.0</td><td>LUMINANCE</td><td>-82.332845</td><td>196.628428</td><td></td><td></td><td></td><td>ALPACA</td><td>700.0</td><td>400.0</td><td>2023-06-02T13:20:55.733Z</td><td>59920.04403923611</td><td>--</td><td></td><td>ALL SKY</td><td>s</td><td>ALPACA.2022-12-07T01-03-24.990.fits</td><td>60</td><td>ESO PARANAL OBSERVATORY</td><td>60.A-9300(B)</td><td>MASCOT ENGINEERING RUN</td><td>0</td><td>20.96515388</td><td>20.965154</td><td>2022-12-07T01:03:24.990Z</td><td>POSITION J2000 20.965154000000013 -24.744577</td><td></td><td></td><td>1.0</td><td>1.0</td><td>90.0</td><td>--</td><td>--</td><td>--</td><td>--</td><td>--</td><td>0.0</td><td>ALPACA</td><td>--</td><td></td><td></td><td>--</td><td>--</td><td></td></tr>\n",
       "</table></div>"
      ],
      "text/plain": [
       "<Table length=5>\n",
       "access_estsize ... tpl_start\n",
       "    kbyte      ...          \n",
       "    int64      ...   object \n",
       "-------------- ... ---------\n",
       "         25918 ...          \n",
       "         25911 ...          \n",
       "         25775 ...          \n",
       "         25674 ...          \n",
       "         26348 ...          "
      ]
     },
     "execution_count": 19,
     "metadata": {},
     "output_type": "execute_result"
    }
   ],
   "source": [
    "eso_instance.maxrec = 5\n",
    "eso_instance.query_main(top=10)"
   ]
  },
  {
   "cell_type": "code",
   "execution_count": 20,
   "metadata": {},
   "outputs": [
    {
     "data": {
      "text/html": [
       "<div><i>Table length=5</i>\n",
       "<table id=\"table126883742220896\" class=\"table-striped table-bordered table-condensed\">\n",
       "<thead><tr><th>access_estsize</th><th>access_url</th><th>datalink_url</th><th>date_obs</th><th>dec</th><th>dec_pnt</th><th>det_chip1id</th><th>det_chop_ncycles</th><th>det_dit</th><th>det_expid</th><th>det_ndit</th><th>dp_cat</th><th>dp_id</th><th>dp_tech</th><th>dp_type</th><th>ecl_lat</th><th>ecl_lon</th><th>exp_start</th><th>exposure</th><th>filter_path</th><th>gal_lat</th><th>gal_lon</th><th>grat_path</th><th>gris_path</th><th>ins_mode</th><th>instrument</th><th>lambda_max</th><th>lambda_min</th><th>last_mod_date</th><th>mjd_obs</th><th>ob_id</th><th>ob_name</th><th>object</th><th>obs_mode</th><th>origfile</th><th>period</th><th>pi_coi</th><th>prog_id</th><th>prog_title</th><th>prog_type</th><th>ra</th><th>ra_pnt</th><th>release_date</th><th>s_region</th><th>slit_path</th><th>target</th><th>tel_airm_end</th><th>tel_airm_start</th><th>tel_alt</th><th>tel_ambi_fwhm_end</th><th>tel_ambi_fwhm_start</th><th>tel_ambi_pres_end</th><th>tel_ambi_pres_start</th><th>tel_ambi_rhum</th><th>tel_az</th><th>telescope</th><th>tpl_expno</th><th>tpl_id</th><th>tpl_name</th><th>tpl_nexp</th><th>tpl_seqno</th><th>tpl_start</th></tr></thead>\n",
       "<thead><tr><th>kbyte</th><th></th><th></th><th></th><th>deg</th><th>deg</th><th></th><th></th><th>s</th><th></th><th></th><th></th><th></th><th></th><th></th><th>deg</th><th>deg</th><th></th><th>s</th><th></th><th>deg</th><th>deg</th><th></th><th></th><th></th><th></th><th>nm</th><th>nm</th><th></th><th>d</th><th></th><th></th><th></th><th></th><th></th><th></th><th></th><th></th><th></th><th></th><th>deg</th><th>deg</th><th></th><th></th><th></th><th></th><th></th><th></th><th>deg</th><th>arcsec</th><th>arcsec</th><th>hPa</th><th>hPa</th><th>%</th><th>deg</th><th></th><th></th><th></th><th></th><th></th><th></th><th></th></tr></thead>\n",
       "<thead><tr><th>int64</th><th>object</th><th>object</th><th>object</th><th>float64</th><th>float64</th><th>object</th><th>int16</th><th>float32</th><th>int16</th><th>int16</th><th>object</th><th>object</th><th>object</th><th>object</th><th>float64</th><th>float64</th><th>object</th><th>float32</th><th>object</th><th>float64</th><th>float64</th><th>object</th><th>object</th><th>object</th><th>object</th><th>float64</th><th>float64</th><th>object</th><th>float64</th><th>int32</th><th>object</th><th>object</th><th>object</th><th>object</th><th>int16</th><th>object</th><th>object</th><th>object</th><th>int32</th><th>float64</th><th>float64</th><th>object</th><th>object</th><th>object</th><th>object</th><th>float32</th><th>float32</th><th>float32</th><th>float32</th><th>float32</th><th>float32</th><th>float32</th><th>float32</th><th>float32</th><th>object</th><th>int32</th><th>object</th><th>object</th><th>int32</th><th>int32</th><th>object</th></tr></thead>\n",
       "<tr><td>25918</td><td>https://dataportal.eso.org/dataPortal/file/ALPACA.2022-12-07T00:55:05.270</td><td>https://archive.eso.org/datalink/links?ID=ivo://eso.org/ID?ALPACA.2022-12-07T00:55:05.270</td><td>2022-12-07T00:55:05.270</td><td>-24.74604694</td><td>-24.746047</td><td>CMOS-GS16MP</td><td>--</td><td>--</td><td>--</td><td>--</td><td>CALIB</td><td>ALPACA.2022-12-07T00:55:05.270</td><td>IMAGE</td><td>SKY</td><td>-30.061165</td><td>6.838335</td><td>2022-12-07T00:55:05.270Z</td><td>120.0</td><td>LUMINANCE</td><td>-84.089755</td><td>190.504407</td><td></td><td></td><td></td><td>ALPACA</td><td>700.0</td><td>400.0</td><td>2023-06-02T13:20:55.733Z</td><td>59920.03825543982</td><td>--</td><td></td><td>ALL SKY</td><td>s</td><td>ALPACA.2022-12-07T00-55-05.270.fits</td><td>60</td><td>ESO PARANAL OBSERVATORY</td><td>60.A-9300(B)</td><td>MASCOT ENGINEERING RUN</td><td>0</td><td>18.87548</td><td>18.87548</td><td>2022-12-07T00:55:05.270Z</td><td>POSITION J2000 18.87548000000001 -24.746047</td><td></td><td></td><td>1.0</td><td>1.0</td><td>90.0</td><td>--</td><td>--</td><td>--</td><td>--</td><td>--</td><td>0.0</td><td>ALPACA</td><td>--</td><td></td><td></td><td>--</td><td>--</td><td></td></tr>\n",
       "<tr><td>25911</td><td>https://dataportal.eso.org/dataPortal/file/ALPACA.2022-12-07T00:57:07.400</td><td>https://archive.eso.org/datalink/links?ID=ivo://eso.org/ID?ALPACA.2022-12-07T00:57:07.400</td><td>2022-12-07T00:57:07.400</td><td>-24.74570194</td><td>-24.745702</td><td>CMOS-GS16MP</td><td>--</td><td>--</td><td>--</td><td>--</td><td>CALIB</td><td>ALPACA.2022-12-07T00:57:07.400</td><td>IMAGE</td><td>SKY</td><td>-30.262454</td><td>7.321629</td><td>2022-12-07T00:57:07.400Z</td><td>120.0</td><td>LUMINANCE</td><td>-83.666774</td><td>192.289978</td><td></td><td></td><td></td><td>ALPACA</td><td>700.0</td><td>400.0</td><td>2023-06-02T13:20:55.733Z</td><td>59920.03966898148</td><td>--</td><td></td><td>ALL SKY</td><td>s</td><td>ALPACA.2022-12-07T00-57-07.400.fits</td><td>60</td><td>ESO PARANAL OBSERVATORY</td><td>60.A-9300(B)</td><td>MASCOT ENGINEERING RUN</td><td>0</td><td>19.38619194</td><td>19.386192</td><td>2022-12-07T00:57:07.400Z</td><td>POSITION J2000 19.386191999999994 -24.745702</td><td></td><td></td><td>1.0</td><td>1.0</td><td>90.0</td><td>--</td><td>--</td><td>--</td><td>--</td><td>--</td><td>0.0</td><td>ALPACA</td><td>--</td><td></td><td></td><td>--</td><td>--</td><td></td></tr>\n",
       "<tr><td>25775</td><td>https://dataportal.eso.org/dataPortal/file/ALPACA.2022-12-07T00:59:14.840</td><td>https://archive.eso.org/datalink/links?ID=ivo://eso.org/ID?ALPACA.2022-12-07T00:59:14.840</td><td>2022-12-07T00:59:14.840</td><td>-24.74533194</td><td>-24.745332</td><td>CMOS-GS16MP</td><td>--</td><td>--</td><td>--</td><td>--</td><td>CALIB</td><td>ALPACA.2022-12-07T00:59:14.840</td><td>IMAGE</td><td>SKY</td><td>-30.472252</td><td>7.827128</td><td>2022-12-07T00:59:14.840Z</td><td>120.0</td><td>LUMINANCE</td><td>-83.220412</td><td>193.929393</td><td></td><td></td><td></td><td>ALPACA</td><td>700.0</td><td>400.0</td><td>2023-06-02T13:20:55.733Z</td><td>59920.04114398148</td><td>--</td><td></td><td>ALL SKY</td><td>s</td><td>ALPACA.2022-12-07T00-59-14.840.fits</td><td>60</td><td>ESO PARANAL OBSERVATORY</td><td>60.A-9300(B)</td><td>MASCOT ENGINEERING RUN</td><td>0</td><td>19.91910694</td><td>19.919107</td><td>2022-12-07T00:59:14.840Z</td><td>POSITION J2000 19.919106999999997 -24.745332</td><td></td><td></td><td>1.0</td><td>1.0</td><td>90.0</td><td>--</td><td>--</td><td>--</td><td>--</td><td>--</td><td>0.0</td><td>ALPACA</td><td>--</td><td></td><td></td><td>--</td><td>--</td><td></td></tr>\n",
       "<tr><td>25674</td><td>https://dataportal.eso.org/dataPortal/file/ALPACA.2022-12-07T01:01:16.900</td><td>https://archive.eso.org/datalink/links?ID=ivo://eso.org/ID?ALPACA.2022-12-07T01:01:16.900</td><td>2022-12-07T01:01:16.900</td><td>-24.74496888</td><td>-24.744969</td><td>CMOS-GS16MP</td><td>--</td><td>--</td><td>--</td><td>--</td><td>CALIB</td><td>ALPACA.2022-12-07T01:01:16.900</td><td>IMAGE</td><td>SKY</td><td>-30.672945</td><td>8.312446</td><td>2022-12-07T01:01:16.900Z</td><td>120.0</td><td>LUMINANCE</td><td>-82.788982</td><td>195.322223</td><td></td><td></td><td></td><td>ALPACA</td><td>700.0</td><td>400.0</td><td>2023-06-02T13:20:55.733Z</td><td>59920.04255671296</td><td>--</td><td></td><td>ALL SKY</td><td>s</td><td>ALPACA.2022-12-07T01-01-16.900.fits</td><td>60</td><td>ESO PARANAL OBSERVATORY</td><td>60.A-9300(B)</td><td>MASCOT ENGINEERING RUN</td><td>0</td><td>20.42952305</td><td>20.429523</td><td>2022-12-07T01:01:16.900Z</td><td>POSITION J2000 20.42952299999999 -24.744969</td><td></td><td></td><td>1.0</td><td>1.0</td><td>90.0</td><td>--</td><td>--</td><td>--</td><td>--</td><td>--</td><td>0.0</td><td>ALPACA</td><td>--</td><td></td><td></td><td>--</td><td>--</td><td></td></tr>\n",
       "<tr><td>26348</td><td>https://dataportal.eso.org/dataPortal/file/ALPACA.2022-12-07T01:03:24.990</td><td>https://archive.eso.org/datalink/links?ID=ivo://eso.org/ID?ALPACA.2022-12-07T01:03:24.990</td><td>2022-12-07T01:03:24.990</td><td>-24.74457694</td><td>-24.744577</td><td>CMOS-GS16MP</td><td>--</td><td>--</td><td>--</td><td>--</td><td>CALIB</td><td>ALPACA.2022-12-07T01:03:24.990</td><td>IMAGE</td><td>SKY</td><td>-30.883275</td><td>8.822981</td><td>2022-12-07T01:03:24.990Z</td><td>120.0</td><td>LUMINANCE</td><td>-82.332845</td><td>196.628428</td><td></td><td></td><td></td><td>ALPACA</td><td>700.0</td><td>400.0</td><td>2023-06-02T13:20:55.733Z</td><td>59920.04403923611</td><td>--</td><td></td><td>ALL SKY</td><td>s</td><td>ALPACA.2022-12-07T01-03-24.990.fits</td><td>60</td><td>ESO PARANAL OBSERVATORY</td><td>60.A-9300(B)</td><td>MASCOT ENGINEERING RUN</td><td>0</td><td>20.96515388</td><td>20.965154</td><td>2022-12-07T01:03:24.990Z</td><td>POSITION J2000 20.965154000000013 -24.744577</td><td></td><td></td><td>1.0</td><td>1.0</td><td>90.0</td><td>--</td><td>--</td><td>--</td><td>--</td><td>--</td><td>0.0</td><td>ALPACA</td><td>--</td><td></td><td></td><td>--</td><td>--</td><td></td></tr>\n",
       "</table></div>"
      ],
      "text/plain": [
       "<Table length=5>\n",
       "access_estsize ... tpl_start\n",
       "    kbyte      ...          \n",
       "    int64      ...   object \n",
       "-------------- ... ---------\n",
       "         25918 ...          \n",
       "         25911 ...          \n",
       "         25775 ...          \n",
       "         25674 ...          \n",
       "         26348 ...          "
      ]
     },
     "execution_count": 20,
     "metadata": {},
     "output_type": "execute_result"
    }
   ],
   "source": [
    "eso_instance.maxrec = 10\n",
    "eso_instance.query_main(top=5)"
   ]
  },
  {
   "cell_type": "code",
   "execution_count": 21,
   "metadata": {},
   "outputs": [],
   "source": [
    "eso_instance.maxrec = 1000"
   ]
  },
  {
   "cell_type": "markdown",
   "metadata": {},
   "source": [
    "## Filter in advance"
   ]
  },
  {
   "cell_type": "code",
   "execution_count": 22,
   "metadata": {},
   "outputs": [
    {
     "name": "stdout",
     "output_type": "stream",
     "text": [
      "Table saved to ./eso_aq_example_filter_vegas.csv\n"
     ]
    }
   ],
   "source": [
    "my_table = eso_instance.query_surveys(\"sphere, vegas\",\n",
    "                                          columns=\"obs_collection, calib_level, multi_ob, filter, s_pixel_scale, instrument_name\" ,\n",
    "                                          calib_level=3,\n",
    "                                          multi_ob='M')\n",
    "\n",
    "table_to_csv(my_table, \"./eso_aq_example_filter_vegas.csv\")"
   ]
  },
  {
   "cell_type": "markdown",
   "metadata": {},
   "source": [
    "## Filter afterwards"
   ]
  },
  {
   "cell_type": "code",
   "execution_count": 23,
   "metadata": {},
   "outputs": [
    {
     "data": {
      "text/html": [
       "<div><i>Table length=23</i>\n",
       "<table id=\"table126883739089328\" class=\"table-striped table-bordered table-condensed\">\n",
       "<thead><tr><th>obs_collection</th><th>calib_level</th><th>multi_ob</th><th>filter</th><th>s_pixel_scale</th><th>instrument_name</th></tr></thead>\n",
       "<thead><tr><th></th><th></th><th></th><th></th><th>arcsec</th><th></th></tr></thead>\n",
       "<thead><tr><th>object</th><th>int32</th><th>object</th><th>object</th><th>float64</th><th>object</th></tr></thead>\n",
       "<tr><td>VEGAS</td><td>3</td><td>M</td><td>g_SDSS</td><td>0.21</td><td>OMEGACAM</td></tr>\n",
       "<tr><td>VEGAS</td><td>3</td><td>M</td><td>r_SDSS</td><td>0.21</td><td>OMEGACAM</td></tr>\n",
       "<tr><td>VEGAS</td><td>3</td><td>M</td><td>g_SDSS</td><td>0.2099</td><td>OMEGACAM</td></tr>\n",
       "<tr><td>VEGAS</td><td>3</td><td>M</td><td>r_SDSS</td><td>0.2099</td><td>OMEGACAM</td></tr>\n",
       "<tr><td>VEGAS</td><td>3</td><td>M</td><td>u_SDSS</td><td>0.2099</td><td>OMEGACAM</td></tr>\n",
       "<tr><td>VEGAS</td><td>3</td><td>M</td><td>g_SDSS</td><td>0.2099</td><td>OMEGACAM</td></tr>\n",
       "<tr><td>VEGAS</td><td>3</td><td>M</td><td>u_SDSS</td><td>0.2099</td><td>OMEGACAM</td></tr>\n",
       "<tr><td>VEGAS</td><td>3</td><td>M</td><td>r_SDSS</td><td>0.2099</td><td>OMEGACAM</td></tr>\n",
       "<tr><td>VEGAS</td><td>3</td><td>M</td><td>i_SDSS</td><td>0.2099</td><td>OMEGACAM</td></tr>\n",
       "<tr><td>...</td><td>...</td><td>...</td><td>...</td><td>...</td><td>...</td></tr>\n",
       "<tr><td>VEGAS</td><td>3</td><td>M</td><td>i_SDSS</td><td>0.21</td><td>OMEGACAM</td></tr>\n",
       "<tr><td>VEGAS</td><td>3</td><td>M</td><td>g_SDSS</td><td>0.2099</td><td>OMEGACAM</td></tr>\n",
       "<tr><td>VEGAS</td><td>3</td><td>M</td><td>g_SDSS</td><td>0.2099</td><td>OMEGACAM</td></tr>\n",
       "<tr><td>VEGAS</td><td>3</td><td>M</td><td>g_SDSS</td><td>0.21</td><td>OMEGACAM</td></tr>\n",
       "<tr><td>VEGAS</td><td>3</td><td>M</td><td>u_SDSS</td><td>0.21</td><td>OMEGACAM</td></tr>\n",
       "<tr><td>VEGAS</td><td>3</td><td>M</td><td>i_SDSS</td><td>0.21</td><td>OMEGACAM</td></tr>\n",
       "<tr><td>VEGAS</td><td>3</td><td>M</td><td>g_SDSS</td><td>0.21</td><td>OMEGACAM</td></tr>\n",
       "<tr><td>VEGAS</td><td>3</td><td>M</td><td>r_SDSS</td><td>0.21</td><td>OMEGACAM</td></tr>\n",
       "<tr><td>VEGAS</td><td>3</td><td>M</td><td>g_SDSS</td><td>0.2099</td><td>OMEGACAM</td></tr>\n",
       "</table></div>"
      ],
      "text/plain": [
       "<Table length=23>\n",
       "obs_collection calib_level multi_ob filter s_pixel_scale instrument_name\n",
       "                                               arcsec                   \n",
       "    object        int32     object  object    float64         object    \n",
       "-------------- ----------- -------- ------ ------------- ---------------\n",
       "         VEGAS           3        M g_SDSS          0.21        OMEGACAM\n",
       "         VEGAS           3        M r_SDSS          0.21        OMEGACAM\n",
       "         VEGAS           3        M g_SDSS        0.2099        OMEGACAM\n",
       "         VEGAS           3        M r_SDSS        0.2099        OMEGACAM\n",
       "         VEGAS           3        M u_SDSS        0.2099        OMEGACAM\n",
       "         VEGAS           3        M g_SDSS        0.2099        OMEGACAM\n",
       "         VEGAS           3        M u_SDSS        0.2099        OMEGACAM\n",
       "         VEGAS           3        M r_SDSS        0.2099        OMEGACAM\n",
       "         VEGAS           3        M i_SDSS        0.2099        OMEGACAM\n",
       "           ...         ...      ...    ...           ...             ...\n",
       "         VEGAS           3        M i_SDSS          0.21        OMEGACAM\n",
       "         VEGAS           3        M g_SDSS        0.2099        OMEGACAM\n",
       "         VEGAS           3        M g_SDSS        0.2099        OMEGACAM\n",
       "         VEGAS           3        M g_SDSS          0.21        OMEGACAM\n",
       "         VEGAS           3        M u_SDSS          0.21        OMEGACAM\n",
       "         VEGAS           3        M i_SDSS          0.21        OMEGACAM\n",
       "         VEGAS           3        M g_SDSS          0.21        OMEGACAM\n",
       "         VEGAS           3        M r_SDSS          0.21        OMEGACAM\n",
       "         VEGAS           3        M g_SDSS        0.2099        OMEGACAM"
      ]
     },
     "execution_count": 23,
     "metadata": {},
     "output_type": "execute_result"
    }
   ],
   "source": [
    "my_table[my_table[\"s_pixel_scale\"] > 0.2]"
   ]
  },
  {
   "cell_type": "markdown",
   "metadata": {},
   "source": [
    "## Free ADQL query"
   ]
  },
  {
   "cell_type": "code",
   "execution_count": 24,
   "metadata": {},
   "outputs": [
    {
     "data": {
      "text/html": [
       "<div><i>Table length=88</i>\n",
       "<table id=\"table126883742232272\" class=\"table-striped table-bordered table-condensed\">\n",
       "<thead><tr><th>obs_collection</th><th>COUNT_ALL</th></tr></thead>\n",
       "<thead><tr><th>object</th><th>int32</th></tr></thead>\n",
       "<tr><td>081.C-0827</td><td>1</td></tr>\n",
       "<tr><td>092.A-0472</td><td>4</td></tr>\n",
       "<tr><td>096.B-0054</td><td>8</td></tr>\n",
       "<tr><td>1100.A-0528</td><td>1</td></tr>\n",
       "<tr><td>1101.A-0127</td><td>4</td></tr>\n",
       "<tr><td>193.D-0232</td><td>5397</td></tr>\n",
       "<tr><td>195.B-0283</td><td>587</td></tr>\n",
       "<tr><td>196.B-0578</td><td>114</td></tr>\n",
       "<tr><td>196.D-0214</td><td>361</td></tr>\n",
       "<tr><td>...</td><td>...</td></tr>\n",
       "<tr><td>VPHASplus</td><td>58831</td></tr>\n",
       "<tr><td>VST-ATLAS</td><td>62765</td></tr>\n",
       "<tr><td>VVV</td><td>216281</td></tr>\n",
       "<tr><td>VVVX</td><td>405625</td></tr>\n",
       "<tr><td>XQ-100</td><td>455</td></tr>\n",
       "<tr><td>XSGRB</td><td>518</td></tr>\n",
       "<tr><td>XSHOOTER</td><td>178314</td></tr>\n",
       "<tr><td>XShootU</td><td>260</td></tr>\n",
       "<tr><td>XSL</td><td>2634</td></tr>\n",
       "<tr><td>ZCOSMOS</td><td>20806</td></tr>\n",
       "</table></div>"
      ],
      "text/plain": [
       "<Table length=88>\n",
       "obs_collection COUNT_ALL\n",
       "    object       int32  \n",
       "-------------- ---------\n",
       "    081.C-0827         1\n",
       "    092.A-0472         4\n",
       "    096.B-0054         8\n",
       "   1100.A-0528         1\n",
       "   1101.A-0127         4\n",
       "    193.D-0232      5397\n",
       "    195.B-0283       587\n",
       "    196.B-0578       114\n",
       "    196.D-0214       361\n",
       "           ...       ...\n",
       "     VPHASplus     58831\n",
       "     VST-ATLAS     62765\n",
       "           VVV    216281\n",
       "          VVVX    405625\n",
       "        XQ-100       455\n",
       "         XSGRB       518\n",
       "      XSHOOTER    178314\n",
       "       XShootU       260\n",
       "           XSL      2634\n",
       "       ZCOSMOS     20806"
      ]
     },
     "execution_count": 24,
     "metadata": {},
     "output_type": "execute_result"
    }
   ],
   "source": [
    "eso_instance.query_tap_service(\"Select obs_collection, count(*) from ivoa.ObsCore group by obs_collection order by obs_collection\")"
   ]
  },
  {
   "cell_type": "code",
   "execution_count": 25,
   "metadata": {},
   "outputs": [
    {
     "data": {
      "text/html": [
       "<div><i>Table length=15</i>\n",
       "<table id=\"table126883742232992\" class=\"table-striped table-bordered table-condensed\">\n",
       "<thead><tr><th>obs_collection</th><th>calib_level</th><th>multi_ob</th><th>filter</th><th>s_pixel_scale</th><th>instrument_name</th></tr></thead>\n",
       "<thead><tr><th></th><th></th><th></th><th></th><th>arcsec</th><th></th></tr></thead>\n",
       "<thead><tr><th>object</th><th>int32</th><th>object</th><th>object</th><th>float64</th><th>object</th></tr></thead>\n",
       "<tr><td>SPHERE</td><td>3</td><td>M</td><td>K12</td><td>0.0122</td><td>SPHERE</td></tr>\n",
       "<tr><td>SPHERE</td><td>3</td><td>M</td><td>K12</td><td>0.0122</td><td>SPHERE</td></tr>\n",
       "<tr><td>SPHERE</td><td>3</td><td>M</td><td>K12</td><td>0.0122</td><td>SPHERE</td></tr>\n",
       "<tr><td>SPHERE</td><td>3</td><td>M</td><td>K12</td><td>0.0122</td><td>SPHERE</td></tr>\n",
       "<tr><td>SPHERE</td><td>3</td><td>M</td><td>K12</td><td>0.0122</td><td>SPHERE</td></tr>\n",
       "<tr><td>SPHERE</td><td>3</td><td>M</td><td>K12</td><td>0.0122</td><td>SPHERE</td></tr>\n",
       "<tr><td>SPHERE</td><td>3</td><td>M</td><td>K12</td><td>0.0122</td><td>SPHERE</td></tr>\n",
       "<tr><td>SPHERE</td><td>3</td><td>M</td><td>K12</td><td>0.0122</td><td>SPHERE</td></tr>\n",
       "<tr><td>SPHERE</td><td>3</td><td>M</td><td>K12</td><td>0.0122</td><td>SPHERE</td></tr>\n",
       "<tr><td>SPHERE</td><td>3</td><td>M</td><td>H</td><td>0.0122</td><td>SPHERE</td></tr>\n",
       "<tr><td>SPHERE</td><td>3</td><td>M</td><td>K12</td><td>0.0122</td><td>SPHERE</td></tr>\n",
       "<tr><td>SPHERE</td><td>3</td><td>M</td><td>H</td><td>0.0122</td><td>SPHERE</td></tr>\n",
       "<tr><td>SPHERE</td><td>3</td><td>M</td><td>H</td><td>0.0122</td><td>SPHERE</td></tr>\n",
       "<tr><td>SPHERE</td><td>3</td><td>M</td><td>H</td><td>0.0122</td><td>SPHERE</td></tr>\n",
       "<tr><td>SPHERE</td><td>3</td><td>M</td><td>H</td><td>0.0122</td><td>SPHERE</td></tr>\n",
       "</table></div>"
      ],
      "text/plain": [
       "<Table length=15>\n",
       "obs_collection calib_level multi_ob filter s_pixel_scale instrument_name\n",
       "                                               arcsec                   \n",
       "    object        int32     object  object    float64         object    \n",
       "-------------- ----------- -------- ------ ------------- ---------------\n",
       "        SPHERE           3        M    K12        0.0122          SPHERE\n",
       "        SPHERE           3        M    K12        0.0122          SPHERE\n",
       "        SPHERE           3        M    K12        0.0122          SPHERE\n",
       "        SPHERE           3        M    K12        0.0122          SPHERE\n",
       "        SPHERE           3        M    K12        0.0122          SPHERE\n",
       "        SPHERE           3        M    K12        0.0122          SPHERE\n",
       "        SPHERE           3        M    K12        0.0122          SPHERE\n",
       "        SPHERE           3        M    K12        0.0122          SPHERE\n",
       "        SPHERE           3        M    K12        0.0122          SPHERE\n",
       "        SPHERE           3        M      H        0.0122          SPHERE\n",
       "        SPHERE           3        M    K12        0.0122          SPHERE\n",
       "        SPHERE           3        M      H        0.0122          SPHERE\n",
       "        SPHERE           3        M      H        0.0122          SPHERE\n",
       "        SPHERE           3        M      H        0.0122          SPHERE\n",
       "        SPHERE           3        M      H        0.0122          SPHERE"
      ]
     },
     "execution_count": 25,
     "metadata": {},
     "output_type": "execute_result"
    }
   ],
   "source": [
    "eso_instance.query_tap_service(\"Select obs_collection, calib_level, multi_ob, filter, s_pixel_scale, instrument_name \"\n",
    "                               \"from ivoa.ObsCore where \"\n",
    "                               \"obs_collection in ('sphere', 'vegas') and \"\n",
    "                               \"calib_level=3 and \"\n",
    "                               \"multi_ob='M' and \"\n",
    "                               \"s_pixel_scale < 0.2\")"
   ]
  },
  {
   "cell_type": "markdown",
   "metadata": {},
   "source": [
    "## Authenticated queries"
   ]
  },
  {
   "cell_type": "markdown",
   "metadata": {},
   "source": [
    " - Even when the login is correct, the query is unauthenticated.\n",
    " - No authenticated queries possible --> No risk of data leaks."
   ]
  },
  {
   "cell_type": "code",
   "execution_count": 26,
   "metadata": {},
   "outputs": [
    {
     "name": "stderr",
     "output_type": "stream",
     "text": [
      "WARNING: Failed to get a valid keyring for password storage: No recommended backend was available. Install a recommended 3rd party backend package; or, install the keyrings.alt package if you want to use the non-recommended backends. See https://pypi.org/project/keyring for details. [astroquery.query]\n",
      "WARNING: No password was found in the keychain for the provided username. [astroquery.query]\n"
     ]
    },
    {
     "name": "stdout",
     "output_type": "stream",
     "text": [
      "INFO: Authenticating pala on 'www.eso.org' ... [astroquery.eso.core]\n",
      "INFO: Authentication successful! [astroquery.eso.core]\n"
     ]
    }
   ],
   "source": [
    "eso_instance.login(username='pala')\n",
    "query_str = \"select count(*) from dbo.raw\""
   ]
  },
  {
   "cell_type": "code",
   "execution_count": 27,
   "metadata": {},
   "outputs": [
    {
     "name": "stdout",
     "output_type": "stream",
     "text": [
      "COUNT_ALL\n",
      "---------\n",
      " 34602448\n"
     ]
    }
   ],
   "source": [
    "count_unauthenticated = eso_instance.query_tap_service(query_str)\n",
    "print(count_unauthenticated) # 34531840 in jcarmonaops case"
   ]
  },
  {
   "cell_type": "code",
   "execution_count": 28,
   "metadata": {},
   "outputs": [
    {
     "name": "stdout",
     "output_type": "stream",
     "text": [
      "COUNT_ALL\n",
      "---------\n",
      " 34602448\n"
     ]
    }
   ],
   "source": [
    "# Takes longer - 17s instead of 0.5s\n",
    "count_authenticated = eso_instance.query_tap_service(query_str, authenticated = True)\n",
    "print(count_authenticated) "
   ]
  },
  {
   "cell_type": "markdown",
   "metadata": {},
   "source": [
    "## Print the ADQL string without issuing the query"
   ]
  },
  {
   "cell_type": "code",
   "execution_count": 29,
   "metadata": {},
   "outputs": [
    {
     "name": "stdout",
     "output_type": "stream",
     "text": [
      "select * from dbo.raw where asdasd = 'asdasd'\n",
      "select * from dbo.raw where intersects(s_region, circle('ICRS', 18, 0, 0.1))=1\n",
      "select * from dbo.raw where asdasd = 'asdasd' and intersects(s_region, circle('ICRS', 18, 0, 0.1))=1\n"
     ]
    }
   ],
   "source": [
    "q_str = eso_instance.query_main(asdasd='asdasd', query_str_only=True)\n",
    "print(q_str)\n",
    "\n",
    "q_str = eso_instance.query_main(ra=18, dec=0 , radius=0.1, query_str_only=True)\n",
    "print(q_str)\n",
    "\n",
    "q_str = eso_instance.query_main(ra=18, dec=0 , radius=0.1, asdasd='asdasd', query_str_only=True)\n",
    "print(q_str)"
   ]
  },
  {
   "cell_type": "markdown",
   "metadata": {},
   "source": [
    "## Cone Search"
   ]
  },
  {
   "cell_type": "code",
   "execution_count": 30,
   "metadata": {},
   "outputs": [
    {
     "name": "stdout",
     "output_type": "stream",
     "text": [
      "Table saved to ./eso_aq_example_cone_search_phase_3_anna.csv\n"
     ]
    },
    {
     "name": "stderr",
     "output_type": "stream",
     "text": [
      "WARNING: NoResultsWarning: Query returned no results [astroquery.eso.core]\n"
     ]
    }
   ],
   "source": [
    "my_table = eso_instance.query_main(ra=12.6521917, dec=-45.5622628, radius=0.05)#, columns=\"target_name, s_ra, s_dec, s_region\")\n",
    "table_to_csv(my_table, \"./eso_aq_example_cone_search_phase_3_anna.csv\")"
   ]
  },
  {
   "cell_type": "code",
   "execution_count": 31,
   "metadata": {},
   "outputs": [
    {
     "name": "stdout",
     "output_type": "stream",
     "text": [
      "Table saved to ./eso_aq_example_cone_search_phase_3_muse.csv\n"
     ]
    }
   ],
   "source": [
    "my_table = eso_instance.query_main(ra=189.78, dec=-45.56, radius=0.05, columns=\"ra, dec, pi_coi\")\n",
    "table_to_csv(my_table, \"./eso_aq_example_cone_search_phase_3_muse.csv\")\n",
    "\n",
    "#my_table = eso_instance.query_main('XSHOOTER', ra=189.78, dec=-45.56 , radius=0.05)\n",
    "#table_to_csv(my_table, \"./eso_aq_example_cone_search_phase_3_muse.csv\")\n"
   ]
  },
  {
   "cell_type": "code",
   "execution_count": 32,
   "metadata": {},
   "outputs": [
    {
     "name": "stdout",
     "output_type": "stream",
     "text": [
      "Table saved to ./eso_aq_example_cone_search_phase_3_all.csv\n"
     ]
    },
    {
     "name": "stderr",
     "output_type": "stream",
     "text": [
      "/home/codespace/.python/current/lib/python3.12/site-packages/pyvo/dal/query.py:341: DALOverflowWarning: Partial result set. Potential causes MAXREC, async storage space, etc.\n",
      "  warn(\"Partial result set. Potential causes MAXREC, async storage space, etc.\",\n",
      "WARNING: MaxResultsWarning: Results truncated to 1000. To retrieve all the records set to None the maxrec attribute [astroquery.eso.core]\n"
     ]
    }
   ],
   "source": [
    "my_table = eso_instance.query_surveys(ra=150, dec=-59, radius=1, columns=\"target_name, s_ra, s_dec, s_region\")\n",
    "table_to_csv(my_table, \"./eso_aq_example_cone_search_phase_3_all.csv\")"
   ]
  },
  {
   "cell_type": "code",
   "execution_count": 33,
   "metadata": {},
   "outputs": [
    {
     "name": "stdout",
     "output_type": "stream",
     "text": [
      "Phase 3 MUSE:  22\n",
      "\n",
      "Phase 3 ALL:  602\n",
      "\n",
      "Raw MUSE:  50\n",
      "\n",
      "Raw ALL:  2245\n",
      "\n",
      "Instrument Specific Raw - MUSE:  50\n",
      "\n"
     ]
    }
   ],
   "source": [
    "# - Qery survey - # - Phase 3 data\n",
    "\n",
    "count_m = eso_instance.query_surveys('MUSE', ra=18, dec=0 , radius=1, count_only=True, query_str_only=False)\n",
    "print(\"Phase 3 MUSE: \", count_m)\n",
    "print()\n",
    "\n",
    "count_m = eso_instance.query_surveys(ra=18, dec=0 , radius=1, count_only=True, query_str_only=False)\n",
    "print(\"Phase 3 ALL: \", count_m)\n",
    "print()\n",
    "\n",
    "# - Query main - # - Raw Data\n",
    "\n",
    "count_m = eso_instance.query_main('MUSE', ra=18, dec=0 , radius=1, count_only=True, query_str_only=False)\n",
    "print(\"Raw MUSE: \", count_m)\n",
    "print()\n",
    "\n",
    "count_m = eso_instance.query_main(ra=18, dec=0 , radius=1, count_only=True, query_str_only=False)\n",
    "print(\"Raw ALL: \", count_m)\n",
    "print()\n",
    "\n",
    "# - Query instrument - # - Instrument Specific Raw Data\n",
    "\n",
    "count_m = eso_instance.query_instrument('MUSE', ra=18, dec=0 , radius=1, count_only=True, query_str_only=False)\n",
    "print(\"Instrument Specific Raw - MUSE: \", count_m)\n",
    "print()"
   ]
  },
  {
   "cell_type": "markdown",
   "metadata": {},
   "source": [
    "## Beta Tester Feedback:\n",
    "\n",
    "### General free-hand comments and impressions:\n",
    "\n",
    "...\n",
    "\n",
    "### Did something break?\n",
    "\n",
    " - query_instrument('MUSA') - It broke when I tried to query for the instrument 'MUSA'\n",
    " - ...\n",
    "\n",
    "### Could something be better?\n",
    "\n",
    " - query_main() - I don't like the name of this function because...\n",
    " - ...\n"
   ]
  },
  {
   "cell_type": "markdown",
   "metadata": {},
   "source": [
    "## Features that I'd like the module to support:"
   ]
  },
  {
   "cell_type": "markdown",
   "metadata": {},
   "source": [
    "Add the features you're like to be implemented. If the feature you want is already listed, please put a star (*) next to it.\n",
    " \n",
    " - query_catalogues\n",
    " - SkyCoord\n",
    " - query_region\n",
    " - query_object\n",
    " - OR, >, <, between, like, ...\n",
    " - Uncorrelated random sample queries\n",
    " - cutouts - definition and download\n",
    " - asyncronous queries\n",
    " - ? previews, ssap, datalink\n",
    " - parameter `pint_query = True` prints the query executed. Example: `query_main(..., print_query=True)`\n",
    " - sort results (order by)"
   ]
  },
  {
   "cell_type": "markdown",
   "metadata": {},
   "source": [
    "<hr style=\"border:2px solid #0281c9\"> </hr>\n",
    "\n",
    "<div align=\"center\">\n",
    "  <h1 style=\"color: #0281c9; font-weight: bold;\"> </h1> \n",
    "  <h2 style=\"color: #0281c9; font-weight: bold;\"> </h2>\n",
    "</div>\n",
    "\n",
    "<hr style=\"border:2px solid #0281c9\"> </hr>"
   ]
  },
  {
   "cell_type": "code",
   "execution_count": 34,
   "metadata": {},
   "outputs": [],
   "source": [
    "# Experiment with your own queries"
   ]
  },
  {
   "cell_type": "code",
   "execution_count": 35,
   "metadata": {},
   "outputs": [
    {
     "data": {
      "text/plain": [
       "['alpaca',\n",
       " 'amber',\n",
       " 'apex',\n",
       " 'apex_quicklooks',\n",
       " 'crires',\n",
       " 'efosc',\n",
       " 'eris',\n",
       " 'espresso',\n",
       " 'fiat',\n",
       " 'fors1',\n",
       " 'fors2',\n",
       " 'giraffe',\n",
       " 'gravity',\n",
       " 'harps',\n",
       " 'hawki',\n",
       " 'isaac',\n",
       " 'kmos',\n",
       " 'matisse',\n",
       " 'midi',\n",
       " 'muse',\n",
       " 'naco',\n",
       " 'nirps',\n",
       " 'omegacam',\n",
       " 'pionier',\n",
       " 'sinfoni',\n",
       " 'sofi',\n",
       " 'sphere',\n",
       " 'uves',\n",
       " 'vimos',\n",
       " 'vircam',\n",
       " 'visir',\n",
       " 'wlgsu',\n",
       " 'xshooter']"
      ]
     },
     "execution_count": 35,
     "metadata": {},
     "output_type": "execute_result"
    }
   ],
   "source": [
    "eso = Eso()\n",
    "eso.list_instruments()"
   ]
  },
  {
   "cell_type": "code",
   "execution_count": 36,
   "metadata": {},
   "outputs": [
    {
     "name": "stdout",
     "output_type": "stream",
     "text": [
      "INFO: \n",
      "Columns present in the table ist.xshooter:\n",
      "      column_name        datatype    xtype       unit  \n",
      "------------------------ -------- ----------- ---------\n",
      "          access_estsize     long                 kbyte\n",
      "              access_url     char                      \n",
      "            datalink_url     char                      \n",
      "                date_obs     char                      \n",
      "                     dec   double                   deg\n",
      "                 det_dit    float                     s\n",
      "                det_ndit      int                      \n",
      "          det_read_clock     char                      \n",
      "           det_win1_binx    short                      \n",
      "           det_win1_biny    short                      \n",
      "           dimm_fwhm_avg    float                arcsec\n",
      "           dimm_fwhm_rms    float                arcsec\n",
      "                  dp_cat     char                      \n",
      "                   dp_id     char                      \n",
      "                 dp_tech     char                      \n",
      "                 dp_type     char                      \n",
      "                 ecl_lat   double                   deg\n",
      "                 ecl_lon   double                   deg\n",
      "               exp_start     char   timestamp          \n",
      "                exposure    float                     s\n",
      "                 exptime    float                     s\n",
      "                 gal_lat   double                   deg\n",
      "                 gal_lon   double                   deg\n",
      "            ins_filt1_id     char                      \n",
      "          ins_filt1_name     char                      \n",
      "                ins_mode     char                      \n",
      "          ins_opti2_name     char                      \n",
      "          ins_opti3_name     char                      \n",
      "          ins_opti4_name     char                      \n",
      "          ins_opti5_name     char                      \n",
      "              instrument     char                      \n",
      "              lambda_max   double                    nm\n",
      "              lambda_min   double                    nm\n",
      "           last_mod_date     char   timestamp          \n",
      "                     lst    float                     s\n",
      "                 mjd_obs   double                     d\n",
      "               moon_illu    short                      \n",
      "              night_flag     char                      \n",
      "         ob_container_id      int                      \n",
      "  ob_container_parent_id      int                      \n",
      "ob_container_parent_type     char                      \n",
      "       ob_container_type     char                      \n",
      "                   ob_id      int                      \n",
      "                 ob_name     char                      \n",
      "                ob_start     char                      \n",
      "            ob_targ_name     char                      \n",
      "                ob_tplno      int                      \n",
      "                  object     char                      \n",
      "          observing_mode     char                      \n",
      "                origfile     char                      \n",
      "                  period      int                      \n",
      "                  pi_coi     char                      \n",
      "                 prog_id     char                      \n",
      "              prog_title     char                      \n",
      "               prog_type     char                      \n",
      "                      ra   double                   deg\n",
      "            release_date     char   timestamp          \n",
      "                s_region     char adql:REGION          \n",
      "                 seq_arm     char                      \n",
      "        seq_jitter_width      int                arcsec\n",
      "           seq_nod_throw    float                arcsec\n",
      "            tel_airm_end    float                      \n",
      "          tel_airm_start    float                      \n",
      "                 tel_alt    float                   deg\n",
      "       tel_ambi_fwhm_end    float                arcsec\n",
      "     tel_ambi_fwhm_start    float                arcsec\n",
      "       tel_ambi_pres_end    float                   hPa\n",
      "     tel_ambi_pres_start    float                   hPa\n",
      "           tel_ambi_rhum    float                     %\n",
      "           tel_ambi_temp    float               Celsius\n",
      "        tel_ambi_winddir    float                   deg\n",
      "         tel_ambi_windsp    float             m.s**(-1)\n",
      "                  tel_az    float                   deg\n",
      "             tel_ia_fwhm    float                arcsec\n",
      "               telescope     char                      \n",
      "               tpl_expno      int                      \n",
      "                  tpl_id     char                      \n",
      "                tpl_name     char                      \n",
      "                tpl_nexp      int                      \n",
      "               tpl_start     char                      \n",
      "                     utc    float                     s\n",
      "\n",
      "Number of records present in the table ist.xshooter:\n",
      "2208317\n",
      " [astroquery.eso.core]\n"
     ]
    }
   ],
   "source": [
    "eso.query_instrument('xshooter', help=True)"
   ]
  },
  {
   "cell_type": "code",
   "execution_count": 37,
   "metadata": {},
   "outputs": [
    {
     "name": "stdout",
     "output_type": "stream",
     "text": [
      "ob_targ_name\n",
      "------------\n",
      "   NSV  6600\n",
      "   NSV  6600\n",
      "   NSV  6600\n",
      "   NSV  6600\n",
      "   NSV  6600\n",
      "   NSV  6600\n",
      "   NSV  6600\n",
      "   NSV  6600\n",
      "   NSV  6600\n",
      "   NSV  6600\n",
      "         ...\n",
      "ASASSN -13ac\n",
      "ASASSN -13ac\n",
      "ASASSN -13ac\n",
      "ASASSN -13ac\n",
      "ASASSN -13ac\n",
      "ASASSN -13ac\n",
      "ASASSN -13ac\n",
      "ASASSN -13ac\n",
      "ASASSN -13ac\n",
      "ASASSN -13ac\n",
      "Length = 1000 rows\n"
     ]
    }
   ],
   "source": [
    "table = eso.query_instrument('xshooter', column_filters={'pi_coi': 'PALA/ BREEDT/ GAENSICKE/ SCHMIDTOBREICK/ MARSH/ GREEN/ RODRIGUEZ-GIL/ HERNANDEZ SANTISTEBAN/ ABRIL/ SCHREIBER/ IZQUIERDO SÁNCHEZ/ TOLOZA CASTILLO'}, columns=['ob_targ_name'])\n",
    "print(table)"
   ]
  },
  {
   "cell_type": "code",
   "execution_count": null,
   "metadata": {},
   "outputs": [
    {
     "name": "stdout",
     "output_type": "stream",
     "text": [
      "ob_targ_name ...\n",
      "------------ ...\n",
      " V V1129 Cen ...\n",
      " V V1129 Cen ...\n",
      " V V1129 Cen ...\n",
      " V V1129 Cen ...\n",
      " V V1129 Cen ...\n",
      " V V1129 Cen ...\n",
      " V V1129 Cen ...\n",
      " V V1129 Cen ...\n",
      " V V1129 Cen ...\n",
      " V V1129 Cen ...\n",
      "         ... ...\n",
      " V V1129 Cen ...\n",
      " V V1129 Cen ...\n",
      " V V1129 Cen ...\n",
      " V V1129 Cen ...\n",
      " V V1129 Cen ...\n",
      " V V1129 Cen ...\n",
      " V V1129 Cen ...\n",
      " V V1129 Cen ...\n",
      " V V1129 Cen ...\n",
      " V V1129 Cen ...\n",
      "Length = 69 rows\n",
      "ob_targ_name release_date pi_coi\n",
      "------------ ------------ ------\n",
      "ob_targ_name ...\n",
      "------------ ...\n",
      " V V1129 Cen ...\n",
      " V V1129 Cen ...\n",
      " V V1129 Cen ...\n",
      " V V1129 Cen ...\n",
      " V V1129 Cen ...\n",
      " V V1129 Cen ...\n",
      " V V1129 Cen ...\n",
      " V V1129 Cen ...\n",
      " V V1129 Cen ...\n",
      " V V1129 Cen ...\n",
      "         ... ...\n",
      " V V1129 Cen ...\n",
      " V V1129 Cen ...\n",
      " V V1129 Cen ...\n",
      " V V1129 Cen ...\n",
      " V V1129 Cen ...\n",
      " V V1129 Cen ...\n",
      " V V1129 Cen ...\n",
      " V V1129 Cen ...\n",
      " V V1129 Cen ...\n",
      " V V1129 Cen ...\n",
      "Length = 69 rows\n"
     ]
    }
   ],
   "source": [
    "table = eso.query_instrument('xshooter', column_filters={'ob_targ_name' : 'V V1129 Cen'}, columns=['ob_targ_name', 'release_date', 'pi_coi']) #, columns=[columns=['ob_targ_name', 'release_date', 'moon_illu'])\n",
    "print(table)\n",
    "\n",
    "table1 = table[[any(name.strip().lower() =='Pala' for name in pi.split('/')) for pi in table['pi_coi']]]\n",
    "#table[['Pala' in pi for pi in table['pi_coi']]]\n",
    "print(table1)\n",
    "\n",
    "\n",
    "\n",
    "#print(table[\"pi_coi\"])\n",
    "\n",
    "#table_headers = eso.get_headers(table['dp_id'])\n",
    "#table_headers.pprint()"
   ]
  },
  {
   "cell_type": "code",
   "execution_count": 77,
   "metadata": {},
   "outputs": [
    {
     "name": "stdout",
     "output_type": "stream",
     "text": [
      "   ob_targ_name              release_date                                                                                                                                             pi_coi\n",
      "0   V V1129 Cen  2021-01-03T08:17:27.083Z   Pala/ Belloni/ Breedt/ Gaensicke/ Rodriguez-Gil/ Green/ Hernandez Santisteban/ inight/ Marsh/ Schmidtobreick/ Schreiber/ Toloza Castillo/ Toonen\n",
      "1   V V1129 Cen  2021-01-03T08:17:27.917Z   Pala/ Belloni/ Breedt/ Gaensicke/ Rodriguez-Gil/ Green/ Hernandez Santisteban/ inight/ Marsh/ Schmidtobreick/ Schreiber/ Toloza Castillo/ Toonen\n",
      "2   V V1129 Cen  2021-01-03T08:17:28.300Z   Pala/ Belloni/ Breedt/ Gaensicke/ Rodriguez-Gil/ Green/ Hernandez Santisteban/ inight/ Marsh/ Schmidtobreick/ Schreiber/ Toloza Castillo/ Toonen\n",
      "3   V V1129 Cen  2021-01-03T08:17:56.303Z   Pala/ Belloni/ Breedt/ Gaensicke/ Rodriguez-Gil/ Green/ Hernandez Santisteban/ inight/ Marsh/ Schmidtobreick/ Schreiber/ Toloza Castillo/ Toonen\n",
      "4   V V1129 Cen  2021-01-03T08:17:57.130Z   Pala/ Belloni/ Breedt/ Gaensicke/ Rodriguez-Gil/ Green/ Hernandez Santisteban/ inight/ Marsh/ Schmidtobreick/ Schreiber/ Toloza Castillo/ Toonen\n",
      "5   V V1129 Cen  2021-01-03T08:17:57.523Z   Pala/ Belloni/ Breedt/ Gaensicke/ Rodriguez-Gil/ Green/ Hernandez Santisteban/ inight/ Marsh/ Schmidtobreick/ Schreiber/ Toloza Castillo/ Toonen\n",
      "6   V V1129 Cen  2021-01-03T08:18:13.637Z   Pala/ Belloni/ Breedt/ Gaensicke/ Rodriguez-Gil/ Green/ Hernandez Santisteban/ inight/ Marsh/ Schmidtobreick/ Schreiber/ Toloza Castillo/ Toonen\n",
      "7   V V1129 Cen  2021-01-03T08:18:14.850Z   Pala/ Belloni/ Breedt/ Gaensicke/ Rodriguez-Gil/ Green/ Hernandez Santisteban/ inight/ Marsh/ Schmidtobreick/ Schreiber/ Toloza Castillo/ Toonen\n",
      "8   V V1129 Cen  2021-01-03T08:18:14.857Z   Pala/ Belloni/ Breedt/ Gaensicke/ Rodriguez-Gil/ Green/ Hernandez Santisteban/ inight/ Marsh/ Schmidtobreick/ Schreiber/ Toloza Castillo/ Toonen\n",
      "9   V V1129 Cen      2022-01-03T08:26:25Z   Pala/ Belloni/ Breedt/ Gaensicke/ Rodriguez-Gil/ Green/ Hernandez Santisteban/ inight/ Marsh/ Schmidtobreick/ Schreiber/ Toloza Castillo/ Toonen\n",
      "10  V V1129 Cen      2022-01-03T08:31:11Z   Pala/ Belloni/ Breedt/ Gaensicke/ Rodriguez-Gil/ Green/ Hernandez Santisteban/ inight/ Marsh/ Schmidtobreick/ Schreiber/ Toloza Castillo/ Toonen\n",
      "11  V V1129 Cen      2022-01-03T08:31:11Z   Pala/ Belloni/ Breedt/ Gaensicke/ Rodriguez-Gil/ Green/ Hernandez Santisteban/ inight/ Marsh/ Schmidtobreick/ Schreiber/ Toloza Castillo/ Toonen\n",
      "12  V V1129 Cen      2022-01-03T08:31:11Z   Pala/ Belloni/ Breedt/ Gaensicke/ Rodriguez-Gil/ Green/ Hernandez Santisteban/ inight/ Marsh/ Schmidtobreick/ Schreiber/ Toloza Castillo/ Toonen\n",
      "13  V V1129 Cen      2022-01-03T08:35:57Z   Pala/ Belloni/ Breedt/ Gaensicke/ Rodriguez-Gil/ Green/ Hernandez Santisteban/ inight/ Marsh/ Schmidtobreick/ Schreiber/ Toloza Castillo/ Toonen\n",
      "14  V V1129 Cen      2022-01-03T08:35:57Z   Pala/ Belloni/ Breedt/ Gaensicke/ Rodriguez-Gil/ Green/ Hernandez Santisteban/ inight/ Marsh/ Schmidtobreick/ Schreiber/ Toloza Castillo/ Toonen\n",
      "15  V V1129 Cen      2022-01-03T08:35:57Z   Pala/ Belloni/ Breedt/ Gaensicke/ Rodriguez-Gil/ Green/ Hernandez Santisteban/ inight/ Marsh/ Schmidtobreick/ Schreiber/ Toloza Castillo/ Toonen\n",
      "16  V V1129 Cen      2022-01-03T08:40:40Z   Pala/ Belloni/ Breedt/ Gaensicke/ Rodriguez-Gil/ Green/ Hernandez Santisteban/ inight/ Marsh/ Schmidtobreick/ Schreiber/ Toloza Castillo/ Toonen\n",
      "17  V V1129 Cen      2022-01-03T08:40:40Z   Pala/ Belloni/ Breedt/ Gaensicke/ Rodriguez-Gil/ Green/ Hernandez Santisteban/ inight/ Marsh/ Schmidtobreick/ Schreiber/ Toloza Castillo/ Toonen\n",
      "18  V V1129 Cen      2022-01-03T08:40:40Z   Pala/ Belloni/ Breedt/ Gaensicke/ Rodriguez-Gil/ Green/ Hernandez Santisteban/ inight/ Marsh/ Schmidtobreick/ Schreiber/ Toloza Castillo/ Toonen\n",
      "19  V V1129 Cen      2022-01-03T08:40:40Z   Pala/ Belloni/ Breedt/ Gaensicke/ Rodriguez-Gil/ Green/ Hernandez Santisteban/ inight/ Marsh/ Schmidtobreick/ Schreiber/ Toloza Castillo/ Toonen\n",
      "20  V V1129 Cen      2022-01-03T08:40:40Z   Pala/ Belloni/ Breedt/ Gaensicke/ Rodriguez-Gil/ Green/ Hernandez Santisteban/ inight/ Marsh/ Schmidtobreick/ Schreiber/ Toloza Castillo/ Toonen\n",
      "21  V V1129 Cen      2022-01-03T08:40:40Z   Pala/ Belloni/ Breedt/ Gaensicke/ Rodriguez-Gil/ Green/ Hernandez Santisteban/ inight/ Marsh/ Schmidtobreick/ Schreiber/ Toloza Castillo/ Toonen\n",
      "22  V V1129 Cen  2021-06-05T02:12:10.430Z  Pala/ Breedt/ Gaensicke/ Schmidtobreick/ Marsh/ Green/ Rodriguez-Gil/ Hernandez Santisteban/ Abril/ Schreiber/ Izquierdo Sánchez/ Toloza Castillo\n",
      "23  V V1129 Cen  2021-06-05T02:12:11.650Z  Pala/ Breedt/ Gaensicke/ Schmidtobreick/ Marsh/ Green/ Rodriguez-Gil/ Hernandez Santisteban/ Abril/ Schreiber/ Izquierdo Sánchez/ Toloza Castillo\n",
      "24  V V1129 Cen  2021-06-05T02:12:11.650Z  Pala/ Breedt/ Gaensicke/ Schmidtobreick/ Marsh/ Green/ Rodriguez-Gil/ Hernandez Santisteban/ Abril/ Schreiber/ Izquierdo Sánchez/ Toloza Castillo\n",
      "25  V V1129 Cen  2021-06-05T02:12:39.027Z  Pala/ Breedt/ Gaensicke/ Schmidtobreick/ Marsh/ Green/ Rodriguez-Gil/ Hernandez Santisteban/ Abril/ Schreiber/ Izquierdo Sánchez/ Toloza Castillo\n",
      "26  V V1129 Cen  2021-06-05T02:12:40.197Z  Pala/ Breedt/ Gaensicke/ Schmidtobreick/ Marsh/ Green/ Rodriguez-Gil/ Hernandez Santisteban/ Abril/ Schreiber/ Izquierdo Sánchez/ Toloza Castillo\n",
      "27  V V1129 Cen  2021-06-05T02:12:40.233Z  Pala/ Breedt/ Gaensicke/ Schmidtobreick/ Marsh/ Green/ Rodriguez-Gil/ Hernandez Santisteban/ Abril/ Schreiber/ Izquierdo Sánchez/ Toloza Castillo\n",
      "28  V V1129 Cen  2021-06-05T02:12:56.627Z  Pala/ Breedt/ Gaensicke/ Schmidtobreick/ Marsh/ Green/ Rodriguez-Gil/ Hernandez Santisteban/ Abril/ Schreiber/ Izquierdo Sánchez/ Toloza Castillo\n",
      "29  V V1129 Cen  2021-06-05T02:12:57.847Z  Pala/ Breedt/ Gaensicke/ Schmidtobreick/ Marsh/ Green/ Rodriguez-Gil/ Hernandez Santisteban/ Abril/ Schreiber/ Izquierdo Sánchez/ Toloza Castillo\n",
      "30  V V1129 Cen  2021-06-05T02:12:57.917Z  Pala/ Breedt/ Gaensicke/ Schmidtobreick/ Marsh/ Green/ Rodriguez-Gil/ Hernandez Santisteban/ Abril/ Schreiber/ Izquierdo Sánchez/ Toloza Castillo\n",
      "31  V V1129 Cen      2022-06-05T02:21:12Z  Pala/ Breedt/ Gaensicke/ Schmidtobreick/ Marsh/ Green/ Rodriguez-Gil/ Hernandez Santisteban/ Abril/ Schreiber/ Izquierdo Sánchez/ Toloza Castillo\n",
      "32  V V1129 Cen      2022-06-05T02:25:46Z  Pala/ Breedt/ Gaensicke/ Schmidtobreick/ Marsh/ Green/ Rodriguez-Gil/ Hernandez Santisteban/ Abril/ Schreiber/ Izquierdo Sánchez/ Toloza Castillo\n",
      "33  V V1129 Cen      2022-06-05T02:25:46Z  Pala/ Breedt/ Gaensicke/ Schmidtobreick/ Marsh/ Green/ Rodriguez-Gil/ Hernandez Santisteban/ Abril/ Schreiber/ Izquierdo Sánchez/ Toloza Castillo\n",
      "34  V V1129 Cen      2022-06-05T02:25:46Z  Pala/ Breedt/ Gaensicke/ Schmidtobreick/ Marsh/ Green/ Rodriguez-Gil/ Hernandez Santisteban/ Abril/ Schreiber/ Izquierdo Sánchez/ Toloza Castillo\n",
      "35  V V1129 Cen      2022-06-05T02:30:30Z  Pala/ Breedt/ Gaensicke/ Schmidtobreick/ Marsh/ Green/ Rodriguez-Gil/ Hernandez Santisteban/ Abril/ Schreiber/ Izquierdo Sánchez/ Toloza Castillo\n",
      "36  V V1129 Cen      2022-06-05T02:30:30Z  Pala/ Breedt/ Gaensicke/ Schmidtobreick/ Marsh/ Green/ Rodriguez-Gil/ Hernandez Santisteban/ Abril/ Schreiber/ Izquierdo Sánchez/ Toloza Castillo\n",
      "37  V V1129 Cen      2022-06-05T02:30:30Z  Pala/ Breedt/ Gaensicke/ Schmidtobreick/ Marsh/ Green/ Rodriguez-Gil/ Hernandez Santisteban/ Abril/ Schreiber/ Izquierdo Sánchez/ Toloza Castillo\n",
      "38  V V1129 Cen  2021-06-05T02:26:06.997Z  Pala/ Breedt/ Gaensicke/ Schmidtobreick/ Marsh/ Green/ Rodriguez-Gil/ Hernandez Santisteban/ Abril/ Schreiber/ Izquierdo Sánchez/ Toloza Castillo\n",
      "39  V V1129 Cen  2021-06-05T02:26:07.827Z  Pala/ Breedt/ Gaensicke/ Schmidtobreick/ Marsh/ Green/ Rodriguez-Gil/ Hernandez Santisteban/ Abril/ Schreiber/ Izquierdo Sánchez/ Toloza Castillo\n",
      "40  V V1129 Cen  2021-06-05T02:26:08.217Z  Pala/ Breedt/ Gaensicke/ Schmidtobreick/ Marsh/ Green/ Rodriguez-Gil/ Hernandez Santisteban/ Abril/ Schreiber/ Izquierdo Sánchez/ Toloza Castillo\n",
      "41  V V1129 Cen  2021-06-05T02:26:35.817Z  Pala/ Breedt/ Gaensicke/ Schmidtobreick/ Marsh/ Green/ Rodriguez-Gil/ Hernandez Santisteban/ Abril/ Schreiber/ Izquierdo Sánchez/ Toloza Castillo\n",
      "42  V V1129 Cen  2021-06-05T02:26:37.037Z  Pala/ Breedt/ Gaensicke/ Schmidtobreick/ Marsh/ Green/ Rodriguez-Gil/ Hernandez Santisteban/ Abril/ Schreiber/ Izquierdo Sánchez/ Toloza Castillo\n",
      "43  V V1129 Cen  2021-06-05T02:26:37.043Z  Pala/ Breedt/ Gaensicke/ Schmidtobreick/ Marsh/ Green/ Rodriguez-Gil/ Hernandez Santisteban/ Abril/ Schreiber/ Izquierdo Sánchez/ Toloza Castillo\n",
      "44  V V1129 Cen  2021-06-05T02:26:52.630Z  Pala/ Breedt/ Gaensicke/ Schmidtobreick/ Marsh/ Green/ Rodriguez-Gil/ Hernandez Santisteban/ Abril/ Schreiber/ Izquierdo Sánchez/ Toloza Castillo\n",
      "45  V V1129 Cen  2021-06-05T02:26:53.430Z  Pala/ Breedt/ Gaensicke/ Schmidtobreick/ Marsh/ Green/ Rodriguez-Gil/ Hernandez Santisteban/ Abril/ Schreiber/ Izquierdo Sánchez/ Toloza Castillo\n",
      "46  V V1129 Cen  2021-06-05T02:26:53.850Z  Pala/ Breedt/ Gaensicke/ Schmidtobreick/ Marsh/ Green/ Rodriguez-Gil/ Hernandez Santisteban/ Abril/ Schreiber/ Izquierdo Sánchez/ Toloza Castillo\n",
      "47  V V1129 Cen      2022-06-05T02:35:51Z  Pala/ Breedt/ Gaensicke/ Schmidtobreick/ Marsh/ Green/ Rodriguez-Gil/ Hernandez Santisteban/ Abril/ Schreiber/ Izquierdo Sánchez/ Toloza Castillo\n",
      "48  V V1129 Cen      2022-06-05T02:35:51Z  Pala/ Breedt/ Gaensicke/ Schmidtobreick/ Marsh/ Green/ Rodriguez-Gil/ Hernandez Santisteban/ Abril/ Schreiber/ Izquierdo Sánchez/ Toloza Castillo\n",
      "49  V V1129 Cen      2022-06-05T02:35:51Z  Pala/ Breedt/ Gaensicke/ Schmidtobreick/ Marsh/ Green/ Rodriguez-Gil/ Hernandez Santisteban/ Abril/ Schreiber/ Izquierdo Sánchez/ Toloza Castillo\n",
      "50  V V1129 Cen      2022-06-05T02:35:51Z  Pala/ Breedt/ Gaensicke/ Schmidtobreick/ Marsh/ Green/ Rodriguez-Gil/ Hernandez Santisteban/ Abril/ Schreiber/ Izquierdo Sánchez/ Toloza Castillo\n",
      "51  V V1129 Cen      2022-06-05T02:35:51Z  Pala/ Breedt/ Gaensicke/ Schmidtobreick/ Marsh/ Green/ Rodriguez-Gil/ Hernandez Santisteban/ Abril/ Schreiber/ Izquierdo Sánchez/ Toloza Castillo\n",
      "52  V V1129 Cen      2022-06-05T02:35:51Z  Pala/ Breedt/ Gaensicke/ Schmidtobreick/ Marsh/ Green/ Rodriguez-Gil/ Hernandez Santisteban/ Abril/ Schreiber/ Izquierdo Sánchez/ Toloza Castillo\n",
      "53  V V1129 Cen  2021-06-05T02:33:01.540Z  Pala/ Breedt/ Gaensicke/ Schmidtobreick/ Marsh/ Green/ Rodriguez-Gil/ Hernandez Santisteban/ Abril/ Schreiber/ Izquierdo Sánchez/ Toloza Castillo\n",
      "54  V V1129 Cen  2021-06-05T02:33:02.363Z  Pala/ Breedt/ Gaensicke/ Schmidtobreick/ Marsh/ Green/ Rodriguez-Gil/ Hernandez Santisteban/ Abril/ Schreiber/ Izquierdo Sánchez/ Toloza Castillo\n",
      "55  V V1129 Cen  2021-06-05T02:33:02.760Z  Pala/ Breedt/ Gaensicke/ Schmidtobreick/ Marsh/ Green/ Rodriguez-Gil/ Hernandez Santisteban/ Abril/ Schreiber/ Izquierdo Sánchez/ Toloza Castillo\n",
      "56  V V1129 Cen  2021-06-05T02:33:29.823Z  Pala/ Breedt/ Gaensicke/ Schmidtobreick/ Marsh/ Green/ Rodriguez-Gil/ Hernandez Santisteban/ Abril/ Schreiber/ Izquierdo Sánchez/ Toloza Castillo\n",
      "57  V V1129 Cen  2021-06-05T02:33:30.913Z  Pala/ Breedt/ Gaensicke/ Schmidtobreick/ Marsh/ Green/ Rodriguez-Gil/ Hernandez Santisteban/ Abril/ Schreiber/ Izquierdo Sánchez/ Toloza Castillo\n",
      "58  V V1129 Cen  2021-06-05T02:33:31.043Z  Pala/ Breedt/ Gaensicke/ Schmidtobreick/ Marsh/ Green/ Rodriguez-Gil/ Hernandez Santisteban/ Abril/ Schreiber/ Izquierdo Sánchez/ Toloza Castillo\n",
      "59  V V1129 Cen  2021-06-05T02:33:46.207Z  Pala/ Breedt/ Gaensicke/ Schmidtobreick/ Marsh/ Green/ Rodriguez-Gil/ Hernandez Santisteban/ Abril/ Schreiber/ Izquierdo Sánchez/ Toloza Castillo\n",
      "60  V V1129 Cen  2021-06-05T02:33:47.300Z  Pala/ Breedt/ Gaensicke/ Schmidtobreick/ Marsh/ Green/ Rodriguez-Gil/ Hernandez Santisteban/ Abril/ Schreiber/ Izquierdo Sánchez/ Toloza Castillo\n",
      "61  V V1129 Cen  2021-06-05T02:33:47.427Z  Pala/ Breedt/ Gaensicke/ Schmidtobreick/ Marsh/ Green/ Rodriguez-Gil/ Hernandez Santisteban/ Abril/ Schreiber/ Izquierdo Sánchez/ Toloza Castillo\n",
      "62  V V1129 Cen      2022-06-05T02:40:57Z  Pala/ Breedt/ Gaensicke/ Schmidtobreick/ Marsh/ Green/ Rodriguez-Gil/ Hernandez Santisteban/ Abril/ Schreiber/ Izquierdo Sánchez/ Toloza Castillo\n",
      "63  V V1129 Cen      2022-06-05T02:45:52Z  Pala/ Breedt/ Gaensicke/ Schmidtobreick/ Marsh/ Green/ Rodriguez-Gil/ Hernandez Santisteban/ Abril/ Schreiber/ Izquierdo Sánchez/ Toloza Castillo\n",
      "64  V V1129 Cen      2022-06-05T02:45:52Z  Pala/ Breedt/ Gaensicke/ Schmidtobreick/ Marsh/ Green/ Rodriguez-Gil/ Hernandez Santisteban/ Abril/ Schreiber/ Izquierdo Sánchez/ Toloza Castillo\n",
      "65  V V1129 Cen      2022-06-05T02:45:52Z  Pala/ Breedt/ Gaensicke/ Schmidtobreick/ Marsh/ Green/ Rodriguez-Gil/ Hernandez Santisteban/ Abril/ Schreiber/ Izquierdo Sánchez/ Toloza Castillo\n",
      "66  V V1129 Cen      2022-06-05T02:45:52Z  Pala/ Breedt/ Gaensicke/ Schmidtobreick/ Marsh/ Green/ Rodriguez-Gil/ Hernandez Santisteban/ Abril/ Schreiber/ Izquierdo Sánchez/ Toloza Castillo\n",
      "67  V V1129 Cen      2022-06-05T02:45:52Z  Pala/ Breedt/ Gaensicke/ Schmidtobreick/ Marsh/ Green/ Rodriguez-Gil/ Hernandez Santisteban/ Abril/ Schreiber/ Izquierdo Sánchez/ Toloza Castillo\n",
      "68  V V1129 Cen      2022-06-05T02:45:52Z  Pala/ Breedt/ Gaensicke/ Schmidtobreick/ Marsh/ Green/ Rodriguez-Gil/ Hernandez Santisteban/ Abril/ Schreiber/ Izquierdo Sánchez/ Toloza Castillo\n"
     ]
    }
   ],
   "source": [
    "from astropy.table import conf\n",
    "conf.max_width = -1   # No limit on table print width\n",
    "conf.max_lines = -1   # No limit on number of rows printed\n",
    "conf.max_cols = -1    # No\n",
    "\n",
    "table = eso.query_instrument('xshooter', column_filters={'ob_targ_name' : 'V V1129 Cen'}, columns=['ob_targ_name', 'release_date', 'pi_coi']) #, columns=[columns=['ob_targ_name', 'release_date', 'moon_illu'])\n",
    "\n",
    "target_pi = 'Pala'\n",
    "filtered_table = table[\n",
    "    [any(name.strip() == target_pi for name in pi.split('/')) for pi in table['pi_coi']]\n",
    "]\n",
    "df = filtered_table.to_pandas()\n",
    "print(df.to_string())  # shows all columns and rows"
   ]
  },
  {
   "cell_type": "code",
   "execution_count": 79,
   "metadata": {},
   "outputs": [
    {
     "name": "stdout",
     "output_type": "stream",
     "text": [
      "     ra         dec    ... instrument\n",
      "    deg         deg    ...           \n",
      "------------ --------- ... ----------\n",
      "  189.782685 -45.56218 ...   XSHOOTER\n",
      "  189.782685 -45.56218 ...   XSHOOTER\n",
      "189.78477888 -45.56407 ...      HARPS\n",
      "189.78350388  -45.5619 ...       UVES\n",
      "189.78309111 -45.56234 ...       UVES\n",
      "189.78333305 -45.56222 ...   XSHOOTER\n",
      "189.78288611 -45.56218 ...       UVES\n",
      "   189.78307 -45.56226 ...       UVES\n",
      "189.78286694 -45.56236 ...   XSHOOTER\n",
      "         ...       ... ...        ...\n",
      "189.78286388 -45.56236 ...   XSHOOTER\n",
      "  189.782685 -45.56218 ...   XSHOOTER\n",
      "  189.782685 -45.56218 ...   XSHOOTER\n",
      "  189.782685 -45.56218 ...   XSHOOTER\n",
      "  189.782685 -45.56218 ...   XSHOOTER\n",
      "  189.782685 -45.56218 ...   XSHOOTER\n",
      "  189.782685 -45.56218 ...   XSHOOTER\n",
      "  189.782685 -45.56218 ...   XSHOOTER\n",
      "  189.782685 -45.56218 ...   XSHOOTER\n",
      "189.78289305 -45.56212 ...   XSHOOTER\n",
      "Length = 184 rows\n"
     ]
    }
   ],
   "source": [
    "my_table = eso_instance.query_main(ra=189.78, dec=-45.56, radius=0.05, columns=\"ra, dec, pi_coi, instrument\")\n",
    "print(my_table)"
   ]
  },
  {
   "cell_type": "code",
   "execution_count": null,
   "metadata": {},
   "outputs": [
    {
     "name": "stdout",
     "output_type": "stream",
     "text": [
      "INFO: Downloading datasets ... [astroquery.eso.core]\n",
      "INFO: Downloading 2 files ... [astroquery.eso.core]\n",
      "INFO: Downloading file 1/2 https://dataportal.eso.org/dataPortal/file/XSHOO.2024-04-01T06:48:25.965 to /home/codespace/.astropy/cache/astroquery/Eso [astroquery.eso.core]\n",
      "INFO: Successfully downloaded dataset XSHOO.2024-04-01T06:48:25.965 to /home/codespace/.astropy/cache/astroquery/Eso/XSHOO.2024-04-01T06:48:25.965.fits.Z [astroquery.eso.core]\n",
      "INFO: Downloading file 2/2 https://dataportal.eso.org/dataPortal/file/XSHOO.2024-04-01T06:48:27.185 to /home/codespace/.astropy/cache/astroquery/Eso [astroquery.eso.core]\n",
      "INFO: Successfully downloaded dataset XSHOO.2024-04-01T06:48:27.185 to /home/codespace/.astropy/cache/astroquery/Eso/XSHOO.2024-04-01T06:48:27.185.fits.Z [astroquery.eso.core]\n",
      "INFO: Uncompressing file /home/codespace/.astropy/cache/astroquery/Eso/XSHOO.2024-04-01T06:48:25.965.fits.Z [astroquery.eso.core]\n",
      "INFO: Uncompressing file /home/codespace/.astropy/cache/astroquery/Eso/XSHOO.2024-04-01T06:48:27.185.fits.Z [astroquery.eso.core]\n",
      "INFO: Done! [astroquery.eso.core]\n"
     ]
    }
   ],
   "source": [
    "data_files = eso.retrieve_data(table['dp_id'][:2])\n"
   ]
  },
  {
   "cell_type": "code",
   "execution_count": null,
   "metadata": {},
   "outputs": [
    {
     "name": "stdout",
     "output_type": "stream",
     "text": [
      "INFO: \n",
      "Columns present in the table ist.HARPS:\n",
      "    column_name     datatype    xtype     unit \n",
      "------------------- -------- ----------- ------\n",
      "     access_estsize     long              kbyte\n",
      "         access_url     char                   \n",
      "       datalink_url     char                   \n",
      "           date_obs     char                   \n",
      "                dec   double                deg\n",
      "      dimm_fwhm_avg    float             arcsec\n",
      "      dimm_fwhm_rms    float             arcsec\n",
      "             dp_cat     char                   \n",
      "              dp_id     char                   \n",
      "            dp_tech     char                   \n",
      "            dp_type     char                   \n",
      "            ecl_lat   double                deg\n",
      "            ecl_lon   double                deg\n",
      "          exp_start     char   timestamp       \n",
      "           exposure    float                  s\n",
      "            exptime    float                  s\n",
      "            gal_lat   double                deg\n",
      "            gal_lon   double                deg\n",
      "           ins_mode     char                   \n",
      "         instrument     char                   \n",
      "         lambda_max   double                 nm\n",
      "         lambda_min   double                 nm\n",
      "      last_mod_date     char   timestamp       \n",
      "                lst    float                  s\n",
      "            mjd_obs   double                  d\n",
      "          moon_illu    short                   \n",
      "         night_flag     char                   \n",
      "              ob_id      int                   \n",
      "            ob_name     char                   \n",
      "           ob_start     char                   \n",
      "       ob_targ_name     char                   \n",
      "             object     char                   \n",
      "     observing_mode     char                   \n",
      "           origfile     char                   \n",
      "             period      int                   \n",
      "             pi_coi     char                   \n",
      "            prog_id     char                   \n",
      "         prog_title     char                   \n",
      "          prog_type     char                   \n",
      "                 ra   double                deg\n",
      "       release_date     char   timestamp       \n",
      "           s_region     char adql:REGION       \n",
      "       tel_airm_end    float                   \n",
      "     tel_airm_start    float                   \n",
      "            tel_alt    float                deg\n",
      "  tel_ambi_fwhm_end    float             arcsec\n",
      "tel_ambi_fwhm_start    float             arcsec\n",
      "  tel_ambi_pres_end    float                hPa\n",
      "tel_ambi_pres_start    float                hPa\n",
      "      tel_ambi_rhum    float                  %\n",
      "             tel_az    float                deg\n",
      "          telescope     char                   \n",
      "          tpl_expno      int                   \n",
      "             tpl_id     char                   \n",
      "           tpl_name     char                   \n",
      "           tpl_nexp      int                   \n",
      "          tpl_start     char                   \n",
      "                utc    float                  s\n",
      "\n",
      "Number of records present in the table ist.HARPS:\n",
      "1170654\n",
      " [astroquery.eso.core]\n"
     ]
    }
   ],
   "source": [
    "eso.query_instrument('HARPS', help=True)"
   ]
  },
  {
   "cell_type": "code",
   "execution_count": null,
   "metadata": {},
   "outputs": [
    {
     "ename": "DALFormatError",
     "evalue": "str: Error executing the following query:\n\nselect * from ist.HARPS where ob_targ_name = 'V1129_Cen'\n\nSee examples here: https://archive.eso.org/tap_obs/examples\n\ncause: HTTPSConnectionPool(host='archive.eso.org', port=443): Max retries exceeded with url: /tap_obs/sync (Caused by ConnectTimeoutError(<urllib3.connection.HTTPSConnection object at 0x7e7a6c75c080>, 'Connection to archive.eso.org timed out. (connect timeout=None)'))",
     "output_type": "error",
     "traceback": [
      "\u001b[31m---------------------------------------------------------------------------\u001b[39m",
      "\u001b[31mTimeoutError\u001b[39m                              Traceback (most recent call last)",
      "\u001b[36mFile \u001b[39m\u001b[32m~/.local/lib/python3.12/site-packages/urllib3/connection.py:198\u001b[39m, in \u001b[36mHTTPConnection._new_conn\u001b[39m\u001b[34m(self)\u001b[39m\n\u001b[32m    197\u001b[39m \u001b[38;5;28;01mtry\u001b[39;00m:\n\u001b[32m--> \u001b[39m\u001b[32m198\u001b[39m     sock = \u001b[43mconnection\u001b[49m\u001b[43m.\u001b[49m\u001b[43mcreate_connection\u001b[49m\u001b[43m(\u001b[49m\n\u001b[32m    199\u001b[39m \u001b[43m        \u001b[49m\u001b[43m(\u001b[49m\u001b[38;5;28;43mself\u001b[39;49m\u001b[43m.\u001b[49m\u001b[43m_dns_host\u001b[49m\u001b[43m,\u001b[49m\u001b[43m \u001b[49m\u001b[38;5;28;43mself\u001b[39;49m\u001b[43m.\u001b[49m\u001b[43mport\u001b[49m\u001b[43m)\u001b[49m\u001b[43m,\u001b[49m\n\u001b[32m    200\u001b[39m \u001b[43m        \u001b[49m\u001b[38;5;28;43mself\u001b[39;49m\u001b[43m.\u001b[49m\u001b[43mtimeout\u001b[49m\u001b[43m,\u001b[49m\n\u001b[32m    201\u001b[39m \u001b[43m        \u001b[49m\u001b[43msource_address\u001b[49m\u001b[43m=\u001b[49m\u001b[38;5;28;43mself\u001b[39;49m\u001b[43m.\u001b[49m\u001b[43msource_address\u001b[49m\u001b[43m,\u001b[49m\n\u001b[32m    202\u001b[39m \u001b[43m        \u001b[49m\u001b[43msocket_options\u001b[49m\u001b[43m=\u001b[49m\u001b[38;5;28;43mself\u001b[39;49m\u001b[43m.\u001b[49m\u001b[43msocket_options\u001b[49m\u001b[43m,\u001b[49m\n\u001b[32m    203\u001b[39m \u001b[43m    \u001b[49m\u001b[43m)\u001b[49m\n\u001b[32m    204\u001b[39m \u001b[38;5;28;01mexcept\u001b[39;00m socket.gaierror \u001b[38;5;28;01mas\u001b[39;00m e:\n",
      "\u001b[36mFile \u001b[39m\u001b[32m~/.local/lib/python3.12/site-packages/urllib3/util/connection.py:85\u001b[39m, in \u001b[36mcreate_connection\u001b[39m\u001b[34m(address, timeout, source_address, socket_options)\u001b[39m\n\u001b[32m     84\u001b[39m \u001b[38;5;28;01mtry\u001b[39;00m:\n\u001b[32m---> \u001b[39m\u001b[32m85\u001b[39m     \u001b[38;5;28;01mraise\u001b[39;00m err\n\u001b[32m     86\u001b[39m \u001b[38;5;28;01mfinally\u001b[39;00m:\n\u001b[32m     87\u001b[39m     \u001b[38;5;66;03m# Break explicitly a reference cycle\u001b[39;00m\n",
      "\u001b[36mFile \u001b[39m\u001b[32m~/.local/lib/python3.12/site-packages/urllib3/util/connection.py:73\u001b[39m, in \u001b[36mcreate_connection\u001b[39m\u001b[34m(address, timeout, source_address, socket_options)\u001b[39m\n\u001b[32m     72\u001b[39m     sock.bind(source_address)\n\u001b[32m---> \u001b[39m\u001b[32m73\u001b[39m \u001b[43msock\u001b[49m\u001b[43m.\u001b[49m\u001b[43mconnect\u001b[49m\u001b[43m(\u001b[49m\u001b[43msa\u001b[49m\u001b[43m)\u001b[49m\n\u001b[32m     74\u001b[39m \u001b[38;5;66;03m# Break explicitly a reference cycle\u001b[39;00m\n",
      "\u001b[31mTimeoutError\u001b[39m: [Errno 110] Connection timed out",
      "\nThe above exception was the direct cause of the following exception:\n",
      "\u001b[31mConnectTimeoutError\u001b[39m                       Traceback (most recent call last)",
      "\u001b[36mFile \u001b[39m\u001b[32m~/.local/lib/python3.12/site-packages/urllib3/connectionpool.py:787\u001b[39m, in \u001b[36mHTTPConnectionPool.urlopen\u001b[39m\u001b[34m(self, method, url, body, headers, retries, redirect, assert_same_host, timeout, pool_timeout, release_conn, chunked, body_pos, preload_content, decode_content, **response_kw)\u001b[39m\n\u001b[32m    786\u001b[39m \u001b[38;5;66;03m# Make the request on the HTTPConnection object\u001b[39;00m\n\u001b[32m--> \u001b[39m\u001b[32m787\u001b[39m response = \u001b[38;5;28;43mself\u001b[39;49m\u001b[43m.\u001b[49m\u001b[43m_make_request\u001b[49m\u001b[43m(\u001b[49m\n\u001b[32m    788\u001b[39m \u001b[43m    \u001b[49m\u001b[43mconn\u001b[49m\u001b[43m,\u001b[49m\n\u001b[32m    789\u001b[39m \u001b[43m    \u001b[49m\u001b[43mmethod\u001b[49m\u001b[43m,\u001b[49m\n\u001b[32m    790\u001b[39m \u001b[43m    \u001b[49m\u001b[43murl\u001b[49m\u001b[43m,\u001b[49m\n\u001b[32m    791\u001b[39m \u001b[43m    \u001b[49m\u001b[43mtimeout\u001b[49m\u001b[43m=\u001b[49m\u001b[43mtimeout_obj\u001b[49m\u001b[43m,\u001b[49m\n\u001b[32m    792\u001b[39m \u001b[43m    \u001b[49m\u001b[43mbody\u001b[49m\u001b[43m=\u001b[49m\u001b[43mbody\u001b[49m\u001b[43m,\u001b[49m\n\u001b[32m    793\u001b[39m \u001b[43m    \u001b[49m\u001b[43mheaders\u001b[49m\u001b[43m=\u001b[49m\u001b[43mheaders\u001b[49m\u001b[43m,\u001b[49m\n\u001b[32m    794\u001b[39m \u001b[43m    \u001b[49m\u001b[43mchunked\u001b[49m\u001b[43m=\u001b[49m\u001b[43mchunked\u001b[49m\u001b[43m,\u001b[49m\n\u001b[32m    795\u001b[39m \u001b[43m    \u001b[49m\u001b[43mretries\u001b[49m\u001b[43m=\u001b[49m\u001b[43mretries\u001b[49m\u001b[43m,\u001b[49m\n\u001b[32m    796\u001b[39m \u001b[43m    \u001b[49m\u001b[43mresponse_conn\u001b[49m\u001b[43m=\u001b[49m\u001b[43mresponse_conn\u001b[49m\u001b[43m,\u001b[49m\n\u001b[32m    797\u001b[39m \u001b[43m    \u001b[49m\u001b[43mpreload_content\u001b[49m\u001b[43m=\u001b[49m\u001b[43mpreload_content\u001b[49m\u001b[43m,\u001b[49m\n\u001b[32m    798\u001b[39m \u001b[43m    \u001b[49m\u001b[43mdecode_content\u001b[49m\u001b[43m=\u001b[49m\u001b[43mdecode_content\u001b[49m\u001b[43m,\u001b[49m\n\u001b[32m    799\u001b[39m \u001b[43m    \u001b[49m\u001b[43m*\u001b[49m\u001b[43m*\u001b[49m\u001b[43mresponse_kw\u001b[49m\u001b[43m,\u001b[49m\n\u001b[32m    800\u001b[39m \u001b[43m\u001b[49m\u001b[43m)\u001b[49m\n\u001b[32m    802\u001b[39m \u001b[38;5;66;03m# Everything went great!\u001b[39;00m\n",
      "\u001b[36mFile \u001b[39m\u001b[32m~/.local/lib/python3.12/site-packages/urllib3/connectionpool.py:488\u001b[39m, in \u001b[36mHTTPConnectionPool._make_request\u001b[39m\u001b[34m(self, conn, method, url, body, headers, retries, timeout, chunked, response_conn, preload_content, decode_content, enforce_content_length)\u001b[39m\n\u001b[32m    487\u001b[39m         new_e = _wrap_proxy_error(new_e, conn.proxy.scheme)\n\u001b[32m--> \u001b[39m\u001b[32m488\u001b[39m     \u001b[38;5;28;01mraise\u001b[39;00m new_e\n\u001b[32m    490\u001b[39m \u001b[38;5;66;03m# conn.request() calls http.client.*.request, not the method in\u001b[39;00m\n\u001b[32m    491\u001b[39m \u001b[38;5;66;03m# urllib3.request. It also calls makefile (recv) on the socket.\u001b[39;00m\n",
      "\u001b[36mFile \u001b[39m\u001b[32m~/.local/lib/python3.12/site-packages/urllib3/connectionpool.py:464\u001b[39m, in \u001b[36mHTTPConnectionPool._make_request\u001b[39m\u001b[34m(self, conn, method, url, body, headers, retries, timeout, chunked, response_conn, preload_content, decode_content, enforce_content_length)\u001b[39m\n\u001b[32m    463\u001b[39m \u001b[38;5;28;01mtry\u001b[39;00m:\n\u001b[32m--> \u001b[39m\u001b[32m464\u001b[39m     \u001b[38;5;28;43mself\u001b[39;49m\u001b[43m.\u001b[49m\u001b[43m_validate_conn\u001b[49m\u001b[43m(\u001b[49m\u001b[43mconn\u001b[49m\u001b[43m)\u001b[49m\n\u001b[32m    465\u001b[39m \u001b[38;5;28;01mexcept\u001b[39;00m (SocketTimeout, BaseSSLError) \u001b[38;5;28;01mas\u001b[39;00m e:\n",
      "\u001b[36mFile \u001b[39m\u001b[32m~/.local/lib/python3.12/site-packages/urllib3/connectionpool.py:1093\u001b[39m, in \u001b[36mHTTPSConnectionPool._validate_conn\u001b[39m\u001b[34m(self, conn)\u001b[39m\n\u001b[32m   1092\u001b[39m \u001b[38;5;28;01mif\u001b[39;00m conn.is_closed:\n\u001b[32m-> \u001b[39m\u001b[32m1093\u001b[39m     \u001b[43mconn\u001b[49m\u001b[43m.\u001b[49m\u001b[43mconnect\u001b[49m\u001b[43m(\u001b[49m\u001b[43m)\u001b[49m\n\u001b[32m   1095\u001b[39m \u001b[38;5;66;03m# TODO revise this, see https://github.com/urllib3/urllib3/issues/2791\u001b[39;00m\n",
      "\u001b[36mFile \u001b[39m\u001b[32m~/.local/lib/python3.12/site-packages/urllib3/connection.py:704\u001b[39m, in \u001b[36mHTTPSConnection.connect\u001b[39m\u001b[34m(self)\u001b[39m\n\u001b[32m    703\u001b[39m sock: socket.socket | ssl.SSLSocket\n\u001b[32m--> \u001b[39m\u001b[32m704\u001b[39m \u001b[38;5;28mself\u001b[39m.sock = sock = \u001b[38;5;28;43mself\u001b[39;49m\u001b[43m.\u001b[49m\u001b[43m_new_conn\u001b[49m\u001b[43m(\u001b[49m\u001b[43m)\u001b[49m\n\u001b[32m    705\u001b[39m server_hostname: \u001b[38;5;28mstr\u001b[39m = \u001b[38;5;28mself\u001b[39m.host\n",
      "\u001b[36mFile \u001b[39m\u001b[32m~/.local/lib/python3.12/site-packages/urllib3/connection.py:207\u001b[39m, in \u001b[36mHTTPConnection._new_conn\u001b[39m\u001b[34m(self)\u001b[39m\n\u001b[32m    206\u001b[39m \u001b[38;5;28;01mexcept\u001b[39;00m SocketTimeout \u001b[38;5;28;01mas\u001b[39;00m e:\n\u001b[32m--> \u001b[39m\u001b[32m207\u001b[39m     \u001b[38;5;28;01mraise\u001b[39;00m ConnectTimeoutError(\n\u001b[32m    208\u001b[39m         \u001b[38;5;28mself\u001b[39m,\n\u001b[32m    209\u001b[39m         \u001b[33mf\u001b[39m\u001b[33m\"\u001b[39m\u001b[33mConnection to \u001b[39m\u001b[38;5;132;01m{\u001b[39;00m\u001b[38;5;28mself\u001b[39m.host\u001b[38;5;132;01m}\u001b[39;00m\u001b[33m timed out. (connect timeout=\u001b[39m\u001b[38;5;132;01m{\u001b[39;00m\u001b[38;5;28mself\u001b[39m.timeout\u001b[38;5;132;01m}\u001b[39;00m\u001b[33m)\u001b[39m\u001b[33m\"\u001b[39m,\n\u001b[32m    210\u001b[39m     ) \u001b[38;5;28;01mfrom\u001b[39;00m\u001b[38;5;250m \u001b[39m\u001b[34;01me\u001b[39;00m\n\u001b[32m    212\u001b[39m \u001b[38;5;28;01mexcept\u001b[39;00m \u001b[38;5;167;01mOSError\u001b[39;00m \u001b[38;5;28;01mas\u001b[39;00m e:\n",
      "\u001b[31mConnectTimeoutError\u001b[39m: (<urllib3.connection.HTTPSConnection object at 0x7e7a6c75c080>, 'Connection to archive.eso.org timed out. (connect timeout=None)')",
      "\nThe above exception was the direct cause of the following exception:\n",
      "\u001b[31mMaxRetryError\u001b[39m                             Traceback (most recent call last)",
      "\u001b[36mFile \u001b[39m\u001b[32m~/.local/lib/python3.12/site-packages/requests/adapters.py:667\u001b[39m, in \u001b[36mHTTPAdapter.send\u001b[39m\u001b[34m(self, request, stream, timeout, verify, cert, proxies)\u001b[39m\n\u001b[32m    666\u001b[39m \u001b[38;5;28;01mtry\u001b[39;00m:\n\u001b[32m--> \u001b[39m\u001b[32m667\u001b[39m     resp = \u001b[43mconn\u001b[49m\u001b[43m.\u001b[49m\u001b[43murlopen\u001b[49m\u001b[43m(\u001b[49m\n\u001b[32m    668\u001b[39m \u001b[43m        \u001b[49m\u001b[43mmethod\u001b[49m\u001b[43m=\u001b[49m\u001b[43mrequest\u001b[49m\u001b[43m.\u001b[49m\u001b[43mmethod\u001b[49m\u001b[43m,\u001b[49m\n\u001b[32m    669\u001b[39m \u001b[43m        \u001b[49m\u001b[43murl\u001b[49m\u001b[43m=\u001b[49m\u001b[43murl\u001b[49m\u001b[43m,\u001b[49m\n\u001b[32m    670\u001b[39m \u001b[43m        \u001b[49m\u001b[43mbody\u001b[49m\u001b[43m=\u001b[49m\u001b[43mrequest\u001b[49m\u001b[43m.\u001b[49m\u001b[43mbody\u001b[49m\u001b[43m,\u001b[49m\n\u001b[32m    671\u001b[39m \u001b[43m        \u001b[49m\u001b[43mheaders\u001b[49m\u001b[43m=\u001b[49m\u001b[43mrequest\u001b[49m\u001b[43m.\u001b[49m\u001b[43mheaders\u001b[49m\u001b[43m,\u001b[49m\n\u001b[32m    672\u001b[39m \u001b[43m        \u001b[49m\u001b[43mredirect\u001b[49m\u001b[43m=\u001b[49m\u001b[38;5;28;43;01mFalse\u001b[39;49;00m\u001b[43m,\u001b[49m\n\u001b[32m    673\u001b[39m \u001b[43m        \u001b[49m\u001b[43massert_same_host\u001b[49m\u001b[43m=\u001b[49m\u001b[38;5;28;43;01mFalse\u001b[39;49;00m\u001b[43m,\u001b[49m\n\u001b[32m    674\u001b[39m \u001b[43m        \u001b[49m\u001b[43mpreload_content\u001b[49m\u001b[43m=\u001b[49m\u001b[38;5;28;43;01mFalse\u001b[39;49;00m\u001b[43m,\u001b[49m\n\u001b[32m    675\u001b[39m \u001b[43m        \u001b[49m\u001b[43mdecode_content\u001b[49m\u001b[43m=\u001b[49m\u001b[38;5;28;43;01mFalse\u001b[39;49;00m\u001b[43m,\u001b[49m\n\u001b[32m    676\u001b[39m \u001b[43m        \u001b[49m\u001b[43mretries\u001b[49m\u001b[43m=\u001b[49m\u001b[38;5;28;43mself\u001b[39;49m\u001b[43m.\u001b[49m\u001b[43mmax_retries\u001b[49m\u001b[43m,\u001b[49m\n\u001b[32m    677\u001b[39m \u001b[43m        \u001b[49m\u001b[43mtimeout\u001b[49m\u001b[43m=\u001b[49m\u001b[43mtimeout\u001b[49m\u001b[43m,\u001b[49m\n\u001b[32m    678\u001b[39m \u001b[43m        \u001b[49m\u001b[43mchunked\u001b[49m\u001b[43m=\u001b[49m\u001b[43mchunked\u001b[49m\u001b[43m,\u001b[49m\n\u001b[32m    679\u001b[39m \u001b[43m    \u001b[49m\u001b[43m)\u001b[49m\n\u001b[32m    681\u001b[39m \u001b[38;5;28;01mexcept\u001b[39;00m (ProtocolError, \u001b[38;5;167;01mOSError\u001b[39;00m) \u001b[38;5;28;01mas\u001b[39;00m err:\n",
      "\u001b[36mFile \u001b[39m\u001b[32m~/.local/lib/python3.12/site-packages/urllib3/connectionpool.py:841\u001b[39m, in \u001b[36mHTTPConnectionPool.urlopen\u001b[39m\u001b[34m(self, method, url, body, headers, retries, redirect, assert_same_host, timeout, pool_timeout, release_conn, chunked, body_pos, preload_content, decode_content, **response_kw)\u001b[39m\n\u001b[32m    839\u001b[39m     new_e = ProtocolError(\u001b[33m\"\u001b[39m\u001b[33mConnection aborted.\u001b[39m\u001b[33m\"\u001b[39m, new_e)\n\u001b[32m--> \u001b[39m\u001b[32m841\u001b[39m retries = \u001b[43mretries\u001b[49m\u001b[43m.\u001b[49m\u001b[43mincrement\u001b[49m\u001b[43m(\u001b[49m\n\u001b[32m    842\u001b[39m \u001b[43m    \u001b[49m\u001b[43mmethod\u001b[49m\u001b[43m,\u001b[49m\u001b[43m \u001b[49m\u001b[43murl\u001b[49m\u001b[43m,\u001b[49m\u001b[43m \u001b[49m\u001b[43merror\u001b[49m\u001b[43m=\u001b[49m\u001b[43mnew_e\u001b[49m\u001b[43m,\u001b[49m\u001b[43m \u001b[49m\u001b[43m_pool\u001b[49m\u001b[43m=\u001b[49m\u001b[38;5;28;43mself\u001b[39;49m\u001b[43m,\u001b[49m\u001b[43m \u001b[49m\u001b[43m_stacktrace\u001b[49m\u001b[43m=\u001b[49m\u001b[43msys\u001b[49m\u001b[43m.\u001b[49m\u001b[43mexc_info\u001b[49m\u001b[43m(\u001b[49m\u001b[43m)\u001b[49m\u001b[43m[\u001b[49m\u001b[32;43m2\u001b[39;49m\u001b[43m]\u001b[49m\n\u001b[32m    843\u001b[39m \u001b[43m\u001b[49m\u001b[43m)\u001b[49m\n\u001b[32m    844\u001b[39m retries.sleep()\n",
      "\u001b[36mFile \u001b[39m\u001b[32m~/.local/lib/python3.12/site-packages/urllib3/util/retry.py:519\u001b[39m, in \u001b[36mRetry.increment\u001b[39m\u001b[34m(self, method, url, response, error, _pool, _stacktrace)\u001b[39m\n\u001b[32m    518\u001b[39m     reason = error \u001b[38;5;129;01mor\u001b[39;00m ResponseError(cause)\n\u001b[32m--> \u001b[39m\u001b[32m519\u001b[39m     \u001b[38;5;28;01mraise\u001b[39;00m MaxRetryError(_pool, url, reason) \u001b[38;5;28;01mfrom\u001b[39;00m\u001b[38;5;250m \u001b[39m\u001b[34;01mreason\u001b[39;00m  \u001b[38;5;66;03m# type: ignore[arg-type]\u001b[39;00m\n\u001b[32m    521\u001b[39m log.debug(\u001b[33m\"\u001b[39m\u001b[33mIncremented Retry for (url=\u001b[39m\u001b[33m'\u001b[39m\u001b[38;5;132;01m%s\u001b[39;00m\u001b[33m'\u001b[39m\u001b[33m): \u001b[39m\u001b[38;5;132;01m%r\u001b[39;00m\u001b[33m\"\u001b[39m, url, new_retry)\n",
      "\u001b[31mMaxRetryError\u001b[39m: HTTPSConnectionPool(host='archive.eso.org', port=443): Max retries exceeded with url: /tap_obs/sync (Caused by ConnectTimeoutError(<urllib3.connection.HTTPSConnection object at 0x7e7a6c75c080>, 'Connection to archive.eso.org timed out. (connect timeout=None)'))",
      "\nDuring handling of the above exception, another exception occurred:\n",
      "\u001b[31mConnectTimeout\u001b[39m                            Traceback (most recent call last)",
      "\u001b[36mFile \u001b[39m\u001b[32m~/.python/current/lib/python3.12/site-packages/pyvo/dal/query.py:260\u001b[39m, in \u001b[36mDALQuery.execute_votable\u001b[39m\u001b[34m(self, post)\u001b[39m\n\u001b[32m    259\u001b[39m \u001b[38;5;28;01mtry\u001b[39;00m:\n\u001b[32m--> \u001b[39m\u001b[32m260\u001b[39m     \u001b[38;5;28;01mreturn\u001b[39;00m votableparse(\u001b[38;5;28;43mself\u001b[39;49m\u001b[43m.\u001b[49m\u001b[43mexecute_stream\u001b[49m\u001b[43m(\u001b[49m\u001b[43mpost\u001b[49m\u001b[43m=\u001b[49m\u001b[43mpost\u001b[49m\u001b[43m)\u001b[49m.read)\n\u001b[32m    261\u001b[39m \u001b[38;5;28;01mexcept\u001b[39;00m \u001b[38;5;167;01mException\u001b[39;00m \u001b[38;5;28;01mas\u001b[39;00m e:\n",
      "\u001b[36mFile \u001b[39m\u001b[32m~/.python/current/lib/python3.12/site-packages/pyvo/dal/tap.py:1105\u001b[39m, in \u001b[36mTAPQuery.execute_stream\u001b[39m\u001b[34m(self, post)\u001b[39m\n\u001b[32m   1102\u001b[39m     \u001b[38;5;28;01mraise\u001b[39;00m DALServiceError(\n\u001b[32m   1103\u001b[39m         \u001b[33m\"\u001b[39m\u001b[33mCannot execute a non-synchronous query. Use submit instead\u001b[39m\u001b[33m\"\u001b[39m)\n\u001b[32m-> \u001b[39m\u001b[32m1105\u001b[39m \u001b[38;5;28;01mreturn\u001b[39;00m \u001b[38;5;28;43msuper\u001b[39;49m\u001b[43m(\u001b[49m\u001b[43m)\u001b[49m\u001b[43m.\u001b[49m\u001b[43mexecute_stream\u001b[49m\u001b[43m(\u001b[49m\u001b[43mpost\u001b[49m\u001b[43m=\u001b[49m\u001b[43mpost\u001b[49m\u001b[43m)\u001b[49m\n",
      "\u001b[36mFile \u001b[39m\u001b[32m~/.python/current/lib/python3.12/site-packages/pyvo/utils/decorators.py:9\u001b[39m, in \u001b[36mstream_decode_content.<locals>.wrapper\u001b[39m\u001b[34m(*args, **kwargs)\u001b[39m\n\u001b[32m      7\u001b[39m \u001b[38;5;129m@wraps\u001b[39m(func)\n\u001b[32m      8\u001b[39m \u001b[38;5;28;01mdef\u001b[39;00m\u001b[38;5;250m \u001b[39m\u001b[34mwrapper\u001b[39m(*args, **kwargs):\n\u001b[32m----> \u001b[39m\u001b[32m9\u001b[39m     raw = \u001b[43mfunc\u001b[49m\u001b[43m(\u001b[49m\u001b[43m*\u001b[49m\u001b[43margs\u001b[49m\u001b[43m,\u001b[49m\u001b[43m \u001b[49m\u001b[43m*\u001b[49m\u001b[43m*\u001b[49m\u001b[43mkwargs\u001b[49m\u001b[43m)\u001b[49m\n\u001b[32m     10\u001b[39m     raw.read = partial(raw.read, decode_content=\u001b[38;5;28;01mTrue\u001b[39;00m)\n",
      "\u001b[36mFile \u001b[39m\u001b[32m~/.python/current/lib/python3.12/site-packages/pyvo/dal/query.py:209\u001b[39m, in \u001b[36mDALQuery.execute_stream\u001b[39m\u001b[34m(self, post)\u001b[39m\n\u001b[32m    203\u001b[39m \u001b[38;5;250m\u001b[39m\u001b[33;03m\"\"\"\u001b[39;00m\n\u001b[32m    204\u001b[39m \u001b[33;03mSubmit the query and return the raw response as a file stream.\u001b[39;00m\n\u001b[32m    205\u001b[39m \n\u001b[32m    206\u001b[39m \u001b[33;03mNo exceptions are raised here because non-2xx responses might still\u001b[39;00m\n\u001b[32m    207\u001b[39m \u001b[33;03mcontain payload. They can be raised later by calling ``raise_if_error``\u001b[39;00m\n\u001b[32m    208\u001b[39m \u001b[33;03m\"\"\"\u001b[39;00m\n\u001b[32m--> \u001b[39m\u001b[32m209\u001b[39m response = \u001b[38;5;28;43mself\u001b[39;49m\u001b[43m.\u001b[49m\u001b[43msubmit\u001b[49m\u001b[43m(\u001b[49m\u001b[43mpost\u001b[49m\u001b[43m=\u001b[49m\u001b[43mpost\u001b[49m\u001b[43m)\u001b[49m\n\u001b[32m    211\u001b[39m \u001b[38;5;28;01mtry\u001b[39;00m:\n",
      "\u001b[36mFile \u001b[39m\u001b[32m~/.python/current/lib/python3.12/site-packages/pyvo/dal/tap.py:1138\u001b[39m, in \u001b[36mTAPQuery.submit\u001b[39m\u001b[34m(self, post)\u001b[39m\n\u001b[32m   1132\u001b[39m files = {\n\u001b[32m   1133\u001b[39m     upload.name: upload.fileobj()\n\u001b[32m   1134\u001b[39m     \u001b[38;5;28;01mfor\u001b[39;00m upload \u001b[38;5;129;01min\u001b[39;00m \u001b[38;5;28mself\u001b[39m._uploads\n\u001b[32m   1135\u001b[39m     \u001b[38;5;28;01mif\u001b[39;00m upload.is_inline\n\u001b[32m   1136\u001b[39m }\n\u001b[32m-> \u001b[39m\u001b[32m1138\u001b[39m response = \u001b[38;5;28;43mself\u001b[39;49m\u001b[43m.\u001b[49m\u001b[43m_session\u001b[49m\u001b[43m.\u001b[49m\u001b[43mpost\u001b[49m\u001b[43m(\u001b[49m\n\u001b[32m   1139\u001b[39m \u001b[43m    \u001b[49m\u001b[43murl\u001b[49m\u001b[43m,\u001b[49m\u001b[43m \u001b[49m\u001b[43mdata\u001b[49m\u001b[43m=\u001b[49m\u001b[38;5;28;43mself\u001b[39;49m\u001b[43m,\u001b[49m\u001b[43m \u001b[49m\u001b[43mstream\u001b[49m\u001b[43m=\u001b[49m\u001b[38;5;28;43;01mTrue\u001b[39;49;00m\u001b[43m,\u001b[49m\u001b[43m \u001b[49m\u001b[43mfiles\u001b[49m\u001b[43m=\u001b[49m\u001b[43mfiles\u001b[49m\u001b[43m)\u001b[49m\n\u001b[32m   1140\u001b[39m \u001b[38;5;66;03m# requests doesn't decode the content by default\u001b[39;00m\n",
      "\u001b[36mFile \u001b[39m\u001b[32m~/.local/lib/python3.12/site-packages/requests/sessions.py:637\u001b[39m, in \u001b[36mSession.post\u001b[39m\u001b[34m(self, url, data, json, **kwargs)\u001b[39m\n\u001b[32m    627\u001b[39m \u001b[38;5;250m\u001b[39m\u001b[33mr\u001b[39m\u001b[33;03m\"\"\"Sends a POST request. Returns :class:`Response` object.\u001b[39;00m\n\u001b[32m    628\u001b[39m \n\u001b[32m    629\u001b[39m \u001b[33;03m:param url: URL for the new :class:`Request` object.\u001b[39;00m\n\u001b[32m   (...)\u001b[39m\u001b[32m    634\u001b[39m \u001b[33;03m:rtype: requests.Response\u001b[39;00m\n\u001b[32m    635\u001b[39m \u001b[33;03m\"\"\"\u001b[39;00m\n\u001b[32m--> \u001b[39m\u001b[32m637\u001b[39m \u001b[38;5;28;01mreturn\u001b[39;00m \u001b[38;5;28;43mself\u001b[39;49m\u001b[43m.\u001b[49m\u001b[43mrequest\u001b[49m\u001b[43m(\u001b[49m\u001b[33;43m\"\u001b[39;49m\u001b[33;43mPOST\u001b[39;49m\u001b[33;43m\"\u001b[39;49m\u001b[43m,\u001b[49m\u001b[43m \u001b[49m\u001b[43murl\u001b[49m\u001b[43m,\u001b[49m\u001b[43m \u001b[49m\u001b[43mdata\u001b[49m\u001b[43m=\u001b[49m\u001b[43mdata\u001b[49m\u001b[43m,\u001b[49m\u001b[43m \u001b[49m\u001b[43mjson\u001b[49m\u001b[43m=\u001b[49m\u001b[43mjson\u001b[49m\u001b[43m,\u001b[49m\u001b[43m \u001b[49m\u001b[43m*\u001b[49m\u001b[43m*\u001b[49m\u001b[43mkwargs\u001b[49m\u001b[43m)\u001b[49m\n",
      "\u001b[36mFile \u001b[39m\u001b[32m~/.local/lib/python3.12/site-packages/requests/sessions.py:589\u001b[39m, in \u001b[36mSession.request\u001b[39m\u001b[34m(self, method, url, params, data, headers, cookies, files, auth, timeout, allow_redirects, proxies, hooks, stream, verify, cert, json)\u001b[39m\n\u001b[32m    588\u001b[39m send_kwargs.update(settings)\n\u001b[32m--> \u001b[39m\u001b[32m589\u001b[39m resp = \u001b[38;5;28;43mself\u001b[39;49m\u001b[43m.\u001b[49m\u001b[43msend\u001b[49m\u001b[43m(\u001b[49m\u001b[43mprep\u001b[49m\u001b[43m,\u001b[49m\u001b[43m \u001b[49m\u001b[43m*\u001b[49m\u001b[43m*\u001b[49m\u001b[43msend_kwargs\u001b[49m\u001b[43m)\u001b[49m\n\u001b[32m    591\u001b[39m \u001b[38;5;28;01mreturn\u001b[39;00m resp\n",
      "\u001b[36mFile \u001b[39m\u001b[32m~/.local/lib/python3.12/site-packages/requests/sessions.py:703\u001b[39m, in \u001b[36mSession.send\u001b[39m\u001b[34m(self, request, **kwargs)\u001b[39m\n\u001b[32m    702\u001b[39m \u001b[38;5;66;03m# Send the request\u001b[39;00m\n\u001b[32m--> \u001b[39m\u001b[32m703\u001b[39m r = \u001b[43madapter\u001b[49m\u001b[43m.\u001b[49m\u001b[43msend\u001b[49m\u001b[43m(\u001b[49m\u001b[43mrequest\u001b[49m\u001b[43m,\u001b[49m\u001b[43m \u001b[49m\u001b[43m*\u001b[49m\u001b[43m*\u001b[49m\u001b[43mkwargs\u001b[49m\u001b[43m)\u001b[49m\n\u001b[32m    705\u001b[39m \u001b[38;5;66;03m# Total elapsed time of the request (approximately)\u001b[39;00m\n",
      "\u001b[36mFile \u001b[39m\u001b[32m~/.local/lib/python3.12/site-packages/requests/adapters.py:688\u001b[39m, in \u001b[36mHTTPAdapter.send\u001b[39m\u001b[34m(self, request, stream, timeout, verify, cert, proxies)\u001b[39m\n\u001b[32m    687\u001b[39m     \u001b[38;5;28;01mif\u001b[39;00m \u001b[38;5;129;01mnot\u001b[39;00m \u001b[38;5;28misinstance\u001b[39m(e.reason, NewConnectionError):\n\u001b[32m--> \u001b[39m\u001b[32m688\u001b[39m         \u001b[38;5;28;01mraise\u001b[39;00m ConnectTimeout(e, request=request)\n\u001b[32m    690\u001b[39m \u001b[38;5;28;01mif\u001b[39;00m \u001b[38;5;28misinstance\u001b[39m(e.reason, ResponseError):\n",
      "\u001b[31mConnectTimeout\u001b[39m: HTTPSConnectionPool(host='archive.eso.org', port=443): Max retries exceeded with url: /tap_obs/sync (Caused by ConnectTimeoutError(<urllib3.connection.HTTPSConnection object at 0x7e7a6c75c080>, 'Connection to archive.eso.org timed out. (connect timeout=None)'))",
      "\nDuring handling of the above exception, another exception occurred:\n",
      "\u001b[31mDALFormatError\u001b[39m                            Traceback (most recent call last)",
      "\u001b[36mFile \u001b[39m\u001b[32m~/.python/current/lib/python3.12/site-packages/astroquery/eso/core.py:232\u001b[39m, in \u001b[36mEsoClass._try_download_pyvo_table\u001b[39m\u001b[34m(self, query_str, tap)\u001b[39m\n\u001b[32m    231\u001b[39m \u001b[38;5;28;01mtry\u001b[39;00m:\n\u001b[32m--> \u001b[39m\u001b[32m232\u001b[39m     table_to_return = \u001b[43mtap\u001b[49m\u001b[43m.\u001b[49m\u001b[43msearch\u001b[49m\u001b[43m(\u001b[49m\u001b[43mquery_str\u001b[49m\u001b[43m,\u001b[49m\u001b[43m \u001b[49m\u001b[43mmaxrec\u001b[49m\u001b[43m=\u001b[49m\u001b[38;5;28;43mself\u001b[39;49m\u001b[43m.\u001b[49m\u001b[43mmaxrec\u001b[49m\u001b[43m)\u001b[49m.to_table()\n\u001b[32m    233\u001b[39m \u001b[38;5;28;01mexcept\u001b[39;00m pde.DALQueryError \u001b[38;5;28;01mas\u001b[39;00m e:\n",
      "\u001b[36mFile \u001b[39m\u001b[32m~/.python/current/lib/python3.12/site-packages/pyvo/dal/tap.py:282\u001b[39m, in \u001b[36mTAPService.run_sync\u001b[39m\u001b[34m(self, query, language, maxrec, uploads, **keywords)\u001b[39m\n\u001b[32m    256\u001b[39m \u001b[38;5;250m\u001b[39m\u001b[33;03m\"\"\"\u001b[39;00m\n\u001b[32m    257\u001b[39m \u001b[33;03mruns sync query and returns its result\u001b[39;00m\n\u001b[32m    258\u001b[39m \n\u001b[32m   (...)\u001b[39m\u001b[32m    278\u001b[39m \u001b[33;03mTAPResults\u001b[39;00m\n\u001b[32m    279\u001b[39m \u001b[33;03m\"\"\"\u001b[39;00m\n\u001b[32m    280\u001b[39m \u001b[38;5;28;01mreturn\u001b[39;00m \u001b[38;5;28;43mself\u001b[39;49m\u001b[43m.\u001b[49m\u001b[43mcreate_query\u001b[49m\u001b[43m(\u001b[49m\n\u001b[32m    281\u001b[39m \u001b[43m    \u001b[49m\u001b[43mquery\u001b[49m\u001b[43m,\u001b[49m\u001b[43m \u001b[49m\u001b[43mlanguage\u001b[49m\u001b[43m=\u001b[49m\u001b[43mlanguage\u001b[49m\u001b[43m,\u001b[49m\u001b[43m \u001b[49m\u001b[43mmaxrec\u001b[49m\u001b[43m=\u001b[49m\u001b[43mmaxrec\u001b[49m\u001b[43m,\u001b[49m\u001b[43m \u001b[49m\u001b[43muploads\u001b[49m\u001b[43m=\u001b[49m\u001b[43muploads\u001b[49m\u001b[43m,\u001b[49m\n\u001b[32m--> \u001b[39m\u001b[32m282\u001b[39m \u001b[43m    \u001b[49m\u001b[43m*\u001b[49m\u001b[43m*\u001b[49m\u001b[43mkeywords\u001b[49m\u001b[43m)\u001b[49m\u001b[43m.\u001b[49m\u001b[43mexecute\u001b[49m\u001b[43m(\u001b[49m\u001b[43m)\u001b[49m\n",
      "\u001b[36mFile \u001b[39m\u001b[32m~/.python/current/lib/python3.12/site-packages/pyvo/dal/tap.py:1121\u001b[39m, in \u001b[36mTAPQuery.execute\u001b[39m\u001b[34m(self)\u001b[39m\n\u001b[32m   1108\u001b[39m \u001b[38;5;250m\u001b[39m\u001b[33;03m\"\"\"\u001b[39;00m\n\u001b[32m   1109\u001b[39m \u001b[33;03msubmit the query and return the results as a TAPResults instance\u001b[39;00m\n\u001b[32m   1110\u001b[39m \n\u001b[32m   (...)\u001b[39m\u001b[32m   1119\u001b[39m \u001b[33;03m   for errors parsing the VOTable response\u001b[39;00m\n\u001b[32m   1120\u001b[39m \u001b[33;03m\"\"\"\u001b[39;00m\n\u001b[32m-> \u001b[39m\u001b[32m1121\u001b[39m \u001b[38;5;28;01mreturn\u001b[39;00m TAPResults(\u001b[38;5;28;43mself\u001b[39;49m\u001b[43m.\u001b[49m\u001b[43mexecute_votable\u001b[49m\u001b[43m(\u001b[49m\u001b[43m)\u001b[49m, url=\u001b[38;5;28mself\u001b[39m.queryurl, session=\u001b[38;5;28mself\u001b[39m._session)\n",
      "\u001b[36mFile \u001b[39m\u001b[32m~/.python/current/lib/python3.12/site-packages/pyvo/dal/query.py:263\u001b[39m, in \u001b[36mDALQuery.execute_votable\u001b[39m\u001b[34m(self, post)\u001b[39m\n\u001b[32m    262\u001b[39m \u001b[38;5;28mself\u001b[39m.raise_if_error()\n\u001b[32m--> \u001b[39m\u001b[32m263\u001b[39m \u001b[38;5;28;01mraise\u001b[39;00m DALFormatError(e, \u001b[38;5;28mself\u001b[39m.queryurl)\n",
      "\u001b[31mDALFormatError\u001b[39m: ConnectTimeout: HTTPSConnectionPool(host='archive.eso.org', port=443): Max retries exceeded with url: /tap_obs/sync (Caused by ConnectTimeoutError(<urllib3.connection.HTTPSConnection object at 0x7e7a6c75c080>, 'Connection to archive.eso.org timed out. (connect timeout=None)'))",
      "\nThe above exception was the direct cause of the following exception:\n",
      "\u001b[31mDALFormatError\u001b[39m                            Traceback (most recent call last)",
      "\u001b[36mCell\u001b[39m\u001b[36m \u001b[39m\u001b[32mIn[81]\u001b[39m\u001b[32m, line 1\u001b[39m\n\u001b[32m----> \u001b[39m\u001b[32m1\u001b[39m table = \u001b[43meso\u001b[49m\u001b[43m.\u001b[49m\u001b[43mquery_instrument\u001b[49m\u001b[43m(\u001b[49m\u001b[33;43m'\u001b[39;49m\u001b[33;43mHARPS\u001b[39;49m\u001b[33;43m'\u001b[39;49m\u001b[43m,\u001b[49m\u001b[43m \u001b[49m\u001b[43mcolumn_filters\u001b[49m\u001b[43m=\u001b[49m\u001b[43m{\u001b[49m\u001b[33;43m'\u001b[39;49m\u001b[33;43mob_targ_name\u001b[39;49m\u001b[33;43m'\u001b[39;49m\u001b[43m \u001b[49m\u001b[43m:\u001b[49m\u001b[43m \u001b[49m\u001b[33;43m'\u001b[39;49m\u001b[33;43mV1129_Cen\u001b[39;49m\u001b[33;43m'\u001b[39;49m\u001b[43m}\u001b[49m\u001b[43m)\u001b[49m\u001b[38;5;66;03m#, columns=['ob_targ_name', 'release_date', 'moon_illu'])\u001b[39;00m\n\u001b[32m      2\u001b[39m \u001b[38;5;28mprint\u001b[39m(table)\n\u001b[32m      4\u001b[39m my_table = eso_instance.query_main(instrument= \u001b[33m'\u001b[39m\u001b[33mHARPS\u001b[39m\u001b[33m'\u001b[39m, ra=\u001b[32m12.6521917\u001b[39m, dec=-\u001b[32m45.5622628\u001b[39m, radius=\u001b[32m0.05\u001b[39m)\u001b[38;5;66;03m#, columns=\"target_name, s_ra, s_dec, s_region\")\u001b[39;00m\n",
      "\u001b[36mFile \u001b[39m\u001b[32m~/.python/current/lib/python3.12/site-packages/astropy/utils/decorators.py:618\u001b[39m, in \u001b[36mdeprecated_renamed_argument.<locals>.decorator.<locals>.wrapper\u001b[39m\u001b[34m(*args, **kwargs)\u001b[39m\n\u001b[32m    615\u001b[39m             msg += \u001b[33mf\u001b[39m\u001b[33m\"\u001b[39m\u001b[38;5;130;01m\\n\u001b[39;00m\u001b[33m        Use \u001b[39m\u001b[38;5;132;01m{\u001b[39;00malternative\u001b[38;5;132;01m}\u001b[39;00m\u001b[33m instead.\u001b[39m\u001b[33m\"\u001b[39m\n\u001b[32m    616\u001b[39m         warnings.warn(msg, warning_type, stacklevel=\u001b[32m2\u001b[39m)\n\u001b[32m--> \u001b[39m\u001b[32m618\u001b[39m \u001b[38;5;28;01mreturn\u001b[39;00m \u001b[43mfunction\u001b[49m\u001b[43m(\u001b[49m\u001b[43m*\u001b[49m\u001b[43margs\u001b[49m\u001b[43m,\u001b[49m\u001b[43m \u001b[49m\u001b[43m*\u001b[49m\u001b[43m*\u001b[49m\u001b[43mkwargs\u001b[49m\u001b[43m)\u001b[49m\n",
      "\u001b[36mFile \u001b[39m\u001b[32m~/.python/current/lib/python3.12/site-packages/astroquery/eso/core.py:683\u001b[39m, in \u001b[36mEsoClass.query_instrument\u001b[39m\u001b[34m(self, instrument, ra, dec, radius, columns, top, count_only, query_str_only, help, authenticated, column_filters, open_form, cache, **kwargs)\u001b[39m\n\u001b[32m    681\u001b[39m c = column_filters \u001b[38;5;28;01mif\u001b[39;00m column_filters \u001b[38;5;28;01melse\u001b[39;00m {}\n\u001b[32m    682\u001b[39m kwargs = {**kwargs, **c}\n\u001b[32m--> \u001b[39m\u001b[32m683\u001b[39m \u001b[38;5;28;01mreturn\u001b[39;00m \u001b[38;5;28;43mself\u001b[39;49m\u001b[43m.\u001b[49m\u001b[43m_query_on_allowed_values\u001b[49m\u001b[43m(\u001b[49m\u001b[43mtable_name\u001b[49m\u001b[43m=\u001b[49m\u001b[43mEsoNames\u001b[49m\u001b[43m.\u001b[49m\u001b[43mist_table\u001b[49m\u001b[43m(\u001b[49m\u001b[43minstrument\u001b[49m\u001b[43m)\u001b[49m\u001b[43m,\u001b[49m\n\u001b[32m    684\u001b[39m \u001b[43m                                     \u001b[49m\u001b[43mcolumn_name\u001b[49m\u001b[43m=\u001b[49m\u001b[38;5;28;43;01mNone\u001b[39;49;00m\u001b[43m,\u001b[49m\n\u001b[32m    685\u001b[39m \u001b[43m                                     \u001b[49m\u001b[43mallowed_values\u001b[49m\u001b[43m=\u001b[49m\u001b[38;5;28;43;01mNone\u001b[39;49;00m\u001b[43m,\u001b[49m\n\u001b[32m    686\u001b[39m \u001b[43m                                     \u001b[49m\u001b[43mra\u001b[49m\u001b[43m=\u001b[49m\u001b[43mra\u001b[49m\u001b[43m,\u001b[49m\u001b[43m \u001b[49m\u001b[43mdec\u001b[49m\u001b[43m=\u001b[49m\u001b[43mdec\u001b[49m\u001b[43m,\u001b[49m\u001b[43m \u001b[49m\u001b[43mradius\u001b[49m\u001b[43m=\u001b[49m\u001b[43mradius\u001b[49m\u001b[43m,\u001b[49m\n\u001b[32m    687\u001b[39m \u001b[43m                                     \u001b[49m\u001b[43mcolumns\u001b[49m\u001b[43m=\u001b[49m\u001b[43mcolumns\u001b[49m\u001b[43m,\u001b[49m\n\u001b[32m    688\u001b[39m \u001b[43m                                     \u001b[49m\u001b[43mtop\u001b[49m\u001b[43m=\u001b[49m\u001b[43mtop\u001b[49m\u001b[43m,\u001b[49m\n\u001b[32m    689\u001b[39m \u001b[43m                                     \u001b[49m\u001b[43mcount_only\u001b[49m\u001b[43m=\u001b[49m\u001b[43mcount_only\u001b[49m\u001b[43m,\u001b[49m\n\u001b[32m    690\u001b[39m \u001b[43m                                     \u001b[49m\u001b[43mquery_str_only\u001b[49m\u001b[43m=\u001b[49m\u001b[43mquery_str_only\u001b[49m\u001b[43m,\u001b[49m\n\u001b[32m    691\u001b[39m \u001b[43m                                     \u001b[49m\u001b[43mprint_help\u001b[49m\u001b[43m=\u001b[49m\u001b[43mhelp\u001b[49m\u001b[43m,\u001b[49m\n\u001b[32m    692\u001b[39m \u001b[43m                                     \u001b[49m\u001b[43mauthenticated\u001b[49m\u001b[43m=\u001b[49m\u001b[43mauthenticated\u001b[49m\u001b[43m,\u001b[49m\n\u001b[32m    693\u001b[39m \u001b[43m                                     \u001b[49m\u001b[43m*\u001b[49m\u001b[43m*\u001b[49m\u001b[43mkwargs\u001b[49m\u001b[43m)\u001b[49m\n",
      "\u001b[36mFile \u001b[39m\u001b[32m~/.python/current/lib/python3.12/site-packages/astroquery/eso/core.py:416\u001b[39m, in \u001b[36mEsoClass._query_on_allowed_values\u001b[39m\u001b[34m(self, table_name, column_name, allowed_values, ra, dec, radius, columns, top, count_only, query_str_only, print_help, authenticated, **kwargs)\u001b[39m\n\u001b[32m    413\u001b[39m \u001b[38;5;28;01mif\u001b[39;00m query_str_only:\n\u001b[32m    414\u001b[39m     \u001b[38;5;28;01mreturn\u001b[39;00m query  \u001b[38;5;66;03m# string\u001b[39;00m\n\u001b[32m--> \u001b[39m\u001b[32m416\u001b[39m retval = \u001b[38;5;28;43mself\u001b[39;49m\u001b[43m.\u001b[49m\u001b[43mquery_tap_service\u001b[49m\u001b[43m(\u001b[49m\u001b[43mquery_str\u001b[49m\u001b[43m=\u001b[49m\u001b[43mquery\u001b[49m\u001b[43m,\u001b[49m\n\u001b[32m    417\u001b[39m \u001b[43m                                \u001b[49m\u001b[43mauthenticated\u001b[49m\u001b[43m=\u001b[49m\u001b[43mauthenticated\u001b[49m\u001b[43m)\u001b[49m  \u001b[38;5;66;03m# table\u001b[39;00m\n\u001b[32m    418\u001b[39m \u001b[38;5;28;01mif\u001b[39;00m count_only:\n\u001b[32m    419\u001b[39m     retval = \u001b[38;5;28mlist\u001b[39m(retval[\u001b[32m0\u001b[39m].values())[\u001b[32m0\u001b[39m]  \u001b[38;5;66;03m# int\u001b[39;00m\n",
      "\u001b[36mFile \u001b[39m\u001b[32m~/.python/current/lib/python3.12/site-packages/astroquery/eso/core.py:290\u001b[39m, in \u001b[36mEsoClass.query_tap_service\u001b[39m\u001b[34m(self, query_str, authenticated)\u001b[39m\n\u001b[32m    288\u001b[39m table_to_return = \u001b[38;5;28;01mNone\u001b[39;00m\n\u001b[32m    289\u001b[39m tap_service = \u001b[38;5;28mself\u001b[39m._tap_service(authenticated)\n\u001b[32m--> \u001b[39m\u001b[32m290\u001b[39m table_to_return = \u001b[38;5;28;43mself\u001b[39;49m\u001b[43m.\u001b[49m\u001b[43m_try_download_pyvo_table\u001b[49m\u001b[43m(\u001b[49m\u001b[43mquery_str\u001b[49m\u001b[43m,\u001b[49m\u001b[43m \u001b[49m\u001b[43mtap_service\u001b[49m\u001b[43m)\u001b[49m\n\u001b[32m    291\u001b[39m \u001b[38;5;28mself\u001b[39m._maybe_warn_about_table_length(table_to_return)\n\u001b[32m    292\u001b[39m \u001b[38;5;28;01mreturn\u001b[39;00m table_to_return\n",
      "\u001b[36mFile \u001b[39m\u001b[32m~/.python/current/lib/python3.12/site-packages/astroquery/eso/core.py:236\u001b[39m, in \u001b[36mEsoClass._try_download_pyvo_table\u001b[39m\u001b[34m(self, query_str, tap)\u001b[39m\n\u001b[32m    234\u001b[39m     \u001b[38;5;28;01mraise\u001b[39;00m pde.DALQueryError(message(query_str)) \u001b[38;5;28;01mfrom\u001b[39;00m\u001b[38;5;250m \u001b[39m\u001b[34;01me\u001b[39;00m\n\u001b[32m    235\u001b[39m \u001b[38;5;28;01mexcept\u001b[39;00m pde.DALFormatError \u001b[38;5;28;01mas\u001b[39;00m e:\n\u001b[32m--> \u001b[39m\u001b[32m236\u001b[39m     \u001b[38;5;28;01mraise\u001b[39;00m pde.DALFormatError(message(query_str) + \u001b[33mf\u001b[39m\u001b[33m\"\u001b[39m\u001b[33mcause: \u001b[39m\u001b[38;5;132;01m{\u001b[39;00me.cause\u001b[38;5;132;01m}\u001b[39;00m\u001b[33m\"\u001b[39m) \u001b[38;5;28;01mfrom\u001b[39;00m\u001b[38;5;250m \u001b[39m\u001b[34;01me\u001b[39;00m\n\u001b[32m    237\u001b[39m \u001b[38;5;28;01mexcept\u001b[39;00m \u001b[38;5;167;01mException\u001b[39;00m \u001b[38;5;28;01mas\u001b[39;00m e:\n\u001b[32m    238\u001b[39m     \u001b[38;5;28;01mraise\u001b[39;00m \u001b[38;5;167;01mRuntimeError\u001b[39;00m(\n\u001b[32m    239\u001b[39m         \u001b[33mf\u001b[39m\u001b[33m\"\u001b[39m\u001b[33mUnhandled exception \u001b[39m\u001b[38;5;132;01m{\u001b[39;00m\u001b[38;5;28mtype\u001b[39m(e)\u001b[38;5;132;01m}\u001b[39;00m\u001b[38;5;130;01m\\n\u001b[39;00m\u001b[33m\"\u001b[39m + message(query_str)) \u001b[38;5;28;01mfrom\u001b[39;00m\u001b[38;5;250m \u001b[39m\u001b[34;01me\u001b[39;00m\n",
      "\u001b[31mDALFormatError\u001b[39m: str: Error executing the following query:\n\nselect * from ist.HARPS where ob_targ_name = 'V1129_Cen'\n\nSee examples here: https://archive.eso.org/tap_obs/examples\n\ncause: HTTPSConnectionPool(host='archive.eso.org', port=443): Max retries exceeded with url: /tap_obs/sync (Caused by ConnectTimeoutError(<urllib3.connection.HTTPSConnection object at 0x7e7a6c75c080>, 'Connection to archive.eso.org timed out. (connect timeout=None)'))"
     ]
    }
   ],
   "source": [
    "table = eso.query_instrument('HARPS', column_filters={'ob_targ_name' : 'V1129_Cen'})#, columns=['ob_targ_name', 'release_date', 'moon_illu'])\n",
    "print(table)\n",
    "\n",
    "my_table = eso_instance.query_main(instrument= 'HARPS', ra=12.6521917, dec=-45.5622628, radius=0.05)#, columns=\"target_name, s_ra, s_dec, s_region\")\n"
   ]
  }
 ],
 "metadata": {
  "kernelspec": {
   "display_name": "Python 3",
   "language": "python",
   "name": "python3"
  },
  "language_info": {
   "codemirror_mode": {
    "name": "ipython",
    "version": 3
   },
   "file_extension": ".py",
   "mimetype": "text/x-python",
   "name": "python",
   "nbconvert_exporter": "python",
   "pygments_lexer": "ipython3",
   "version": "3.12.1"
  }
 },
 "nbformat": 4,
 "nbformat_minor": 2
}
