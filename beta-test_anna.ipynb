{
 "cells": [
  {
   "cell_type": "markdown",
   "metadata": {},
   "source": [
    "<hr style=\"border:2px solid #0281c9\"> </hr>\n",
    "\n",
    "<img align=\"left\" alt=\"ESO Logo\" src=\"http://archive.eso.org/i/esologo.png\">  \n",
    "\n",
    "<div align=\"center\">\n",
    "  <h1 style=\"color: #0281c9; font-weight: bold;\">Astroquery Beta Test</h1>\n",
    "  <h2 style=\"color: #0281c9; font-weight: bold;\">ESO Science Archive - April 2025</h2> \n",
    "</div>\n",
    "\n",
    "<hr style=\"border:2px solid #0281c9\"> </hr>"
   ]
  },
  {
   "cell_type": "markdown",
   "metadata": {},
   "source": [
    "_This notebook focuses specifically on testing recent developments related to the transition from the WDB backend to the TAP backend._ - [DFS-19635](https://jira.eso.org/browse/DFS-19635)\n",
    "\n",
    "As a Beta tester, we would like to ask your feedback on the following aspects:\n",
    "\n",
    " - What absolutely needs to be fixed before the release\n",
    " - What would be nice to be fixed before the release\n",
    " - Feature ideas and improvements for subsequent releases\n",
    "\n",
    "The current astroquery ESO module documentation will mostly work: https://astroquery.readthedocs.io/en/latest/eso/eso.html\n",
    "\n",
    "For the parts that unevitably needed changes, the updated documentation is found in the `docs` folder in this repository:\n",
    " - `./docs/AstroqueryEsoDocumentation-Beta.pdf`\n",
    " - `./docs/AstroqueryEsoDocstrings-Beta.pdf`\n",
    " - `./docs/html/`\n"
   ]
  },
  {
   "cell_type": "code",
   "execution_count": 12,
   "metadata": {},
   "outputs": [
    {
     "name": "stderr",
     "output_type": "stream",
     "text": [
      "157.82s - pydevd: Sending message related to process being replaced timed-out after 5 seconds\n"
     ]
    },
    {
     "name": "stdout",
     "output_type": "stream",
     "text": [
      "mkdir: cannot create directory ‘TEST_ESO_ASTROQUERY’: File exists\n",
      "fatal: destination path 'astroquery' already exists and is not an empty directory.\n",
      "Already on 'TAP'\n",
      "Your branch is up to date with 'origin/TAP'.\n",
      "Processing /workspaces/astroquery-beta-test/TEST_ESO_ASTROQUERY/astroquery\n",
      "  Installing build dependencies ... \u001b[?25ldone\n",
      "\u001b[?25h  Getting requirements to build wheel ... \u001b[?25ldone\n",
      "\u001b[?25h  Preparing metadata (pyproject.toml) ... \u001b[?25ldone\n",
      "\u001b[?25hRequirement already satisfied: numpy>=1.20 in /home/codespace/.local/lib/python3.12/site-packages (from astroquery==0.4.11.dev10181) (2.2.4)\n",
      "Requirement already satisfied: astropy>=5.0 in /usr/local/python/3.12.1/lib/python3.12/site-packages (from astroquery==0.4.11.dev10181) (7.0.1)\n",
      "Requirement already satisfied: requests>=2.19 in /home/codespace/.local/lib/python3.12/site-packages (from astroquery==0.4.11.dev10181) (2.32.3)\n",
      "Requirement already satisfied: beautifulsoup4>=4.8 in /home/codespace/.local/lib/python3.12/site-packages (from astroquery==0.4.11.dev10181) (4.13.3)\n",
      "Requirement already satisfied: html5lib>=0.999 in /usr/local/python/3.12.1/lib/python3.12/site-packages (from astroquery==0.4.11.dev10181) (1.1)\n",
      "Requirement already satisfied: keyring>=15.0 in /usr/local/python/3.12.1/lib/python3.12/site-packages (from astroquery==0.4.11.dev10181) (25.6.0)\n",
      "Requirement already satisfied: pyvo>=1.5 in /usr/local/python/3.12.1/lib/python3.12/site-packages (from astroquery==0.4.11.dev10181) (1.6.1)\n",
      "Requirement already satisfied: pyerfa>=2.0.1.1 in /usr/local/python/3.12.1/lib/python3.12/site-packages (from astropy>=5.0->astroquery==0.4.11.dev10181) (2.0.1.5)\n",
      "Requirement already satisfied: astropy-iers-data>=0.2025.1.31.12.41.4 in /usr/local/python/3.12.1/lib/python3.12/site-packages (from astropy>=5.0->astroquery==0.4.11.dev10181) (0.2025.3.31.0.36.18)\n",
      "Requirement already satisfied: PyYAML>=6.0.0 in /home/codespace/.local/lib/python3.12/site-packages (from astropy>=5.0->astroquery==0.4.11.dev10181) (6.0.2)\n",
      "Requirement already satisfied: packaging>=22.0.0 in /home/codespace/.local/lib/python3.12/site-packages (from astropy>=5.0->astroquery==0.4.11.dev10181) (24.2)\n",
      "Requirement already satisfied: soupsieve>1.2 in /home/codespace/.local/lib/python3.12/site-packages (from beautifulsoup4>=4.8->astroquery==0.4.11.dev10181) (2.6)\n",
      "Requirement already satisfied: typing-extensions>=4.0.0 in /home/codespace/.local/lib/python3.12/site-packages (from beautifulsoup4>=4.8->astroquery==0.4.11.dev10181) (4.12.2)\n",
      "Requirement already satisfied: six>=1.9 in /home/codespace/.local/lib/python3.12/site-packages (from html5lib>=0.999->astroquery==0.4.11.dev10181) (1.17.0)\n",
      "Requirement already satisfied: webencodings in /home/codespace/.local/lib/python3.12/site-packages (from html5lib>=0.999->astroquery==0.4.11.dev10181) (0.5.1)\n",
      "Requirement already satisfied: SecretStorage>=3.2 in /usr/local/python/3.12.1/lib/python3.12/site-packages (from keyring>=15.0->astroquery==0.4.11.dev10181) (3.3.3)\n",
      "Requirement already satisfied: jeepney>=0.4.2 in /usr/local/python/3.12.1/lib/python3.12/site-packages (from keyring>=15.0->astroquery==0.4.11.dev10181) (0.9.0)\n",
      "Requirement already satisfied: jaraco.classes in /usr/local/python/3.12.1/lib/python3.12/site-packages (from keyring>=15.0->astroquery==0.4.11.dev10181) (3.4.0)\n",
      "Requirement already satisfied: jaraco.functools in /usr/local/python/3.12.1/lib/python3.12/site-packages (from keyring>=15.0->astroquery==0.4.11.dev10181) (4.1.0)\n",
      "Requirement already satisfied: jaraco.context in /usr/local/python/3.12.1/lib/python3.12/site-packages (from keyring>=15.0->astroquery==0.4.11.dev10181) (6.0.1)\n",
      "Requirement already satisfied: charset-normalizer<4,>=2 in /home/codespace/.local/lib/python3.12/site-packages (from requests>=2.19->astroquery==0.4.11.dev10181) (3.4.1)\n",
      "Requirement already satisfied: idna<4,>=2.5 in /home/codespace/.local/lib/python3.12/site-packages (from requests>=2.19->astroquery==0.4.11.dev10181) (3.10)\n",
      "Requirement already satisfied: urllib3<3,>=1.21.1 in /home/codespace/.local/lib/python3.12/site-packages (from requests>=2.19->astroquery==0.4.11.dev10181) (2.3.0)\n",
      "Requirement already satisfied: certifi>=2017.4.17 in /home/codespace/.local/lib/python3.12/site-packages (from requests>=2.19->astroquery==0.4.11.dev10181) (2025.1.31)\n",
      "Requirement already satisfied: cryptography>=2.0 in /usr/local/python/3.12.1/lib/python3.12/site-packages (from SecretStorage>=3.2->keyring>=15.0->astroquery==0.4.11.dev10181) (44.0.2)\n",
      "Requirement already satisfied: more-itertools in /usr/local/python/3.12.1/lib/python3.12/site-packages (from jaraco.classes->keyring>=15.0->astroquery==0.4.11.dev10181) (10.6.0)\n",
      "Requirement already satisfied: cffi>=1.12 in /home/codespace/.local/lib/python3.12/site-packages (from cryptography>=2.0->SecretStorage>=3.2->keyring>=15.0->astroquery==0.4.11.dev10181) (1.17.1)\n",
      "Requirement already satisfied: pycparser in /home/codespace/.local/lib/python3.12/site-packages (from cffi>=1.12->cryptography>=2.0->SecretStorage>=3.2->keyring>=15.0->astroquery==0.4.11.dev10181) (2.22)\n",
      "Building wheels for collected packages: astroquery\n",
      "  Building wheel for astroquery (pyproject.toml) ... \u001b[?25ldone\n",
      "\u001b[?25h  Created wheel for astroquery: filename=astroquery-0.4.11.dev10181-py3-none-any.whl size=11137130 sha256=e2e9bf61df1350022eff82ed57c9c0627b81c895f411ea859f23befff6d8e02d\n",
      "  Stored in directory: /tmp/pip-ephem-wheel-cache-9y56pjwz/wheels/b6/28/82/3659dc0de87b199f1911ba27ca92f40086d52605a8cf8e2243\n",
      "Successfully built astroquery\n",
      "Installing collected packages: astroquery\n",
      "  Attempting uninstall: astroquery\n",
      "    Found existing installation: astroquery 0.4.11.dev10181\n",
      "    Uninstalling astroquery-0.4.11.dev10181:\n",
      "      Successfully uninstalled astroquery-0.4.11.dev10181\n",
      "Successfully installed astroquery-0.4.11.dev10181\n",
      "\n",
      " ##### \n",
      "\n",
      "ESO TAP url: https://archive.eso.org/tap_obs\n",
      "\n",
      " If the line above reads \"ESO TAP url: http://archive.eso.org/tap_obs\", everything went ok\n",
      "\n",
      "\n",
      " ##### \n"
     ]
    }
   ],
   "source": [
    "!bash install_astroquery.sh"
   ]
  },
  {
   "cell_type": "markdown",
   "metadata": {},
   "source": [
    "## Handy imports and functions"
   ]
  },
  {
   "cell_type": "code",
   "execution_count": 13,
   "metadata": {},
   "outputs": [],
   "source": [
    "import os\n",
    "import pandas as pd\n",
    "import astropy.table.table as aqtable\n",
    "from pyvo.dal.exceptions import DALQueryError, DALServiceError\n",
    "from IPython.display import clear_output\n",
    "\n",
    "def table_to_csv(aqtable: aqtable, filepath: str):\n",
    "    aqtable.to_pandas().to_csv(filepath)\n",
    "    print(f\"Table saved to {filepath}\")"
   ]
  },
  {
   "cell_type": "markdown",
   "metadata": {},
   "source": [
    "## ESO instance"
   ]
  },
  {
   "cell_type": "code",
   "execution_count": 14,
   "metadata": {},
   "outputs": [
    {
     "name": "stdout",
     "output_type": "stream",
     "text": [
      "ESO tap_url = https://archive.eso.org/tap_obs\n"
     ]
    }
   ],
   "source": [
    "from astroquery.eso import Eso\n",
    "\n",
    "eso_instance = Eso()\n",
    "\n",
    "eso_instance.maxrec = 1000\n",
    "\n",
    "print(f\"ESO tap_url = {eso_instance._tap_url()}\")"
   ]
  },
  {
   "cell_type": "markdown",
   "metadata": {},
   "source": [
    "# Tutorial"
   ]
  },
  {
   "cell_type": "markdown",
   "metadata": {},
   "source": [
    "## Query Raw Data"
   ]
  },
  {
   "cell_type": "code",
   "execution_count": 15,
   "metadata": {},
   "outputs": [
    {
     "name": "stdout",
     "output_type": "stream",
     "text": [
      "Table saved to ./eso_aq_example_query_main.csv\n"
     ]
    },
    {
     "name": "stderr",
     "output_type": "stream",
     "text": [
      "/home/codespace/.python/current/lib/python3.12/site-packages/pyvo/dal/query.py:341: DALOverflowWarning: Partial result set. Potential causes MAXREC, async storage space, etc.\n",
      "  warn(\"Partial result set. Potential causes MAXREC, async storage space, etc.\",\n",
      "WARNING: MaxResultsWarning: Results truncated to 1000. To retrieve all the records set to None the maxrec attribute [astroquery.eso.core]\n"
     ]
    }
   ],
   "source": [
    "my_table = eso_instance.query_main()\n",
    "table_to_csv(my_table, \"./eso_aq_example_query_main.csv\")\n",
    "# my_table[:2].show_in_notebook()"
   ]
  },
  {
   "cell_type": "markdown",
   "metadata": {},
   "source": [
    "## Query Phase 3 Data"
   ]
  },
  {
   "cell_type": "code",
   "execution_count": 16,
   "metadata": {},
   "outputs": [
    {
     "name": "stdout",
     "output_type": "stream",
     "text": [
      "              survey\n",
      "0         081.C-0827\n",
      "1         092.A-0472\n",
      "2         096.B-0054\n",
      "3        1100.A-0528\n",
      "4        1101.A-0127\n",
      "5         193.D-0232\n",
      "6         195.B-0283\n",
      "7         196.B-0578\n",
      "8         196.D-0214\n",
      "9         197.A-0384\n",
      "10        198.A-0708\n",
      "11        60.A-9284H\n",
      "12         60.A-9493\n",
      "13             ADHOC\n",
      "14          ALCOHOLS\n",
      "15           ALLSMOG\n",
      "16              ALMA\n",
      "17             AMAZE\n",
      "18             AMBRE\n",
      "19       APEX-SciOps\n",
      "20          ATLASGAL\n",
      "21          CAFFEINE\n",
      "22           ENTROPY\n",
      "23       ePESSTOplus\n",
      "24          ERIS-NIX\n",
      "25     ERIS-SPIFFIER\n",
      "26          ESPRESSO\n",
      "27           ESSENCE\n",
      "28               FDS\n",
      "29             FEROS\n",
      "30          Fornax3D\n",
      "31        FORS2-SPEC\n",
      "32           GAIAESO\n",
      "33              GCAV\n",
      "34           GIRAFFE\n",
      "35       GOODS_FORS2\n",
      "36       GOODS_ISAAC\n",
      "37  GOODS_VIMOS_IMAG\n",
      "38  GOODS_VIMOS_SPEC\n",
      "39          GW170817\n",
      "40             HARPS\n",
      "41             HAWKI\n",
      "42              HUGS\n",
      "43           INSPIRE\n",
      "44              KIDS\n",
      "45              KMOS\n",
      "46            LEGA-C\n",
      "47              LESS\n",
      "48             MAGIC\n",
      "49              MUSE\n",
      "50         MUSE-DEEP\n",
      "51          MUSE-STD\n",
      "52  MW-BULGE-PSFPHOT\n",
      "53              NGTS\n",
      "54     OMEGACAM_INAF\n",
      "55         PENELLOPE\n",
      "56            PESSTO\n",
      "57            PHANGS\n",
      "58           PIONIER\n",
      "59            SHARKS\n",
      "60            SPHERE\n",
      "61             SUPER\n",
      "62        UltraVISTA\n",
      "63              UVES\n",
      "64        UVES_SQUAD\n",
      "65           VANDELS\n",
      "66             VEGAS\n",
      "67             VEILS\n",
      "68             VEXAS\n",
      "69               VHS\n",
      "70             VIDEO\n",
      "71            VIKING\n",
      "72             VIMOS\n",
      "73          VINROUGE\n",
      "74            VIPERS\n",
      "75           VISIONS\n",
      "76               VMC\n",
      "77         VPHASplus\n",
      "78         VST-ATLAS\n",
      "79               VVV\n",
      "80              VVVX\n",
      "81            XQ-100\n",
      "82             XSGRB\n",
      "83          XSHOOTER\n",
      "84           XShootU\n",
      "85               XSL\n",
      "86           ZCOSMOS\n"
     ]
    }
   ],
   "source": [
    "available_surveys = eso_instance.list_surveys()\n",
    "\n",
    "print(pd.DataFrame({\"survey\": available_surveys}).to_string())"
   ]
  },
  {
   "cell_type": "code",
   "execution_count": 17,
   "metadata": {},
   "outputs": [
    {
     "name": "stdout",
     "output_type": "stream",
     "text": [
      "Table saved to ./eso_aq_example_query_surveys.csv\n"
     ]
    },
    {
     "name": "stderr",
     "output_type": "stream",
     "text": [
      "/home/codespace/.python/current/lib/python3.12/site-packages/pyvo/dal/query.py:341: DALOverflowWarning: Partial result set. Potential causes MAXREC, async storage space, etc.\n",
      "  warn(\"Partial result set. Potential causes MAXREC, async storage space, etc.\",\n",
      "WARNING: MaxResultsWarning: Results truncated to 1000. To retrieve all the records set to None the maxrec attribute [astroquery.eso.core]\n"
     ]
    }
   ],
   "source": [
    "my_table = eso_instance.query_surveys()\n",
    "\n",
    "table_to_csv(my_table, \"./eso_aq_example_query_surveys.csv\")\n",
    "# my_table[:2].show_in_notebook()"
   ]
  },
  {
   "cell_type": "code",
   "execution_count": 18,
   "metadata": {},
   "outputs": [
    {
     "name": "stdout",
     "output_type": "stream",
     "text": [
      "Table saved to ./eso_aq_example_query_surveys_sphere.csv\n"
     ]
    }
   ],
   "source": [
    "my_table = eso_instance.query_surveys('SPHERE')\n",
    "\n",
    "table_to_csv(my_table, \"./eso_aq_example_query_surveys_sphere.csv\")\n",
    "# my_table.show_in_notebook()"
   ]
  },
  {
   "cell_type": "code",
   "execution_count": 19,
   "metadata": {},
   "outputs": [
    {
     "name": "stdout",
     "output_type": "stream",
     "text": [
      "Table saved to ./eso_aq_example_query_surveys_sphere_vegas.csv\n"
     ]
    }
   ],
   "source": [
    "my_table = eso_instance.query_surveys(['SPHERE', 'VEGAS'])\n",
    "my_table_2 = eso_instance.query_surveys('SPHERE, VEGAS')\n",
    "assert all(my_table.values_equal(my_table_2))\n",
    "\n",
    "table_to_csv(my_table, \"./eso_aq_example_query_surveys_sphere_vegas.csv\")\n",
    "\n",
    "#my_table.show_in_notebook()"
   ]
  },
  {
   "cell_type": "markdown",
   "metadata": {},
   "source": [
    "## Query Instrument Specific Data"
   ]
  },
  {
   "cell_type": "code",
   "execution_count": 20,
   "metadata": {},
   "outputs": [
    {
     "name": "stdout",
     "output_type": "stream",
     "text": [
      "   instrument\n",
      "0      alpaca\n",
      "1       amber\n",
      "2        apex\n",
      "3      crires\n",
      "4       efosc\n",
      "5        eris\n",
      "6    espresso\n",
      "7        fiat\n",
      "8       fors1\n",
      "9       fors2\n",
      "10    giraffe\n",
      "11    gravity\n",
      "12      harps\n",
      "13      hawki\n",
      "14      isaac\n",
      "15       kmos\n",
      "16    matisse\n",
      "17       midi\n",
      "18       muse\n",
      "19       naco\n",
      "20      nirps\n",
      "21   omegacam\n",
      "22    pionier\n",
      "23    sinfoni\n",
      "24       sofi\n",
      "25     sphere\n",
      "26       uves\n",
      "27      vimos\n",
      "28     vircam\n",
      "29      visir\n",
      "30      wlgsu\n",
      "31   xshooter\n"
     ]
    }
   ],
   "source": [
    "available_instruments = eso_instance.list_instruments()\n",
    "print(pd.DataFrame({\"instrument\": available_instruments}).to_string())"
   ]
  },
  {
   "cell_type": "code",
   "execution_count": 21,
   "metadata": {},
   "outputs": [
    {
     "name": "stdout",
     "output_type": "stream",
     "text": [
      "Table saved to ./eso_aq_example_query_instrument_midi.csv\n"
     ]
    },
    {
     "name": "stderr",
     "output_type": "stream",
     "text": [
      "/home/codespace/.python/current/lib/python3.12/site-packages/pyvo/dal/query.py:341: DALOverflowWarning: Partial result set. Potential causes MAXREC, async storage space, etc.\n",
      "  warn(\"Partial result set. Potential causes MAXREC, async storage space, etc.\",\n",
      "WARNING: MaxResultsWarning: Results truncated to 1000. To retrieve all the records set to None the maxrec attribute [astroquery.eso.core]\n"
     ]
    }
   ],
   "source": [
    "my_table = eso_instance.query_instrument(\"midi\")\n",
    "table_to_csv(my_table, \"./eso_aq_example_query_instrument_midi.csv\")\n",
    "# my_table.show_in_notebook()"
   ]
  },
  {
   "cell_type": "markdown",
   "metadata": {},
   "source": [
    "## Query some columns"
   ]
  },
  {
   "cell_type": "code",
   "execution_count": 22,
   "metadata": {},
   "outputs": [
    {
     "name": "stdout",
     "output_type": "stream",
     "text": [
      "Table saved to ./eso_aq_example_query_main_columns.csv\n"
     ]
    },
    {
     "name": "stderr",
     "output_type": "stream",
     "text": [
      "/home/codespace/.python/current/lib/python3.12/site-packages/pyvo/dal/query.py:341: DALOverflowWarning: Partial result set. Potential causes MAXREC, async storage space, etc.\n",
      "  warn(\"Partial result set. Potential causes MAXREC, async storage space, etc.\",\n",
      "WARNING: MaxResultsWarning: Results truncated to 1000. To retrieve all the records set to None the maxrec attribute [astroquery.eso.core]\n"
     ]
    }
   ],
   "source": [
    "my_table = eso_instance.query_main(columns=[\"target\", \"instrument\", \"date_obs\", \"access_url\", \"datalink_url\"])\n",
    "table_to_csv(my_table, \"./eso_aq_example_query_main_columns.csv\")\n",
    "#my_table[0:3].show_in_notebook()"
   ]
  },
  {
   "cell_type": "markdown",
   "metadata": {},
   "source": [
    "## Info before launching a query"
   ]
  },
  {
   "cell_type": "markdown",
   "metadata": {},
   "source": [
    "### Rows and columns"
   ]
  },
  {
   "cell_type": "code",
   "execution_count": 23,
   "metadata": {},
   "outputs": [
    {
     "name": "stdout",
     "output_type": "stream",
     "text": [
      "INFO: \n",
      "Columns present in the table dbo.raw:\n",
      "    column_name     datatype    xtype     unit \n",
      "------------------- -------- ----------- ------\n",
      "     access_estsize     long              kbyte\n",
      "         access_url     char                   \n",
      "       datalink_url     char                   \n",
      "           date_obs     char                   \n",
      "                dec   double                deg\n",
      "            dec_pnt   double                deg\n",
      "        det_chip1id     char                   \n",
      "   det_chop_ncycles    short                   \n",
      "            det_dit    float                  s\n",
      "          det_expid    short                   \n",
      "           det_ndit    short                   \n",
      "             dp_cat     char                   \n",
      "              dp_id     char                   \n",
      "            dp_tech     char                   \n",
      "            dp_type     char                   \n",
      "            ecl_lat   double                deg\n",
      "            ecl_lon   double                deg\n",
      "          exp_start     char   timestamp       \n",
      "           exposure    float                  s\n",
      "        filter_path     char                   \n",
      "            gal_lat   double                deg\n",
      "            gal_lon   double                deg\n",
      "          grat_path     char                   \n",
      "          gris_path     char                   \n",
      "           ins_mode     char                   \n",
      "         instrument     char                   \n",
      "         lambda_max   double                 nm\n",
      "         lambda_min   double                 nm\n",
      "      last_mod_date     char   timestamp       \n",
      "            mjd_obs   double                  d\n",
      "              ob_id      int                   \n",
      "            ob_name     char                   \n",
      "             object     char                   \n",
      "           obs_mode     char                   \n",
      "           origfile     char                   \n",
      "             period    short                   \n",
      "             pi_coi     char                   \n",
      "            prog_id     char                   \n",
      "         prog_title     char                   \n",
      "          prog_type      int                   \n",
      "                 ra   double                deg\n",
      "             ra_pnt   double                deg\n",
      "       release_date     char   timestamp       \n",
      "           s_region     char adql:REGION       \n",
      "          slit_path     char                   \n",
      "             target     char                   \n",
      "       tel_airm_end    float                   \n",
      "     tel_airm_start    float                   \n",
      "            tel_alt    float                deg\n",
      "  tel_ambi_fwhm_end    float             arcsec\n",
      "tel_ambi_fwhm_start    float             arcsec\n",
      "  tel_ambi_pres_end    float                hPa\n",
      "tel_ambi_pres_start    float                hPa\n",
      "      tel_ambi_rhum    float                  %\n",
      "             tel_az    float                deg\n",
      "          telescope     char                   \n",
      "          tpl_expno      int                   \n",
      "             tpl_id     char                   \n",
      "           tpl_name     char                   \n",
      "           tpl_nexp      int                   \n",
      "          tpl_seqno      int                   \n",
      "          tpl_start     char                   \n",
      "\n",
      "Number of records present in the table dbo.raw:\n",
      "34532532\n",
      " [astroquery.eso.core]\n"
     ]
    }
   ],
   "source": [
    "eso_instance.query_main(help=True)"
   ]
  },
  {
   "cell_type": "markdown",
   "metadata": {},
   "source": [
    "### Number of records"
   ]
  },
  {
   "cell_type": "code",
   "execution_count": 24,
   "metadata": {},
   "outputs": [
    {
     "name": "stdout",
     "output_type": "stream",
     "text": [
      "Counts: 3.45e+07, 4.66e+05\n",
      "Counts: 2.11e+04, 2.20e+01\n"
     ]
    }
   ],
   "source": [
    "count_m = eso_instance.query_main(count_only=True)\n",
    "count_n = eso_instance.query_main(instrument=\"MUSE\", count_only=True)\n",
    "print(f\"Counts: {count_m:0.2e}, {count_n:0.2e}\")\n",
    "\n",
    "count_m = eso_instance.query_surveys('MUSE', count_only=True)\n",
    "count_n = eso_instance.query_surveys('MUSE', ra=18, dec=0 , radius=1, count_only=True)\n",
    "print(f\"Counts: {count_m:0.2e}, {count_n:0.2e}\")"
   ]
  },
  {
   "cell_type": "code",
   "execution_count": 25,
   "metadata": {},
   "outputs": [
    {
     "name": "stdout",
     "output_type": "stream",
     "text": [
      "              survey  num_records\n",
      "0         081.C-0827            1\n",
      "1         092.A-0472            4\n",
      "2         096.B-0054            8\n",
      "3        1100.A-0528            1\n",
      "4        1101.A-0127            4\n",
      "5         193.D-0232         5397\n",
      "6         195.B-0283          587\n",
      "7         196.B-0578          114\n",
      "8         196.D-0214          361\n",
      "9         197.A-0384           28\n",
      "10        198.A-0708          165\n",
      "11        60.A-9284H            2\n",
      "12         60.A-9493            1\n",
      "13             ADHOC         3720\n",
      "14          ALCOHOLS            5\n",
      "15           ALLSMOG           88\n",
      "16              ALMA       704802\n",
      "17             AMAZE           25\n",
      "18             AMBRE            3\n",
      "19       APEX-SciOps            1\n",
      "20          ATLASGAL           48\n",
      "21          CAFFEINE           96\n",
      "22           ENTROPY            3\n",
      "23       ePESSTOplus         2655\n",
      "24          ERIS-NIX          340\n",
      "25     ERIS-SPIFFIER         1104\n",
      "26          ESPRESSO        23443\n",
      "27           ESSENCE          185\n",
      "28               FDS          102\n",
      "29             FEROS        92608\n",
      "30          Fornax3D           31\n",
      "31        FORS2-SPEC        90350\n",
      "32           GAIAESO       194423\n",
      "33              GCAV         1058\n",
      "34           GIRAFFE      1111492\n",
      "35       GOODS_FORS2         1716\n",
      "36       GOODS_ISAAC           83\n",
      "37  GOODS_VIMOS_IMAG            2\n",
      "38  GOODS_VIMOS_SPEC         5053\n",
      "39          GW170817           15\n",
      "40             HARPS       340849\n",
      "41             HAWKI        28506\n",
      "42              HUGS           21\n",
      "43           INSPIRE          195\n",
      "44              KIDS        19340\n",
      "45              KMOS       125514\n",
      "46            LEGA-C         4154\n",
      "47              LESS            1\n",
      "48             MAGIC           18\n",
      "49              MUSE        21130\n",
      "50         MUSE-DEEP         1499\n",
      "51          MUSE-STD           35\n",
      "52  MW-BULGE-PSFPHOT         4096\n",
      "53              NGTS         1944\n",
      "54     OMEGACAM_INAF          125\n",
      "55         PENELLOPE          246\n",
      "56            PESSTO         7484\n",
      "57            PHANGS           38\n",
      "58           PIONIER         4681\n",
      "59            SHARKS           20\n",
      "60            SPHERE          602\n",
      "61             SUPER           20\n",
      "62        UltraVISTA           17\n",
      "63              UVES        84057\n",
      "64        UVES_SQUAD          467\n",
      "65           VANDELS         2167\n",
      "66             VEGAS           23\n",
      "67             VEILS         6526\n",
      "68             VEXAS          126\n",
      "69               VHS       458782\n",
      "70             VIDEO        31672\n",
      "71            VIKING        20711\n",
      "72             VIMOS        16728\n",
      "73          VINROUGE         2016\n",
      "74            VIPERS        91509\n",
      "75           VISIONS         3374\n",
      "76               VMC        42589\n",
      "77         VPHASplus        58831\n",
      "78         VST-ATLAS        62765\n",
      "79               VVV       216281\n",
      "80              VVVX       405625\n",
      "81            XQ-100          455\n",
      "82             XSGRB          518\n",
      "83          XSHOOTER       178091\n",
      "84           XShootU          260\n",
      "85               XSL         2634\n",
      "86           ZCOSMOS        20806\n"
     ]
    }
   ],
   "source": [
    "survey_nrows = {\"survey\": [], \"num_records\": []}\n",
    "for x in available_surveys:\n",
    "    n = eso_instance.query_surveys(x, count_only=True)\n",
    "    survey_nrows[\"num_records\"].append(n)\n",
    "    survey_nrows[\"survey\"].append(x)\n",
    "    print(x, n)\n",
    "\n",
    "clear_output()\n",
    "print(pd.DataFrame(survey_nrows).to_string())"
   ]
  },
  {
   "cell_type": "markdown",
   "metadata": {},
   "source": [
    "### Column names as list"
   ]
  },
  {
   "cell_type": "code",
   "execution_count": 26,
   "metadata": {},
   "outputs": [
    {
     "name": "stdout",
     "output_type": "stream",
     "text": [
      "                      0\n",
      "0        access_estsize\n",
      "1            access_url\n",
      "2          datalink_url\n",
      "3              date_obs\n",
      "4                   dec\n",
      "5               dec_pnt\n",
      "6           det_chip1id\n",
      "7      det_chop_ncycles\n",
      "8               det_dit\n",
      "9             det_expid\n",
      "10             det_ndit\n",
      "11               dp_cat\n",
      "12                dp_id\n",
      "13              dp_tech\n",
      "14              dp_type\n",
      "15              ecl_lat\n",
      "16              ecl_lon\n",
      "17            exp_start\n",
      "18             exposure\n",
      "19          filter_path\n",
      "20              gal_lat\n",
      "21              gal_lon\n",
      "22            grat_path\n",
      "23            gris_path\n",
      "24             ins_mode\n",
      "25           instrument\n",
      "26           lambda_max\n",
      "27           lambda_min\n",
      "28        last_mod_date\n",
      "29              mjd_obs\n",
      "30                ob_id\n",
      "31              ob_name\n",
      "32               object\n",
      "33             obs_mode\n",
      "34             origfile\n",
      "35               period\n",
      "36               pi_coi\n",
      "37              prog_id\n",
      "38           prog_title\n",
      "39            prog_type\n",
      "40                   ra\n",
      "41               ra_pnt\n",
      "42         release_date\n",
      "43             s_region\n",
      "44            slit_path\n",
      "45               target\n",
      "46         tel_airm_end\n",
      "47       tel_airm_start\n",
      "48              tel_alt\n",
      "49    tel_ambi_fwhm_end\n",
      "50  tel_ambi_fwhm_start\n",
      "51    tel_ambi_pres_end\n",
      "52  tel_ambi_pres_start\n",
      "53        tel_ambi_rhum\n",
      "54               tel_az\n",
      "55            telescope\n",
      "56            tpl_expno\n",
      "57               tpl_id\n",
      "58             tpl_name\n",
      "59             tpl_nexp\n",
      "60            tpl_seqno\n",
      "61            tpl_start\n"
     ]
    }
   ],
   "source": [
    "column_list = list(eso_instance.query_main(top=1).columns)\n",
    "print(pd.DataFrame(column_list).to_string())"
   ]
  },
  {
   "cell_type": "markdown",
   "metadata": {},
   "source": [
    "## Limit the number of records - _top_ vs _maxrec_"
   ]
  },
  {
   "cell_type": "markdown",
   "metadata": {},
   "source": [
    " - `top`: \"I don't care how many records there are, give me only the _top N_, because my science requires only those.\"\n",
    " - `maxrec`: \"Give me as many records as possible given my computational resources and time constraints. Please warn me if results are truncated.\"\n",
    "\n",
    "Key Differences:\n",
    "\n",
    " - Scope: `TOP` is used within the ADQL query to limit the number of rows returned by that specific query. In contrast, `maxrec` is a TAP service parameter that sets an upper limit on the number of records any query can return, acting as a server-side `safeguard` control.\n",
    "\n",
    " - Implementation: `TOP` is specified in the query language (ADQL), whereas `maxrec` is a parameter of the TAP service protocol, often set outside the query itself."
   ]
  },
  {
   "cell_type": "code",
   "execution_count": 27,
   "metadata": {},
   "outputs": [
    {
     "data": {
      "text/html": [
       "<div><i>Table length=3</i>\n",
       "<table id=\"table132119815254288\" class=\"table-striped table-bordered table-condensed\">\n",
       "<thead><tr><th>access_estsize</th><th>access_url</th><th>datalink_url</th><th>date_obs</th><th>dec</th><th>dec_pnt</th><th>det_chip1id</th><th>det_chop_ncycles</th><th>det_dit</th><th>det_expid</th><th>det_ndit</th><th>dp_cat</th><th>dp_id</th><th>dp_tech</th><th>dp_type</th><th>ecl_lat</th><th>ecl_lon</th><th>exp_start</th><th>exposure</th><th>filter_path</th><th>gal_lat</th><th>gal_lon</th><th>grat_path</th><th>gris_path</th><th>ins_mode</th><th>instrument</th><th>lambda_max</th><th>lambda_min</th><th>last_mod_date</th><th>mjd_obs</th><th>ob_id</th><th>ob_name</th><th>object</th><th>obs_mode</th><th>origfile</th><th>period</th><th>pi_coi</th><th>prog_id</th><th>prog_title</th><th>prog_type</th><th>ra</th><th>ra_pnt</th><th>release_date</th><th>s_region</th><th>slit_path</th><th>target</th><th>tel_airm_end</th><th>tel_airm_start</th><th>tel_alt</th><th>tel_ambi_fwhm_end</th><th>tel_ambi_fwhm_start</th><th>tel_ambi_pres_end</th><th>tel_ambi_pres_start</th><th>tel_ambi_rhum</th><th>tel_az</th><th>telescope</th><th>tpl_expno</th><th>tpl_id</th><th>tpl_name</th><th>tpl_nexp</th><th>tpl_seqno</th><th>tpl_start</th></tr></thead>\n",
       "<thead><tr><th>kbyte</th><th></th><th></th><th></th><th>deg</th><th>deg</th><th></th><th></th><th>s</th><th></th><th></th><th></th><th></th><th></th><th></th><th>deg</th><th>deg</th><th></th><th>s</th><th></th><th>deg</th><th>deg</th><th></th><th></th><th></th><th></th><th>nm</th><th>nm</th><th></th><th>d</th><th></th><th></th><th></th><th></th><th></th><th></th><th></th><th></th><th></th><th></th><th>deg</th><th>deg</th><th></th><th></th><th></th><th></th><th></th><th></th><th>deg</th><th>arcsec</th><th>arcsec</th><th>hPa</th><th>hPa</th><th>%</th><th>deg</th><th></th><th></th><th></th><th></th><th></th><th></th><th></th></tr></thead>\n",
       "<thead><tr><th>int64</th><th>object</th><th>object</th><th>object</th><th>float64</th><th>float64</th><th>object</th><th>int16</th><th>float32</th><th>int16</th><th>int16</th><th>object</th><th>object</th><th>object</th><th>object</th><th>float64</th><th>float64</th><th>object</th><th>float32</th><th>object</th><th>float64</th><th>float64</th><th>object</th><th>object</th><th>object</th><th>object</th><th>float64</th><th>float64</th><th>object</th><th>float64</th><th>int32</th><th>object</th><th>object</th><th>object</th><th>object</th><th>int16</th><th>object</th><th>object</th><th>object</th><th>int32</th><th>float64</th><th>float64</th><th>object</th><th>object</th><th>object</th><th>object</th><th>float32</th><th>float32</th><th>float32</th><th>float32</th><th>float32</th><th>float32</th><th>float32</th><th>float32</th><th>float32</th><th>object</th><th>int32</th><th>object</th><th>object</th><th>int32</th><th>int32</th><th>object</th></tr></thead>\n",
       "<tr><td>25918</td><td>https://dataportal.eso.org/dataPortal/file/ALPACA.2022-12-07T00:55:05.270</td><td>https://archive.eso.org/datalink/links?ID=ivo://eso.org/ID?ALPACA.2022-12-07T00:55:05.270</td><td>2022-12-07T00:55:05.270</td><td>-24.74604694</td><td>-24.746047</td><td>CMOS-GS16MP</td><td>--</td><td>--</td><td>--</td><td>--</td><td>CALIB</td><td>ALPACA.2022-12-07T00:55:05.270</td><td>IMAGE</td><td>SKY</td><td>-30.061165</td><td>6.838335</td><td>2022-12-07T00:55:05.270Z</td><td>120.0</td><td>LUMINANCE</td><td>-84.089755</td><td>190.504407</td><td></td><td></td><td></td><td>ALPACA</td><td>700.0</td><td>400.0</td><td>2023-06-02T13:20:55.733Z</td><td>59920.03825543982</td><td>--</td><td></td><td>ALL SKY</td><td>s</td><td>ALPACA.2022-12-07T00-55-05.270.fits</td><td>60</td><td>ESO PARANAL OBSERVATORY</td><td>60.A-9300(B)</td><td>MASCOT ENGINEERING RUN</td><td>0</td><td>18.87548</td><td>18.87548</td><td>2022-12-07T00:55:05.270Z</td><td>POSITION J2000 18.87548000000001 -24.746047</td><td></td><td></td><td>1.0</td><td>1.0</td><td>90.0</td><td>--</td><td>--</td><td>--</td><td>--</td><td>--</td><td>0.0</td><td>ALPACA</td><td>--</td><td></td><td></td><td>--</td><td>--</td><td></td></tr>\n",
       "<tr><td>25911</td><td>https://dataportal.eso.org/dataPortal/file/ALPACA.2022-12-07T00:57:07.400</td><td>https://archive.eso.org/datalink/links?ID=ivo://eso.org/ID?ALPACA.2022-12-07T00:57:07.400</td><td>2022-12-07T00:57:07.400</td><td>-24.74570194</td><td>-24.745702</td><td>CMOS-GS16MP</td><td>--</td><td>--</td><td>--</td><td>--</td><td>CALIB</td><td>ALPACA.2022-12-07T00:57:07.400</td><td>IMAGE</td><td>SKY</td><td>-30.262454</td><td>7.321629</td><td>2022-12-07T00:57:07.400Z</td><td>120.0</td><td>LUMINANCE</td><td>-83.666774</td><td>192.289978</td><td></td><td></td><td></td><td>ALPACA</td><td>700.0</td><td>400.0</td><td>2023-06-02T13:20:55.733Z</td><td>59920.03966898148</td><td>--</td><td></td><td>ALL SKY</td><td>s</td><td>ALPACA.2022-12-07T00-57-07.400.fits</td><td>60</td><td>ESO PARANAL OBSERVATORY</td><td>60.A-9300(B)</td><td>MASCOT ENGINEERING RUN</td><td>0</td><td>19.38619194</td><td>19.386192</td><td>2022-12-07T00:57:07.400Z</td><td>POSITION J2000 19.386191999999994 -24.745702</td><td></td><td></td><td>1.0</td><td>1.0</td><td>90.0</td><td>--</td><td>--</td><td>--</td><td>--</td><td>--</td><td>0.0</td><td>ALPACA</td><td>--</td><td></td><td></td><td>--</td><td>--</td><td></td></tr>\n",
       "<tr><td>25775</td><td>https://dataportal.eso.org/dataPortal/file/ALPACA.2022-12-07T00:59:14.840</td><td>https://archive.eso.org/datalink/links?ID=ivo://eso.org/ID?ALPACA.2022-12-07T00:59:14.840</td><td>2022-12-07T00:59:14.840</td><td>-24.74533194</td><td>-24.745332</td><td>CMOS-GS16MP</td><td>--</td><td>--</td><td>--</td><td>--</td><td>CALIB</td><td>ALPACA.2022-12-07T00:59:14.840</td><td>IMAGE</td><td>SKY</td><td>-30.472252</td><td>7.827128</td><td>2022-12-07T00:59:14.840Z</td><td>120.0</td><td>LUMINANCE</td><td>-83.220412</td><td>193.929393</td><td></td><td></td><td></td><td>ALPACA</td><td>700.0</td><td>400.0</td><td>2023-06-02T13:20:55.733Z</td><td>59920.04114398148</td><td>--</td><td></td><td>ALL SKY</td><td>s</td><td>ALPACA.2022-12-07T00-59-14.840.fits</td><td>60</td><td>ESO PARANAL OBSERVATORY</td><td>60.A-9300(B)</td><td>MASCOT ENGINEERING RUN</td><td>0</td><td>19.91910694</td><td>19.919107</td><td>2022-12-07T00:59:14.840Z</td><td>POSITION J2000 19.919106999999997 -24.745332</td><td></td><td></td><td>1.0</td><td>1.0</td><td>90.0</td><td>--</td><td>--</td><td>--</td><td>--</td><td>--</td><td>0.0</td><td>ALPACA</td><td>--</td><td></td><td></td><td>--</td><td>--</td><td></td></tr>\n",
       "</table></div>"
      ],
      "text/plain": [
       "<Table length=3>\n",
       "access_estsize ... tpl_start\n",
       "    kbyte      ...          \n",
       "    int64      ...   object \n",
       "-------------- ... ---------\n",
       "         25918 ...          \n",
       "         25911 ...          \n",
       "         25775 ...          "
      ]
     },
     "execution_count": 27,
     "metadata": {},
     "output_type": "execute_result"
    }
   ],
   "source": [
    "eso_instance.maxrec = None \n",
    "eso_instance.query_main(top=3)"
   ]
  },
  {
   "cell_type": "code",
   "execution_count": 28,
   "metadata": {},
   "outputs": [
    {
     "name": "stderr",
     "output_type": "stream",
     "text": [
      "/home/codespace/.python/current/lib/python3.12/site-packages/pyvo/dal/query.py:341: DALOverflowWarning: Partial result set. Potential causes MAXREC, async storage space, etc.\n",
      "  warn(\"Partial result set. Potential causes MAXREC, async storage space, etc.\",\n",
      "WARNING: MaxResultsWarning: Results truncated to 3. To retrieve all the records set to None the maxrec attribute [astroquery.eso.core]\n"
     ]
    },
    {
     "data": {
      "text/html": [
       "<div><i>Table length=3</i>\n",
       "<table id=\"table132119812234400\" class=\"table-striped table-bordered table-condensed\">\n",
       "<thead><tr><th>access_estsize</th><th>access_url</th><th>datalink_url</th><th>date_obs</th><th>dec</th><th>dec_pnt</th><th>det_chip1id</th><th>det_chop_ncycles</th><th>det_dit</th><th>det_expid</th><th>det_ndit</th><th>dp_cat</th><th>dp_id</th><th>dp_tech</th><th>dp_type</th><th>ecl_lat</th><th>ecl_lon</th><th>exp_start</th><th>exposure</th><th>filter_path</th><th>gal_lat</th><th>gal_lon</th><th>grat_path</th><th>gris_path</th><th>ins_mode</th><th>instrument</th><th>lambda_max</th><th>lambda_min</th><th>last_mod_date</th><th>mjd_obs</th><th>ob_id</th><th>ob_name</th><th>object</th><th>obs_mode</th><th>origfile</th><th>period</th><th>pi_coi</th><th>prog_id</th><th>prog_title</th><th>prog_type</th><th>ra</th><th>ra_pnt</th><th>release_date</th><th>s_region</th><th>slit_path</th><th>target</th><th>tel_airm_end</th><th>tel_airm_start</th><th>tel_alt</th><th>tel_ambi_fwhm_end</th><th>tel_ambi_fwhm_start</th><th>tel_ambi_pres_end</th><th>tel_ambi_pres_start</th><th>tel_ambi_rhum</th><th>tel_az</th><th>telescope</th><th>tpl_expno</th><th>tpl_id</th><th>tpl_name</th><th>tpl_nexp</th><th>tpl_seqno</th><th>tpl_start</th></tr></thead>\n",
       "<thead><tr><th>kbyte</th><th></th><th></th><th></th><th>deg</th><th>deg</th><th></th><th></th><th>s</th><th></th><th></th><th></th><th></th><th></th><th></th><th>deg</th><th>deg</th><th></th><th>s</th><th></th><th>deg</th><th>deg</th><th></th><th></th><th></th><th></th><th>nm</th><th>nm</th><th></th><th>d</th><th></th><th></th><th></th><th></th><th></th><th></th><th></th><th></th><th></th><th></th><th>deg</th><th>deg</th><th></th><th></th><th></th><th></th><th></th><th></th><th>deg</th><th>arcsec</th><th>arcsec</th><th>hPa</th><th>hPa</th><th>%</th><th>deg</th><th></th><th></th><th></th><th></th><th></th><th></th><th></th></tr></thead>\n",
       "<thead><tr><th>int64</th><th>object</th><th>object</th><th>object</th><th>float64</th><th>float64</th><th>object</th><th>int16</th><th>float32</th><th>int16</th><th>int16</th><th>object</th><th>object</th><th>object</th><th>object</th><th>float64</th><th>float64</th><th>object</th><th>float32</th><th>object</th><th>float64</th><th>float64</th><th>object</th><th>object</th><th>object</th><th>object</th><th>float64</th><th>float64</th><th>object</th><th>float64</th><th>int32</th><th>object</th><th>object</th><th>object</th><th>object</th><th>int16</th><th>object</th><th>object</th><th>object</th><th>int32</th><th>float64</th><th>float64</th><th>object</th><th>object</th><th>object</th><th>object</th><th>float32</th><th>float32</th><th>float32</th><th>float32</th><th>float32</th><th>float32</th><th>float32</th><th>float32</th><th>float32</th><th>object</th><th>int32</th><th>object</th><th>object</th><th>int32</th><th>int32</th><th>object</th></tr></thead>\n",
       "<tr><td>25918</td><td>https://dataportal.eso.org/dataPortal/file/ALPACA.2022-12-07T00:55:05.270</td><td>https://archive.eso.org/datalink/links?ID=ivo://eso.org/ID?ALPACA.2022-12-07T00:55:05.270</td><td>2022-12-07T00:55:05.270</td><td>-24.74604694</td><td>-24.746047</td><td>CMOS-GS16MP</td><td>--</td><td>--</td><td>--</td><td>--</td><td>CALIB</td><td>ALPACA.2022-12-07T00:55:05.270</td><td>IMAGE</td><td>SKY</td><td>-30.061165</td><td>6.838335</td><td>2022-12-07T00:55:05.270Z</td><td>120.0</td><td>LUMINANCE</td><td>-84.089755</td><td>190.504407</td><td></td><td></td><td></td><td>ALPACA</td><td>700.0</td><td>400.0</td><td>2023-06-02T13:20:55.733Z</td><td>59920.03825543982</td><td>--</td><td></td><td>ALL SKY</td><td>s</td><td>ALPACA.2022-12-07T00-55-05.270.fits</td><td>60</td><td>ESO PARANAL OBSERVATORY</td><td>60.A-9300(B)</td><td>MASCOT ENGINEERING RUN</td><td>0</td><td>18.87548</td><td>18.87548</td><td>2022-12-07T00:55:05.270Z</td><td>POSITION J2000 18.87548000000001 -24.746047</td><td></td><td></td><td>1.0</td><td>1.0</td><td>90.0</td><td>--</td><td>--</td><td>--</td><td>--</td><td>--</td><td>0.0</td><td>ALPACA</td><td>--</td><td></td><td></td><td>--</td><td>--</td><td></td></tr>\n",
       "<tr><td>25911</td><td>https://dataportal.eso.org/dataPortal/file/ALPACA.2022-12-07T00:57:07.400</td><td>https://archive.eso.org/datalink/links?ID=ivo://eso.org/ID?ALPACA.2022-12-07T00:57:07.400</td><td>2022-12-07T00:57:07.400</td><td>-24.74570194</td><td>-24.745702</td><td>CMOS-GS16MP</td><td>--</td><td>--</td><td>--</td><td>--</td><td>CALIB</td><td>ALPACA.2022-12-07T00:57:07.400</td><td>IMAGE</td><td>SKY</td><td>-30.262454</td><td>7.321629</td><td>2022-12-07T00:57:07.400Z</td><td>120.0</td><td>LUMINANCE</td><td>-83.666774</td><td>192.289978</td><td></td><td></td><td></td><td>ALPACA</td><td>700.0</td><td>400.0</td><td>2023-06-02T13:20:55.733Z</td><td>59920.03966898148</td><td>--</td><td></td><td>ALL SKY</td><td>s</td><td>ALPACA.2022-12-07T00-57-07.400.fits</td><td>60</td><td>ESO PARANAL OBSERVATORY</td><td>60.A-9300(B)</td><td>MASCOT ENGINEERING RUN</td><td>0</td><td>19.38619194</td><td>19.386192</td><td>2022-12-07T00:57:07.400Z</td><td>POSITION J2000 19.386191999999994 -24.745702</td><td></td><td></td><td>1.0</td><td>1.0</td><td>90.0</td><td>--</td><td>--</td><td>--</td><td>--</td><td>--</td><td>0.0</td><td>ALPACA</td><td>--</td><td></td><td></td><td>--</td><td>--</td><td></td></tr>\n",
       "<tr><td>25775</td><td>https://dataportal.eso.org/dataPortal/file/ALPACA.2022-12-07T00:59:14.840</td><td>https://archive.eso.org/datalink/links?ID=ivo://eso.org/ID?ALPACA.2022-12-07T00:59:14.840</td><td>2022-12-07T00:59:14.840</td><td>-24.74533194</td><td>-24.745332</td><td>CMOS-GS16MP</td><td>--</td><td>--</td><td>--</td><td>--</td><td>CALIB</td><td>ALPACA.2022-12-07T00:59:14.840</td><td>IMAGE</td><td>SKY</td><td>-30.472252</td><td>7.827128</td><td>2022-12-07T00:59:14.840Z</td><td>120.0</td><td>LUMINANCE</td><td>-83.220412</td><td>193.929393</td><td></td><td></td><td></td><td>ALPACA</td><td>700.0</td><td>400.0</td><td>2023-06-02T13:20:55.733Z</td><td>59920.04114398148</td><td>--</td><td></td><td>ALL SKY</td><td>s</td><td>ALPACA.2022-12-07T00-59-14.840.fits</td><td>60</td><td>ESO PARANAL OBSERVATORY</td><td>60.A-9300(B)</td><td>MASCOT ENGINEERING RUN</td><td>0</td><td>19.91910694</td><td>19.919107</td><td>2022-12-07T00:59:14.840Z</td><td>POSITION J2000 19.919106999999997 -24.745332</td><td></td><td></td><td>1.0</td><td>1.0</td><td>90.0</td><td>--</td><td>--</td><td>--</td><td>--</td><td>--</td><td>0.0</td><td>ALPACA</td><td>--</td><td></td><td></td><td>--</td><td>--</td><td></td></tr>\n",
       "</table></div>"
      ],
      "text/plain": [
       "<Table length=3>\n",
       "access_estsize ... tpl_start\n",
       "    kbyte      ...          \n",
       "    int64      ...   object \n",
       "-------------- ... ---------\n",
       "         25918 ...          \n",
       "         25911 ...          \n",
       "         25775 ...          "
      ]
     },
     "execution_count": 28,
     "metadata": {},
     "output_type": "execute_result"
    }
   ],
   "source": [
    "eso_instance.maxrec = 3\n",
    "eso_instance.query_main()"
   ]
  },
  {
   "cell_type": "code",
   "execution_count": 29,
   "metadata": {},
   "outputs": [
    {
     "name": "stderr",
     "output_type": "stream",
     "text": [
      "WARNING: MaxResultsWarning: Results truncated to 5. To retrieve all the records set to None the maxrec attribute [astroquery.eso.core]\n"
     ]
    },
    {
     "data": {
      "text/html": [
       "<div><i>Table length=5</i>\n",
       "<table id=\"table132119813824320\" class=\"table-striped table-bordered table-condensed\">\n",
       "<thead><tr><th>access_estsize</th><th>access_url</th><th>datalink_url</th><th>date_obs</th><th>dec</th><th>dec_pnt</th><th>det_chip1id</th><th>det_chop_ncycles</th><th>det_dit</th><th>det_expid</th><th>det_ndit</th><th>dp_cat</th><th>dp_id</th><th>dp_tech</th><th>dp_type</th><th>ecl_lat</th><th>ecl_lon</th><th>exp_start</th><th>exposure</th><th>filter_path</th><th>gal_lat</th><th>gal_lon</th><th>grat_path</th><th>gris_path</th><th>ins_mode</th><th>instrument</th><th>lambda_max</th><th>lambda_min</th><th>last_mod_date</th><th>mjd_obs</th><th>ob_id</th><th>ob_name</th><th>object</th><th>obs_mode</th><th>origfile</th><th>period</th><th>pi_coi</th><th>prog_id</th><th>prog_title</th><th>prog_type</th><th>ra</th><th>ra_pnt</th><th>release_date</th><th>s_region</th><th>slit_path</th><th>target</th><th>tel_airm_end</th><th>tel_airm_start</th><th>tel_alt</th><th>tel_ambi_fwhm_end</th><th>tel_ambi_fwhm_start</th><th>tel_ambi_pres_end</th><th>tel_ambi_pres_start</th><th>tel_ambi_rhum</th><th>tel_az</th><th>telescope</th><th>tpl_expno</th><th>tpl_id</th><th>tpl_name</th><th>tpl_nexp</th><th>tpl_seqno</th><th>tpl_start</th></tr></thead>\n",
       "<thead><tr><th>kbyte</th><th></th><th></th><th></th><th>deg</th><th>deg</th><th></th><th></th><th>s</th><th></th><th></th><th></th><th></th><th></th><th></th><th>deg</th><th>deg</th><th></th><th>s</th><th></th><th>deg</th><th>deg</th><th></th><th></th><th></th><th></th><th>nm</th><th>nm</th><th></th><th>d</th><th></th><th></th><th></th><th></th><th></th><th></th><th></th><th></th><th></th><th></th><th>deg</th><th>deg</th><th></th><th></th><th></th><th></th><th></th><th></th><th>deg</th><th>arcsec</th><th>arcsec</th><th>hPa</th><th>hPa</th><th>%</th><th>deg</th><th></th><th></th><th></th><th></th><th></th><th></th><th></th></tr></thead>\n",
       "<thead><tr><th>int64</th><th>object</th><th>object</th><th>object</th><th>float64</th><th>float64</th><th>object</th><th>int16</th><th>float32</th><th>int16</th><th>int16</th><th>object</th><th>object</th><th>object</th><th>object</th><th>float64</th><th>float64</th><th>object</th><th>float32</th><th>object</th><th>float64</th><th>float64</th><th>object</th><th>object</th><th>object</th><th>object</th><th>float64</th><th>float64</th><th>object</th><th>float64</th><th>int32</th><th>object</th><th>object</th><th>object</th><th>object</th><th>int16</th><th>object</th><th>object</th><th>object</th><th>int32</th><th>float64</th><th>float64</th><th>object</th><th>object</th><th>object</th><th>object</th><th>float32</th><th>float32</th><th>float32</th><th>float32</th><th>float32</th><th>float32</th><th>float32</th><th>float32</th><th>float32</th><th>object</th><th>int32</th><th>object</th><th>object</th><th>int32</th><th>int32</th><th>object</th></tr></thead>\n",
       "<tr><td>25918</td><td>https://dataportal.eso.org/dataPortal/file/ALPACA.2022-12-07T00:55:05.270</td><td>https://archive.eso.org/datalink/links?ID=ivo://eso.org/ID?ALPACA.2022-12-07T00:55:05.270</td><td>2022-12-07T00:55:05.270</td><td>-24.74604694</td><td>-24.746047</td><td>CMOS-GS16MP</td><td>--</td><td>--</td><td>--</td><td>--</td><td>CALIB</td><td>ALPACA.2022-12-07T00:55:05.270</td><td>IMAGE</td><td>SKY</td><td>-30.061165</td><td>6.838335</td><td>2022-12-07T00:55:05.270Z</td><td>120.0</td><td>LUMINANCE</td><td>-84.089755</td><td>190.504407</td><td></td><td></td><td></td><td>ALPACA</td><td>700.0</td><td>400.0</td><td>2023-06-02T13:20:55.733Z</td><td>59920.03825543982</td><td>--</td><td></td><td>ALL SKY</td><td>s</td><td>ALPACA.2022-12-07T00-55-05.270.fits</td><td>60</td><td>ESO PARANAL OBSERVATORY</td><td>60.A-9300(B)</td><td>MASCOT ENGINEERING RUN</td><td>0</td><td>18.87548</td><td>18.87548</td><td>2022-12-07T00:55:05.270Z</td><td>POSITION J2000 18.87548000000001 -24.746047</td><td></td><td></td><td>1.0</td><td>1.0</td><td>90.0</td><td>--</td><td>--</td><td>--</td><td>--</td><td>--</td><td>0.0</td><td>ALPACA</td><td>--</td><td></td><td></td><td>--</td><td>--</td><td></td></tr>\n",
       "<tr><td>25911</td><td>https://dataportal.eso.org/dataPortal/file/ALPACA.2022-12-07T00:57:07.400</td><td>https://archive.eso.org/datalink/links?ID=ivo://eso.org/ID?ALPACA.2022-12-07T00:57:07.400</td><td>2022-12-07T00:57:07.400</td><td>-24.74570194</td><td>-24.745702</td><td>CMOS-GS16MP</td><td>--</td><td>--</td><td>--</td><td>--</td><td>CALIB</td><td>ALPACA.2022-12-07T00:57:07.400</td><td>IMAGE</td><td>SKY</td><td>-30.262454</td><td>7.321629</td><td>2022-12-07T00:57:07.400Z</td><td>120.0</td><td>LUMINANCE</td><td>-83.666774</td><td>192.289978</td><td></td><td></td><td></td><td>ALPACA</td><td>700.0</td><td>400.0</td><td>2023-06-02T13:20:55.733Z</td><td>59920.03966898148</td><td>--</td><td></td><td>ALL SKY</td><td>s</td><td>ALPACA.2022-12-07T00-57-07.400.fits</td><td>60</td><td>ESO PARANAL OBSERVATORY</td><td>60.A-9300(B)</td><td>MASCOT ENGINEERING RUN</td><td>0</td><td>19.38619194</td><td>19.386192</td><td>2022-12-07T00:57:07.400Z</td><td>POSITION J2000 19.386191999999994 -24.745702</td><td></td><td></td><td>1.0</td><td>1.0</td><td>90.0</td><td>--</td><td>--</td><td>--</td><td>--</td><td>--</td><td>0.0</td><td>ALPACA</td><td>--</td><td></td><td></td><td>--</td><td>--</td><td></td></tr>\n",
       "<tr><td>25775</td><td>https://dataportal.eso.org/dataPortal/file/ALPACA.2022-12-07T00:59:14.840</td><td>https://archive.eso.org/datalink/links?ID=ivo://eso.org/ID?ALPACA.2022-12-07T00:59:14.840</td><td>2022-12-07T00:59:14.840</td><td>-24.74533194</td><td>-24.745332</td><td>CMOS-GS16MP</td><td>--</td><td>--</td><td>--</td><td>--</td><td>CALIB</td><td>ALPACA.2022-12-07T00:59:14.840</td><td>IMAGE</td><td>SKY</td><td>-30.472252</td><td>7.827128</td><td>2022-12-07T00:59:14.840Z</td><td>120.0</td><td>LUMINANCE</td><td>-83.220412</td><td>193.929393</td><td></td><td></td><td></td><td>ALPACA</td><td>700.0</td><td>400.0</td><td>2023-06-02T13:20:55.733Z</td><td>59920.04114398148</td><td>--</td><td></td><td>ALL SKY</td><td>s</td><td>ALPACA.2022-12-07T00-59-14.840.fits</td><td>60</td><td>ESO PARANAL OBSERVATORY</td><td>60.A-9300(B)</td><td>MASCOT ENGINEERING RUN</td><td>0</td><td>19.91910694</td><td>19.919107</td><td>2022-12-07T00:59:14.840Z</td><td>POSITION J2000 19.919106999999997 -24.745332</td><td></td><td></td><td>1.0</td><td>1.0</td><td>90.0</td><td>--</td><td>--</td><td>--</td><td>--</td><td>--</td><td>0.0</td><td>ALPACA</td><td>--</td><td></td><td></td><td>--</td><td>--</td><td></td></tr>\n",
       "<tr><td>25674</td><td>https://dataportal.eso.org/dataPortal/file/ALPACA.2022-12-07T01:01:16.900</td><td>https://archive.eso.org/datalink/links?ID=ivo://eso.org/ID?ALPACA.2022-12-07T01:01:16.900</td><td>2022-12-07T01:01:16.900</td><td>-24.74496888</td><td>-24.744969</td><td>CMOS-GS16MP</td><td>--</td><td>--</td><td>--</td><td>--</td><td>CALIB</td><td>ALPACA.2022-12-07T01:01:16.900</td><td>IMAGE</td><td>SKY</td><td>-30.672945</td><td>8.312446</td><td>2022-12-07T01:01:16.900Z</td><td>120.0</td><td>LUMINANCE</td><td>-82.788982</td><td>195.322223</td><td></td><td></td><td></td><td>ALPACA</td><td>700.0</td><td>400.0</td><td>2023-06-02T13:20:55.733Z</td><td>59920.04255671296</td><td>--</td><td></td><td>ALL SKY</td><td>s</td><td>ALPACA.2022-12-07T01-01-16.900.fits</td><td>60</td><td>ESO PARANAL OBSERVATORY</td><td>60.A-9300(B)</td><td>MASCOT ENGINEERING RUN</td><td>0</td><td>20.42952305</td><td>20.429523</td><td>2022-12-07T01:01:16.900Z</td><td>POSITION J2000 20.42952299999999 -24.744969</td><td></td><td></td><td>1.0</td><td>1.0</td><td>90.0</td><td>--</td><td>--</td><td>--</td><td>--</td><td>--</td><td>0.0</td><td>ALPACA</td><td>--</td><td></td><td></td><td>--</td><td>--</td><td></td></tr>\n",
       "<tr><td>26348</td><td>https://dataportal.eso.org/dataPortal/file/ALPACA.2022-12-07T01:03:24.990</td><td>https://archive.eso.org/datalink/links?ID=ivo://eso.org/ID?ALPACA.2022-12-07T01:03:24.990</td><td>2022-12-07T01:03:24.990</td><td>-24.74457694</td><td>-24.744577</td><td>CMOS-GS16MP</td><td>--</td><td>--</td><td>--</td><td>--</td><td>CALIB</td><td>ALPACA.2022-12-07T01:03:24.990</td><td>IMAGE</td><td>SKY</td><td>-30.883275</td><td>8.822981</td><td>2022-12-07T01:03:24.990Z</td><td>120.0</td><td>LUMINANCE</td><td>-82.332845</td><td>196.628428</td><td></td><td></td><td></td><td>ALPACA</td><td>700.0</td><td>400.0</td><td>2023-06-02T13:20:55.733Z</td><td>59920.04403923611</td><td>--</td><td></td><td>ALL SKY</td><td>s</td><td>ALPACA.2022-12-07T01-03-24.990.fits</td><td>60</td><td>ESO PARANAL OBSERVATORY</td><td>60.A-9300(B)</td><td>MASCOT ENGINEERING RUN</td><td>0</td><td>20.96515388</td><td>20.965154</td><td>2022-12-07T01:03:24.990Z</td><td>POSITION J2000 20.965154000000013 -24.744577</td><td></td><td></td><td>1.0</td><td>1.0</td><td>90.0</td><td>--</td><td>--</td><td>--</td><td>--</td><td>--</td><td>0.0</td><td>ALPACA</td><td>--</td><td></td><td></td><td>--</td><td>--</td><td></td></tr>\n",
       "</table></div>"
      ],
      "text/plain": [
       "<Table length=5>\n",
       "access_estsize ... tpl_start\n",
       "    kbyte      ...          \n",
       "    int64      ...   object \n",
       "-------------- ... ---------\n",
       "         25918 ...          \n",
       "         25911 ...          \n",
       "         25775 ...          \n",
       "         25674 ...          \n",
       "         26348 ...          "
      ]
     },
     "execution_count": 29,
     "metadata": {},
     "output_type": "execute_result"
    }
   ],
   "source": [
    "eso_instance.maxrec = 5\n",
    "eso_instance.query_main(top=10)"
   ]
  },
  {
   "cell_type": "code",
   "execution_count": 30,
   "metadata": {},
   "outputs": [
    {
     "data": {
      "text/html": [
       "<div><i>Table length=5</i>\n",
       "<table id=\"table132119811544832\" class=\"table-striped table-bordered table-condensed\">\n",
       "<thead><tr><th>access_estsize</th><th>access_url</th><th>datalink_url</th><th>date_obs</th><th>dec</th><th>dec_pnt</th><th>det_chip1id</th><th>det_chop_ncycles</th><th>det_dit</th><th>det_expid</th><th>det_ndit</th><th>dp_cat</th><th>dp_id</th><th>dp_tech</th><th>dp_type</th><th>ecl_lat</th><th>ecl_lon</th><th>exp_start</th><th>exposure</th><th>filter_path</th><th>gal_lat</th><th>gal_lon</th><th>grat_path</th><th>gris_path</th><th>ins_mode</th><th>instrument</th><th>lambda_max</th><th>lambda_min</th><th>last_mod_date</th><th>mjd_obs</th><th>ob_id</th><th>ob_name</th><th>object</th><th>obs_mode</th><th>origfile</th><th>period</th><th>pi_coi</th><th>prog_id</th><th>prog_title</th><th>prog_type</th><th>ra</th><th>ra_pnt</th><th>release_date</th><th>s_region</th><th>slit_path</th><th>target</th><th>tel_airm_end</th><th>tel_airm_start</th><th>tel_alt</th><th>tel_ambi_fwhm_end</th><th>tel_ambi_fwhm_start</th><th>tel_ambi_pres_end</th><th>tel_ambi_pres_start</th><th>tel_ambi_rhum</th><th>tel_az</th><th>telescope</th><th>tpl_expno</th><th>tpl_id</th><th>tpl_name</th><th>tpl_nexp</th><th>tpl_seqno</th><th>tpl_start</th></tr></thead>\n",
       "<thead><tr><th>kbyte</th><th></th><th></th><th></th><th>deg</th><th>deg</th><th></th><th></th><th>s</th><th></th><th></th><th></th><th></th><th></th><th></th><th>deg</th><th>deg</th><th></th><th>s</th><th></th><th>deg</th><th>deg</th><th></th><th></th><th></th><th></th><th>nm</th><th>nm</th><th></th><th>d</th><th></th><th></th><th></th><th></th><th></th><th></th><th></th><th></th><th></th><th></th><th>deg</th><th>deg</th><th></th><th></th><th></th><th></th><th></th><th></th><th>deg</th><th>arcsec</th><th>arcsec</th><th>hPa</th><th>hPa</th><th>%</th><th>deg</th><th></th><th></th><th></th><th></th><th></th><th></th><th></th></tr></thead>\n",
       "<thead><tr><th>int64</th><th>object</th><th>object</th><th>object</th><th>float64</th><th>float64</th><th>object</th><th>int16</th><th>float32</th><th>int16</th><th>int16</th><th>object</th><th>object</th><th>object</th><th>object</th><th>float64</th><th>float64</th><th>object</th><th>float32</th><th>object</th><th>float64</th><th>float64</th><th>object</th><th>object</th><th>object</th><th>object</th><th>float64</th><th>float64</th><th>object</th><th>float64</th><th>int32</th><th>object</th><th>object</th><th>object</th><th>object</th><th>int16</th><th>object</th><th>object</th><th>object</th><th>int32</th><th>float64</th><th>float64</th><th>object</th><th>object</th><th>object</th><th>object</th><th>float32</th><th>float32</th><th>float32</th><th>float32</th><th>float32</th><th>float32</th><th>float32</th><th>float32</th><th>float32</th><th>object</th><th>int32</th><th>object</th><th>object</th><th>int32</th><th>int32</th><th>object</th></tr></thead>\n",
       "<tr><td>25918</td><td>https://dataportal.eso.org/dataPortal/file/ALPACA.2022-12-07T00:55:05.270</td><td>https://archive.eso.org/datalink/links?ID=ivo://eso.org/ID?ALPACA.2022-12-07T00:55:05.270</td><td>2022-12-07T00:55:05.270</td><td>-24.74604694</td><td>-24.746047</td><td>CMOS-GS16MP</td><td>--</td><td>--</td><td>--</td><td>--</td><td>CALIB</td><td>ALPACA.2022-12-07T00:55:05.270</td><td>IMAGE</td><td>SKY</td><td>-30.061165</td><td>6.838335</td><td>2022-12-07T00:55:05.270Z</td><td>120.0</td><td>LUMINANCE</td><td>-84.089755</td><td>190.504407</td><td></td><td></td><td></td><td>ALPACA</td><td>700.0</td><td>400.0</td><td>2023-06-02T13:20:55.733Z</td><td>59920.03825543982</td><td>--</td><td></td><td>ALL SKY</td><td>s</td><td>ALPACA.2022-12-07T00-55-05.270.fits</td><td>60</td><td>ESO PARANAL OBSERVATORY</td><td>60.A-9300(B)</td><td>MASCOT ENGINEERING RUN</td><td>0</td><td>18.87548</td><td>18.87548</td><td>2022-12-07T00:55:05.270Z</td><td>POSITION J2000 18.87548000000001 -24.746047</td><td></td><td></td><td>1.0</td><td>1.0</td><td>90.0</td><td>--</td><td>--</td><td>--</td><td>--</td><td>--</td><td>0.0</td><td>ALPACA</td><td>--</td><td></td><td></td><td>--</td><td>--</td><td></td></tr>\n",
       "<tr><td>25911</td><td>https://dataportal.eso.org/dataPortal/file/ALPACA.2022-12-07T00:57:07.400</td><td>https://archive.eso.org/datalink/links?ID=ivo://eso.org/ID?ALPACA.2022-12-07T00:57:07.400</td><td>2022-12-07T00:57:07.400</td><td>-24.74570194</td><td>-24.745702</td><td>CMOS-GS16MP</td><td>--</td><td>--</td><td>--</td><td>--</td><td>CALIB</td><td>ALPACA.2022-12-07T00:57:07.400</td><td>IMAGE</td><td>SKY</td><td>-30.262454</td><td>7.321629</td><td>2022-12-07T00:57:07.400Z</td><td>120.0</td><td>LUMINANCE</td><td>-83.666774</td><td>192.289978</td><td></td><td></td><td></td><td>ALPACA</td><td>700.0</td><td>400.0</td><td>2023-06-02T13:20:55.733Z</td><td>59920.03966898148</td><td>--</td><td></td><td>ALL SKY</td><td>s</td><td>ALPACA.2022-12-07T00-57-07.400.fits</td><td>60</td><td>ESO PARANAL OBSERVATORY</td><td>60.A-9300(B)</td><td>MASCOT ENGINEERING RUN</td><td>0</td><td>19.38619194</td><td>19.386192</td><td>2022-12-07T00:57:07.400Z</td><td>POSITION J2000 19.386191999999994 -24.745702</td><td></td><td></td><td>1.0</td><td>1.0</td><td>90.0</td><td>--</td><td>--</td><td>--</td><td>--</td><td>--</td><td>0.0</td><td>ALPACA</td><td>--</td><td></td><td></td><td>--</td><td>--</td><td></td></tr>\n",
       "<tr><td>25775</td><td>https://dataportal.eso.org/dataPortal/file/ALPACA.2022-12-07T00:59:14.840</td><td>https://archive.eso.org/datalink/links?ID=ivo://eso.org/ID?ALPACA.2022-12-07T00:59:14.840</td><td>2022-12-07T00:59:14.840</td><td>-24.74533194</td><td>-24.745332</td><td>CMOS-GS16MP</td><td>--</td><td>--</td><td>--</td><td>--</td><td>CALIB</td><td>ALPACA.2022-12-07T00:59:14.840</td><td>IMAGE</td><td>SKY</td><td>-30.472252</td><td>7.827128</td><td>2022-12-07T00:59:14.840Z</td><td>120.0</td><td>LUMINANCE</td><td>-83.220412</td><td>193.929393</td><td></td><td></td><td></td><td>ALPACA</td><td>700.0</td><td>400.0</td><td>2023-06-02T13:20:55.733Z</td><td>59920.04114398148</td><td>--</td><td></td><td>ALL SKY</td><td>s</td><td>ALPACA.2022-12-07T00-59-14.840.fits</td><td>60</td><td>ESO PARANAL OBSERVATORY</td><td>60.A-9300(B)</td><td>MASCOT ENGINEERING RUN</td><td>0</td><td>19.91910694</td><td>19.919107</td><td>2022-12-07T00:59:14.840Z</td><td>POSITION J2000 19.919106999999997 -24.745332</td><td></td><td></td><td>1.0</td><td>1.0</td><td>90.0</td><td>--</td><td>--</td><td>--</td><td>--</td><td>--</td><td>0.0</td><td>ALPACA</td><td>--</td><td></td><td></td><td>--</td><td>--</td><td></td></tr>\n",
       "<tr><td>25674</td><td>https://dataportal.eso.org/dataPortal/file/ALPACA.2022-12-07T01:01:16.900</td><td>https://archive.eso.org/datalink/links?ID=ivo://eso.org/ID?ALPACA.2022-12-07T01:01:16.900</td><td>2022-12-07T01:01:16.900</td><td>-24.74496888</td><td>-24.744969</td><td>CMOS-GS16MP</td><td>--</td><td>--</td><td>--</td><td>--</td><td>CALIB</td><td>ALPACA.2022-12-07T01:01:16.900</td><td>IMAGE</td><td>SKY</td><td>-30.672945</td><td>8.312446</td><td>2022-12-07T01:01:16.900Z</td><td>120.0</td><td>LUMINANCE</td><td>-82.788982</td><td>195.322223</td><td></td><td></td><td></td><td>ALPACA</td><td>700.0</td><td>400.0</td><td>2023-06-02T13:20:55.733Z</td><td>59920.04255671296</td><td>--</td><td></td><td>ALL SKY</td><td>s</td><td>ALPACA.2022-12-07T01-01-16.900.fits</td><td>60</td><td>ESO PARANAL OBSERVATORY</td><td>60.A-9300(B)</td><td>MASCOT ENGINEERING RUN</td><td>0</td><td>20.42952305</td><td>20.429523</td><td>2022-12-07T01:01:16.900Z</td><td>POSITION J2000 20.42952299999999 -24.744969</td><td></td><td></td><td>1.0</td><td>1.0</td><td>90.0</td><td>--</td><td>--</td><td>--</td><td>--</td><td>--</td><td>0.0</td><td>ALPACA</td><td>--</td><td></td><td></td><td>--</td><td>--</td><td></td></tr>\n",
       "<tr><td>26348</td><td>https://dataportal.eso.org/dataPortal/file/ALPACA.2022-12-07T01:03:24.990</td><td>https://archive.eso.org/datalink/links?ID=ivo://eso.org/ID?ALPACA.2022-12-07T01:03:24.990</td><td>2022-12-07T01:03:24.990</td><td>-24.74457694</td><td>-24.744577</td><td>CMOS-GS16MP</td><td>--</td><td>--</td><td>--</td><td>--</td><td>CALIB</td><td>ALPACA.2022-12-07T01:03:24.990</td><td>IMAGE</td><td>SKY</td><td>-30.883275</td><td>8.822981</td><td>2022-12-07T01:03:24.990Z</td><td>120.0</td><td>LUMINANCE</td><td>-82.332845</td><td>196.628428</td><td></td><td></td><td></td><td>ALPACA</td><td>700.0</td><td>400.0</td><td>2023-06-02T13:20:55.733Z</td><td>59920.04403923611</td><td>--</td><td></td><td>ALL SKY</td><td>s</td><td>ALPACA.2022-12-07T01-03-24.990.fits</td><td>60</td><td>ESO PARANAL OBSERVATORY</td><td>60.A-9300(B)</td><td>MASCOT ENGINEERING RUN</td><td>0</td><td>20.96515388</td><td>20.965154</td><td>2022-12-07T01:03:24.990Z</td><td>POSITION J2000 20.965154000000013 -24.744577</td><td></td><td></td><td>1.0</td><td>1.0</td><td>90.0</td><td>--</td><td>--</td><td>--</td><td>--</td><td>--</td><td>0.0</td><td>ALPACA</td><td>--</td><td></td><td></td><td>--</td><td>--</td><td></td></tr>\n",
       "</table></div>"
      ],
      "text/plain": [
       "<Table length=5>\n",
       "access_estsize ... tpl_start\n",
       "    kbyte      ...          \n",
       "    int64      ...   object \n",
       "-------------- ... ---------\n",
       "         25918 ...          \n",
       "         25911 ...          \n",
       "         25775 ...          \n",
       "         25674 ...          \n",
       "         26348 ...          "
      ]
     },
     "execution_count": 30,
     "metadata": {},
     "output_type": "execute_result"
    }
   ],
   "source": [
    "eso_instance.maxrec = 10\n",
    "eso_instance.query_main(top=5)"
   ]
  },
  {
   "cell_type": "code",
   "execution_count": 31,
   "metadata": {},
   "outputs": [],
   "source": [
    "eso_instance.maxrec = 1000"
   ]
  },
  {
   "cell_type": "markdown",
   "metadata": {},
   "source": [
    "## Filter in advance"
   ]
  },
  {
   "cell_type": "code",
   "execution_count": 32,
   "metadata": {},
   "outputs": [
    {
     "name": "stdout",
     "output_type": "stream",
     "text": [
      "Table saved to ./eso_aq_example_filter_vegas.csv\n"
     ]
    }
   ],
   "source": [
    "my_table = eso_instance.query_surveys(\"sphere, vegas\",\n",
    "                                          columns=\"obs_collection, calib_level, multi_ob, filter, s_pixel_scale, instrument_name\" ,\n",
    "                                          calib_level=3,\n",
    "                                          multi_ob='M')\n",
    "\n",
    "table_to_csv(my_table, \"./eso_aq_example_filter_vegas.csv\")"
   ]
  },
  {
   "cell_type": "markdown",
   "metadata": {},
   "source": [
    "## Filter afterwards"
   ]
  },
  {
   "cell_type": "code",
   "execution_count": 33,
   "metadata": {},
   "outputs": [
    {
     "data": {
      "text/html": [
       "<div><i>Table length=23</i>\n",
       "<table id=\"table132119816789152\" class=\"table-striped table-bordered table-condensed\">\n",
       "<thead><tr><th>obs_collection</th><th>calib_level</th><th>multi_ob</th><th>filter</th><th>s_pixel_scale</th><th>instrument_name</th></tr></thead>\n",
       "<thead><tr><th></th><th></th><th></th><th></th><th>arcsec</th><th></th></tr></thead>\n",
       "<thead><tr><th>object</th><th>int32</th><th>object</th><th>object</th><th>float64</th><th>object</th></tr></thead>\n",
       "<tr><td>VEGAS</td><td>3</td><td>M</td><td>g_SDSS</td><td>0.21</td><td>OMEGACAM</td></tr>\n",
       "<tr><td>VEGAS</td><td>3</td><td>M</td><td>r_SDSS</td><td>0.21</td><td>OMEGACAM</td></tr>\n",
       "<tr><td>VEGAS</td><td>3</td><td>M</td><td>g_SDSS</td><td>0.2099</td><td>OMEGACAM</td></tr>\n",
       "<tr><td>VEGAS</td><td>3</td><td>M</td><td>r_SDSS</td><td>0.2099</td><td>OMEGACAM</td></tr>\n",
       "<tr><td>VEGAS</td><td>3</td><td>M</td><td>u_SDSS</td><td>0.2099</td><td>OMEGACAM</td></tr>\n",
       "<tr><td>VEGAS</td><td>3</td><td>M</td><td>g_SDSS</td><td>0.2099</td><td>OMEGACAM</td></tr>\n",
       "<tr><td>VEGAS</td><td>3</td><td>M</td><td>u_SDSS</td><td>0.2099</td><td>OMEGACAM</td></tr>\n",
       "<tr><td>VEGAS</td><td>3</td><td>M</td><td>r_SDSS</td><td>0.2099</td><td>OMEGACAM</td></tr>\n",
       "<tr><td>VEGAS</td><td>3</td><td>M</td><td>i_SDSS</td><td>0.2099</td><td>OMEGACAM</td></tr>\n",
       "<tr><td>...</td><td>...</td><td>...</td><td>...</td><td>...</td><td>...</td></tr>\n",
       "<tr><td>VEGAS</td><td>3</td><td>M</td><td>i_SDSS</td><td>0.21</td><td>OMEGACAM</td></tr>\n",
       "<tr><td>VEGAS</td><td>3</td><td>M</td><td>g_SDSS</td><td>0.2099</td><td>OMEGACAM</td></tr>\n",
       "<tr><td>VEGAS</td><td>3</td><td>M</td><td>g_SDSS</td><td>0.2099</td><td>OMEGACAM</td></tr>\n",
       "<tr><td>VEGAS</td><td>3</td><td>M</td><td>g_SDSS</td><td>0.21</td><td>OMEGACAM</td></tr>\n",
       "<tr><td>VEGAS</td><td>3</td><td>M</td><td>u_SDSS</td><td>0.21</td><td>OMEGACAM</td></tr>\n",
       "<tr><td>VEGAS</td><td>3</td><td>M</td><td>i_SDSS</td><td>0.21</td><td>OMEGACAM</td></tr>\n",
       "<tr><td>VEGAS</td><td>3</td><td>M</td><td>g_SDSS</td><td>0.21</td><td>OMEGACAM</td></tr>\n",
       "<tr><td>VEGAS</td><td>3</td><td>M</td><td>r_SDSS</td><td>0.21</td><td>OMEGACAM</td></tr>\n",
       "<tr><td>VEGAS</td><td>3</td><td>M</td><td>g_SDSS</td><td>0.2099</td><td>OMEGACAM</td></tr>\n",
       "</table></div>"
      ],
      "text/plain": [
       "<Table length=23>\n",
       "obs_collection calib_level multi_ob filter s_pixel_scale instrument_name\n",
       "                                               arcsec                   \n",
       "    object        int32     object  object    float64         object    \n",
       "-------------- ----------- -------- ------ ------------- ---------------\n",
       "         VEGAS           3        M g_SDSS          0.21        OMEGACAM\n",
       "         VEGAS           3        M r_SDSS          0.21        OMEGACAM\n",
       "         VEGAS           3        M g_SDSS        0.2099        OMEGACAM\n",
       "         VEGAS           3        M r_SDSS        0.2099        OMEGACAM\n",
       "         VEGAS           3        M u_SDSS        0.2099        OMEGACAM\n",
       "         VEGAS           3        M g_SDSS        0.2099        OMEGACAM\n",
       "         VEGAS           3        M u_SDSS        0.2099        OMEGACAM\n",
       "         VEGAS           3        M r_SDSS        0.2099        OMEGACAM\n",
       "         VEGAS           3        M i_SDSS        0.2099        OMEGACAM\n",
       "           ...         ...      ...    ...           ...             ...\n",
       "         VEGAS           3        M i_SDSS          0.21        OMEGACAM\n",
       "         VEGAS           3        M g_SDSS        0.2099        OMEGACAM\n",
       "         VEGAS           3        M g_SDSS        0.2099        OMEGACAM\n",
       "         VEGAS           3        M g_SDSS          0.21        OMEGACAM\n",
       "         VEGAS           3        M u_SDSS          0.21        OMEGACAM\n",
       "         VEGAS           3        M i_SDSS          0.21        OMEGACAM\n",
       "         VEGAS           3        M g_SDSS          0.21        OMEGACAM\n",
       "         VEGAS           3        M r_SDSS          0.21        OMEGACAM\n",
       "         VEGAS           3        M g_SDSS        0.2099        OMEGACAM"
      ]
     },
     "execution_count": 33,
     "metadata": {},
     "output_type": "execute_result"
    }
   ],
   "source": [
    "my_table[my_table[\"s_pixel_scale\"] > 0.2]"
   ]
  },
  {
   "cell_type": "markdown",
   "metadata": {},
   "source": [
    "## Free ADQL query"
   ]
  },
  {
   "cell_type": "code",
   "execution_count": 34,
   "metadata": {},
   "outputs": [
    {
     "data": {
      "text/html": [
       "<div><i>Table length=87</i>\n",
       "<table id=\"table132119814679840\" class=\"table-striped table-bordered table-condensed\">\n",
       "<thead><tr><th>obs_collection</th><th>COUNT_ALL</th></tr></thead>\n",
       "<thead><tr><th>object</th><th>int32</th></tr></thead>\n",
       "<tr><td>081.C-0827</td><td>1</td></tr>\n",
       "<tr><td>092.A-0472</td><td>4</td></tr>\n",
       "<tr><td>096.B-0054</td><td>8</td></tr>\n",
       "<tr><td>1100.A-0528</td><td>1</td></tr>\n",
       "<tr><td>1101.A-0127</td><td>4</td></tr>\n",
       "<tr><td>193.D-0232</td><td>5397</td></tr>\n",
       "<tr><td>195.B-0283</td><td>587</td></tr>\n",
       "<tr><td>196.B-0578</td><td>114</td></tr>\n",
       "<tr><td>196.D-0214</td><td>361</td></tr>\n",
       "<tr><td>...</td><td>...</td></tr>\n",
       "<tr><td>VPHASplus</td><td>58831</td></tr>\n",
       "<tr><td>VST-ATLAS</td><td>62765</td></tr>\n",
       "<tr><td>VVV</td><td>216281</td></tr>\n",
       "<tr><td>VVVX</td><td>405625</td></tr>\n",
       "<tr><td>XQ-100</td><td>455</td></tr>\n",
       "<tr><td>XSGRB</td><td>518</td></tr>\n",
       "<tr><td>XSHOOTER</td><td>178091</td></tr>\n",
       "<tr><td>XShootU</td><td>260</td></tr>\n",
       "<tr><td>XSL</td><td>2634</td></tr>\n",
       "<tr><td>ZCOSMOS</td><td>20806</td></tr>\n",
       "</table></div>"
      ],
      "text/plain": [
       "<Table length=87>\n",
       "obs_collection COUNT_ALL\n",
       "    object       int32  \n",
       "-------------- ---------\n",
       "    081.C-0827         1\n",
       "    092.A-0472         4\n",
       "    096.B-0054         8\n",
       "   1100.A-0528         1\n",
       "   1101.A-0127         4\n",
       "    193.D-0232      5397\n",
       "    195.B-0283       587\n",
       "    196.B-0578       114\n",
       "    196.D-0214       361\n",
       "           ...       ...\n",
       "     VPHASplus     58831\n",
       "     VST-ATLAS     62765\n",
       "           VVV    216281\n",
       "          VVVX    405625\n",
       "        XQ-100       455\n",
       "         XSGRB       518\n",
       "      XSHOOTER    178091\n",
       "       XShootU       260\n",
       "           XSL      2634\n",
       "       ZCOSMOS     20806"
      ]
     },
     "execution_count": 34,
     "metadata": {},
     "output_type": "execute_result"
    }
   ],
   "source": [
    "eso_instance.query_tap_service(\"Select obs_collection, count(*) from ivoa.ObsCore group by obs_collection order by obs_collection\")"
   ]
  },
  {
   "cell_type": "code",
   "execution_count": 35,
   "metadata": {},
   "outputs": [
    {
     "data": {
      "text/html": [
       "<div><i>Table length=15</i>\n",
       "<table id=\"table132119810658560\" class=\"table-striped table-bordered table-condensed\">\n",
       "<thead><tr><th>obs_collection</th><th>calib_level</th><th>multi_ob</th><th>filter</th><th>s_pixel_scale</th><th>instrument_name</th></tr></thead>\n",
       "<thead><tr><th></th><th></th><th></th><th></th><th>arcsec</th><th></th></tr></thead>\n",
       "<thead><tr><th>object</th><th>int32</th><th>object</th><th>object</th><th>float64</th><th>object</th></tr></thead>\n",
       "<tr><td>SPHERE</td><td>3</td><td>M</td><td>K12</td><td>0.0122</td><td>SPHERE</td></tr>\n",
       "<tr><td>SPHERE</td><td>3</td><td>M</td><td>K12</td><td>0.0122</td><td>SPHERE</td></tr>\n",
       "<tr><td>SPHERE</td><td>3</td><td>M</td><td>K12</td><td>0.0122</td><td>SPHERE</td></tr>\n",
       "<tr><td>SPHERE</td><td>3</td><td>M</td><td>K12</td><td>0.0122</td><td>SPHERE</td></tr>\n",
       "<tr><td>SPHERE</td><td>3</td><td>M</td><td>K12</td><td>0.0122</td><td>SPHERE</td></tr>\n",
       "<tr><td>SPHERE</td><td>3</td><td>M</td><td>K12</td><td>0.0122</td><td>SPHERE</td></tr>\n",
       "<tr><td>SPHERE</td><td>3</td><td>M</td><td>K12</td><td>0.0122</td><td>SPHERE</td></tr>\n",
       "<tr><td>SPHERE</td><td>3</td><td>M</td><td>K12</td><td>0.0122</td><td>SPHERE</td></tr>\n",
       "<tr><td>SPHERE</td><td>3</td><td>M</td><td>K12</td><td>0.0122</td><td>SPHERE</td></tr>\n",
       "<tr><td>SPHERE</td><td>3</td><td>M</td><td>H</td><td>0.0122</td><td>SPHERE</td></tr>\n",
       "<tr><td>SPHERE</td><td>3</td><td>M</td><td>K12</td><td>0.0122</td><td>SPHERE</td></tr>\n",
       "<tr><td>SPHERE</td><td>3</td><td>M</td><td>H</td><td>0.0122</td><td>SPHERE</td></tr>\n",
       "<tr><td>SPHERE</td><td>3</td><td>M</td><td>H</td><td>0.0122</td><td>SPHERE</td></tr>\n",
       "<tr><td>SPHERE</td><td>3</td><td>M</td><td>H</td><td>0.0122</td><td>SPHERE</td></tr>\n",
       "<tr><td>SPHERE</td><td>3</td><td>M</td><td>H</td><td>0.0122</td><td>SPHERE</td></tr>\n",
       "</table></div>"
      ],
      "text/plain": [
       "<Table length=15>\n",
       "obs_collection calib_level multi_ob filter s_pixel_scale instrument_name\n",
       "                                               arcsec                   \n",
       "    object        int32     object  object    float64         object    \n",
       "-------------- ----------- -------- ------ ------------- ---------------\n",
       "        SPHERE           3        M    K12        0.0122          SPHERE\n",
       "        SPHERE           3        M    K12        0.0122          SPHERE\n",
       "        SPHERE           3        M    K12        0.0122          SPHERE\n",
       "        SPHERE           3        M    K12        0.0122          SPHERE\n",
       "        SPHERE           3        M    K12        0.0122          SPHERE\n",
       "        SPHERE           3        M    K12        0.0122          SPHERE\n",
       "        SPHERE           3        M    K12        0.0122          SPHERE\n",
       "        SPHERE           3        M    K12        0.0122          SPHERE\n",
       "        SPHERE           3        M    K12        0.0122          SPHERE\n",
       "        SPHERE           3        M      H        0.0122          SPHERE\n",
       "        SPHERE           3        M    K12        0.0122          SPHERE\n",
       "        SPHERE           3        M      H        0.0122          SPHERE\n",
       "        SPHERE           3        M      H        0.0122          SPHERE\n",
       "        SPHERE           3        M      H        0.0122          SPHERE\n",
       "        SPHERE           3        M      H        0.0122          SPHERE"
      ]
     },
     "execution_count": 35,
     "metadata": {},
     "output_type": "execute_result"
    }
   ],
   "source": [
    "eso_instance.query_tap_service(\"Select obs_collection, calib_level, multi_ob, filter, s_pixel_scale, instrument_name \"\n",
    "                               \"from ivoa.ObsCore where \"\n",
    "                               \"obs_collection in ('sphere', 'vegas') and \"\n",
    "                               \"calib_level=3 and \"\n",
    "                               \"multi_ob='M' and \"\n",
    "                               \"s_pixel_scale < 0.2\")"
   ]
  },
  {
   "cell_type": "markdown",
   "metadata": {},
   "source": [
    "## Authenticated queries"
   ]
  },
  {
   "cell_type": "markdown",
   "metadata": {},
   "source": [
    " - Even when the login is correct, the query is unauthenticated.\n",
    " - No authenticated queries possible --> No risk of data leaks."
   ]
  },
  {
   "cell_type": "code",
   "execution_count": 39,
   "metadata": {},
   "outputs": [
    {
     "name": "stderr",
     "output_type": "stream",
     "text": [
      "WARNING: Failed to get a valid keyring for password storage: No recommended backend was available. Install a recommended 3rd party backend package; or, install the keyrings.alt package if you want to use the non-recommended backends. See https://pypi.org/project/keyring for details. [astroquery.query]\n",
      "WARNING: No password was found in the keychain for the provided username. [astroquery.query]\n"
     ]
    },
    {
     "name": "stdout",
     "output_type": "stream",
     "text": [
      "INFO: Authenticating pala on 'www.eso.org' ... [astroquery.eso.core]\n",
      "INFO: Authentication successful! [astroquery.eso.core]\n"
     ]
    }
   ],
   "source": [
    "eso_instance.login(username='pala')\n",
    "query_str = \"select count(*) from dbo.raw\""
   ]
  },
  {
   "cell_type": "code",
   "execution_count": 40,
   "metadata": {},
   "outputs": [
    {
     "name": "stdout",
     "output_type": "stream",
     "text": [
      "COUNT_ALL\n",
      "---------\n",
      " 34532540\n"
     ]
    }
   ],
   "source": [
    "count_unauthenticated = eso_instance.query_tap_service(query_str)\n",
    "print(count_unauthenticated) # 34531840 in jcarmonaops case"
   ]
  },
  {
   "cell_type": "code",
   "execution_count": 41,
   "metadata": {},
   "outputs": [
    {
     "name": "stdout",
     "output_type": "stream",
     "text": [
      "COUNT_ALL\n",
      "---------\n",
      " 34536178\n"
     ]
    }
   ],
   "source": [
    "# Takes longer - 17s instead of 0.5s\n",
    "count_authenticated = eso_instance.query_tap_service(query_str, authenticated = True)\n",
    "print(count_authenticated) "
   ]
  },
  {
   "cell_type": "markdown",
   "metadata": {},
   "source": [
    "## Print the ADQL string without issuing the query"
   ]
  },
  {
   "cell_type": "code",
   "execution_count": 42,
   "metadata": {},
   "outputs": [
    {
     "name": "stdout",
     "output_type": "stream",
     "text": [
      "select * from dbo.raw where asdasd = 'asdasd'\n",
      "select * from dbo.raw where intersects(s_region, circle('ICRS', 18, 0, 0.1))=1\n",
      "select * from dbo.raw where asdasd = 'asdasd' and intersects(s_region, circle('ICRS', 18, 0, 0.1))=1\n"
     ]
    }
   ],
   "source": [
    "q_str = eso_instance.query_main(asdasd='asdasd', query_str_only=True)\n",
    "print(q_str)\n",
    "\n",
    "q_str = eso_instance.query_main(ra=18, dec=0 , radius=0.1, query_str_only=True)\n",
    "print(q_str)\n",
    "\n",
    "q_str = eso_instance.query_main(ra=18, dec=0 , radius=0.1, asdasd='asdasd', query_str_only=True)\n",
    "print(q_str)"
   ]
  },
  {
   "cell_type": "markdown",
   "metadata": {},
   "source": [
    "## Cone Search"
   ]
  },
  {
   "cell_type": "code",
   "execution_count": 43,
   "metadata": {},
   "outputs": [
    {
     "name": "stdout",
     "output_type": "stream",
     "text": [
      "Table saved to ./eso_aq_example_cone_search_phase_3_muse.csv\n"
     ]
    },
    {
     "name": "stderr",
     "output_type": "stream",
     "text": [
      "WARNING: NoResultsWarning: Query returned no results [astroquery.eso.core]\n"
     ]
    }
   ],
   "source": [
    "my_table = eso_instance.query_surveys(surveys='MUSE', ra=150, dec=-59, radius=1, columns=\"target_name, s_ra, s_dec, s_region\")\n",
    "table_to_csv(my_table, \"./eso_aq_example_cone_search_phase_3_muse.csv\")"
   ]
  },
  {
   "cell_type": "code",
   "execution_count": 44,
   "metadata": {},
   "outputs": [
    {
     "name": "stdout",
     "output_type": "stream",
     "text": [
      "Table saved to ./eso_aq_example_cone_search_phase_3_all.csv\n"
     ]
    },
    {
     "name": "stderr",
     "output_type": "stream",
     "text": [
      "/home/codespace/.python/current/lib/python3.12/site-packages/pyvo/dal/query.py:341: DALOverflowWarning: Partial result set. Potential causes MAXREC, async storage space, etc.\n",
      "  warn(\"Partial result set. Potential causes MAXREC, async storage space, etc.\",\n",
      "WARNING: MaxResultsWarning: Results truncated to 1000. To retrieve all the records set to None the maxrec attribute [astroquery.eso.core]\n"
     ]
    }
   ],
   "source": [
    "my_table = eso_instance.query_surveys(ra=150, dec=-59, radius=1, columns=\"target_name, s_ra, s_dec, s_region\")\n",
    "table_to_csv(my_table, \"./eso_aq_example_cone_search_phase_3_all.csv\")"
   ]
  },
  {
   "cell_type": "code",
   "execution_count": null,
   "metadata": {},
   "outputs": [],
   "source": [
    "# - Qery survey - # - Phase 3 data\n",
    "\n",
    "count_m = eso_instance.query_surveys('MUSE', ra=18, dec=0 , radius=1, count_only=True, query_str_only=False)\n",
    "print(\"Phase 3 MUSE: \", count_m)\n",
    "print()\n",
    "\n",
    "count_m = eso_instance.query_surveys(ra=18, dec=0 , radius=1, count_only=True, query_str_only=False)\n",
    "print(\"Phase 3 ALL: \", count_m)\n",
    "print()\n",
    "\n",
    "# - Query main - # - Raw Data\n",
    "\n",
    "count_m = eso_instance.query_main('MUSE', ra=18, dec=0 , radius=1, count_only=True, query_str_only=False)\n",
    "print(\"Raw MUSE: \", count_m)\n",
    "print()\n",
    "\n",
    "count_m = eso_instance.query_main(ra=18, dec=0 , radius=1, count_only=True, query_str_only=False)\n",
    "print(\"Raw ALL: \", count_m)\n",
    "print()\n",
    "\n",
    "# - Query instrument - # - Instrument Specific Raw Data\n",
    "\n",
    "count_m = eso_instance.query_instrument('MUSE', ra=18, dec=0 , radius=1, count_only=True, query_str_only=False)\n",
    "print(\"Instrument Specific Raw - MUSE: \", count_m)\n",
    "print()"
   ]
  },
  {
   "cell_type": "markdown",
   "metadata": {},
   "source": [
    "## Beta Tester Feedback:\n",
    "\n",
    "### General free-hand comments and impressions:\n",
    "\n",
    "...\n",
    "\n",
    "### Did something break?\n",
    "\n",
    " - query_instrument('MUSA') - It broke when I tried to query for the instrument 'MUSA'\n",
    " - ...\n",
    "\n",
    "### Could something be better?\n",
    "\n",
    " - query_main() - I don't like the name of this function because...\n",
    " - ...\n"
   ]
  },
  {
   "cell_type": "markdown",
   "metadata": {},
   "source": [
    "## Features that I'd like the module to support:"
   ]
  },
  {
   "cell_type": "markdown",
   "metadata": {},
   "source": [
    "Add the features you're like to be implemented. If the feature you want is already listed, please put a star (*) next to it.\n",
    " \n",
    " - query_catalogues\n",
    " - SkyCoord\n",
    " - query_region\n",
    " - query_object\n",
    " - OR, >, <, between, like, ...\n",
    " - Uncorrelated random sample queries\n",
    " - cutouts - definition and download\n",
    " - asyncronous queries\n",
    " - ? previews, ssap, datalink\n",
    " - parameter `pint_query = True` prints the query executed. Example: `query_main(..., print_query=True)`\n",
    " - sort results (order by)"
   ]
  },
  {
   "cell_type": "markdown",
   "metadata": {},
   "source": [
    "<hr style=\"border:2px solid #0281c9\"> </hr>\n",
    "\n",
    "<div align=\"center\">\n",
    "  <h1 style=\"color: #0281c9; font-weight: bold;\"> </h1> \n",
    "  <h2 style=\"color: #0281c9; font-weight: bold;\"> </h2>\n",
    "</div>\n",
    "\n",
    "<hr style=\"border:2px solid #0281c9\"> </hr>"
   ]
  },
  {
   "cell_type": "code",
   "execution_count": null,
   "metadata": {},
   "outputs": [],
   "source": [
    "# Experiment with your own queries"
   ]
  },
  {
   "cell_type": "code",
   "execution_count": null,
   "metadata": {},
   "outputs": [],
   "source": []
  }
 ],
 "metadata": {
  "kernelspec": {
   "display_name": "Python 3",
   "language": "python",
   "name": "python3"
  },
  "language_info": {
   "codemirror_mode": {
    "name": "ipython",
    "version": 3
   },
   "file_extension": ".py",
   "mimetype": "text/x-python",
   "name": "python",
   "nbconvert_exporter": "python",
   "pygments_lexer": "ipython3",
   "version": "3.12.1"
  }
 },
 "nbformat": 4,
 "nbformat_minor": 2
}
