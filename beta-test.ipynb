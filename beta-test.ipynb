{
 "cells": [
  {
   "cell_type": "markdown",
   "metadata": {},
   "source": [
    "<hr style=\"border:2px solid #0281c9\"> </hr>\n",
    "\n",
    "<img align=\"left\" alt=\"ESO Logo\" src=\"http://archive.eso.org/i/esologo.png\">  \n",
    "\n",
    "<div align=\"center\">\n",
    "  <h1 style=\"color: #0281c9; font-weight: bold;\">Astroquery Beta Test</h1>\n",
    "  <h2 style=\"color: #0281c9; font-weight: bold;\">ESO Science Archive - April 2025</h2> \n",
    "</div>\n",
    "\n",
    "<hr style=\"border:2px solid #0281c9\"> </hr>"
   ]
  },
  {
   "cell_type": "markdown",
   "metadata": {},
   "source": [
    "_This notebook focuses specifically on testing recent developments related to the transition from the WDB backend to the TAP backend._ - [DFS-19635](https://jira.eso.org/browse/DFS-19635)\n",
    "\n",
    "As a Beta tester, we would like to ask your feedback on the following aspects:\n",
    "\n",
    " - What absolutely needs to be fixed before the release\n",
    " - What would be nice to be fixed before the release\n",
    " - Feature ideas and improvements for subsequent releases\n",
    "\n",
    "The current astroquery ESO module documentation will mostly work: https://astroquery.readthedocs.io/en/latest/eso/eso.html\n",
    "\n",
    "For the parts that unevitably needed changes, the updated documentation is found in the `docs` folder in this repository:\n",
    " - `./docs/AstroqueryEsoDocumentation-Beta.pdf`\n",
    " - `./docs/AstroqueryEsoDocstrings-Beta.pdf`\n",
    " - `./docs/html/`\n"
   ]
  },
  {
   "cell_type": "markdown",
   "metadata": {},
   "source": [
    "## Installation"
   ]
  },
  {
   "cell_type": "code",
   "execution_count": null,
   "metadata": {},
   "outputs": [],
   "source": [
    "!bash install_astroquery.sh"
   ]
  },
  {
   "cell_type": "markdown",
   "metadata": {},
   "source": [
    "## Handy imports and functions"
   ]
  },
  {
   "cell_type": "code",
   "execution_count": null,
   "metadata": {},
   "outputs": [],
   "source": [
    "import os\n",
    "import pandas as pd\n",
    "import warnings\n",
    "import astropy.table.table as aqtable\n",
    "from pyvo.dal.exceptions import DALQueryError, DALServiceError\n",
    "from IPython.display import clear_output\n",
    "\n",
    "def table_to_csv(aqtable: aqtable, filepath: str):\n",
    "    aqtable.to_pandas().to_csv(filepath)\n",
    "    print(f\"Table saved to {filepath}\")"
   ]
  },
  {
   "cell_type": "markdown",
   "metadata": {},
   "source": [
    "## ESO instance"
   ]
  },
  {
   "cell_type": "code",
   "execution_count": null,
   "metadata": {},
   "outputs": [],
   "source": [
    "from astroquery.eso import Eso\n",
    "\n",
    "eso_instance = Eso()\n",
    "\n",
    "eso_instance.maxrec = 1000\n",
    "\n",
    "print(f\"ESO tap_url = {eso_instance._tap_url()}\")"
   ]
  },
  {
   "cell_type": "markdown",
   "metadata": {},
   "source": [
    "# Tutorial"
   ]
  },
  {
   "cell_type": "markdown",
   "metadata": {},
   "source": [
    "## Query Raw Data"
   ]
  },
  {
   "cell_type": "code",
   "execution_count": null,
   "metadata": {},
   "outputs": [],
   "source": [
    "my_table = eso_instance.query_main()\n",
    "table_to_csv(my_table, \"./eso_aq_example_query_main.csv\")\n",
    "# my_table[:2]  # Uncomment to show the table here in the notebook"
   ]
  },
  {
   "cell_type": "markdown",
   "metadata": {},
   "source": [
    "## Query Phase 3 Data"
   ]
  },
  {
   "cell_type": "code",
   "execution_count": null,
   "metadata": {},
   "outputs": [],
   "source": [
    "available_surveys = eso_instance.list_surveys()\n",
    "\n",
    "print(pd.DataFrame({\"survey\": available_surveys}).to_string())"
   ]
  },
  {
   "cell_type": "code",
   "execution_count": null,
   "metadata": {},
   "outputs": [],
   "source": [
    "my_table = eso_instance.query_surveys()\n",
    "\n",
    "table_to_csv(my_table, \"./eso_aq_example_query_surveys.csv\")\n",
    "# my_table[:2]  # Uncomment to show the table here in the notebook"
   ]
  },
  {
   "cell_type": "code",
   "execution_count": null,
   "metadata": {},
   "outputs": [],
   "source": [
    "my_table = eso_instance.query_surveys('SPHERE')\n",
    "\n",
    "table_to_csv(my_table, \"./eso_aq_example_query_surveys_sphere.csv\")\n",
    "# my_table  # Uncomment to show the table here in the notebook"
   ]
  },
  {
   "cell_type": "code",
   "execution_count": null,
   "metadata": {},
   "outputs": [],
   "source": [
    "my_table = eso_instance.query_surveys(['SPHERE', 'VEGAS'])\n",
    "my_table_2 = eso_instance.query_surveys('SPHERE, VEGAS')\n",
    "assert all(my_table.values_equal(my_table_2))\n",
    "\n",
    "table_to_csv(my_table, \"./eso_aq_example_query_surveys_sphere_vegas.csv\")\n",
    "\n",
    "#my_table  # Uncomment to show the table here in the notebook"
   ]
  },
  {
   "cell_type": "markdown",
   "metadata": {},
   "source": [
    "## Query Instrument Specific Data"
   ]
  },
  {
   "cell_type": "code",
   "execution_count": null,
   "metadata": {},
   "outputs": [],
   "source": [
    "available_instruments = eso_instance.list_instruments()\n",
    "print(pd.DataFrame({\"instrument\": available_instruments}).to_string())"
   ]
  },
  {
   "cell_type": "code",
   "execution_count": null,
   "metadata": {},
   "outputs": [],
   "source": [
    "my_table = eso_instance.query_instrument(\"midi\")\n",
    "table_to_csv(my_table, \"./eso_aq_example_query_instrument_midi.csv\")\n",
    "# my_table  # Uncomment to show the table here in the notebook"
   ]
  },
  {
   "cell_type": "markdown",
   "metadata": {},
   "source": [
    "## Query Apex Quicklooks"
   ]
  },
  {
   "cell_type": "code",
   "execution_count": null,
   "metadata": {},
   "outputs": [],
   "source": [
    "tblb = eso_instance.query_apex_quicklooks(column_filters={'project_id':'E-095.F-9802A-2015'})\n",
    "tbla = eso_instance.query_apex_quicklooks(column_filters={'prog_id':'095.F-9802(A)'})\n",
    "\n",
    "assert len(tbla) == 5\n",
    "assert set(tbla['release_date']) == {\n",
    "    '2015-07-17T03:06:23.280Z',\n",
    "    '2015-07-18T12:07:32.713Z',\n",
    "    '2015-09-18T11:31:15.867Z',\n",
    "    '2015-09-15T11:06:55.663Z',\n",
    "    '2015-09-18T11:46:19.970Z'\n",
    "}"
   ]
  },
  {
   "cell_type": "markdown",
   "metadata": {},
   "source": [
    "## Info before launching a query"
   ]
  },
  {
   "cell_type": "markdown",
   "metadata": {},
   "source": [
    "### Rows and columns"
   ]
  },
  {
   "cell_type": "code",
   "execution_count": null,
   "metadata": {},
   "outputs": [],
   "source": [
    "eso_instance.query_main(help=True)"
   ]
  },
  {
   "cell_type": "markdown",
   "metadata": {},
   "source": [
    "### Number of records"
   ]
  },
  {
   "cell_type": "code",
   "execution_count": null,
   "metadata": {},
   "outputs": [],
   "source": [
    "count_m = eso_instance.query_main(count_only=True)\n",
    "count_n = eso_instance.query_main(\n",
    "    column_filters={\n",
    "        'instrument': 'MUSE'\n",
    "    },\n",
    "    count_only=True) # TODO\n",
    "print(f\"Counts: {count_m:0.2e}, {count_n:0.2e}\")\n",
    "\n",
    "count_m = eso_instance.query_surveys('MUSE', count_only=True)\n",
    "count_n = eso_instance.query_surveys('MUSE', cone_ra=18, cone_dec=0 , cone_radius=1, count_only=True)\n",
    "print(f\"Counts: {count_m:0.2e}, {count_n:0.2e}\")"
   ]
  },
  {
   "cell_type": "code",
   "execution_count": null,
   "metadata": {},
   "outputs": [],
   "source": [
    "survey_nrows = {\"survey\": [], \"num_records\": []}\n",
    "for x in available_surveys:\n",
    "    n = eso_instance.query_surveys(x, count_only=True)\n",
    "    survey_nrows[\"num_records\"].append(n)\n",
    "    survey_nrows[\"survey\"].append(x)\n",
    "    print(x, n)\n",
    "\n",
    "clear_output()\n",
    "print(pd.DataFrame(survey_nrows).to_string())"
   ]
  },
  {
   "cell_type": "markdown",
   "metadata": {},
   "source": [
    "### Column names as list"
   ]
  },
  {
   "cell_type": "code",
   "execution_count": null,
   "metadata": {},
   "outputs": [],
   "source": [
    "column_list = list(eso_instance.query_main(top=1).columns)\n",
    "print(pd.DataFrame(column_list).to_string())"
   ]
  },
  {
   "cell_type": "markdown",
   "metadata": {},
   "source": [
    "## Limit the columns to query"
   ]
  },
  {
   "cell_type": "code",
   "execution_count": null,
   "metadata": {},
   "outputs": [],
   "source": [
    "my_table = eso_instance.query_main(columns=[\"target\", \"instrument\", \"date_obs\", \"access_url\", \"datalink_url\"])\n",
    "table_to_csv(my_table, \"./eso_aq_example_query_main_columns.csv\")\n",
    "#my_table[0:3]  # Uncomment to show the table here in the notebook"
   ]
  },
  {
   "cell_type": "markdown",
   "metadata": {},
   "source": [
    "## Limit the number of records - _top_ vs _maxrec_"
   ]
  },
  {
   "cell_type": "markdown",
   "metadata": {},
   "source": [
    " - `top`: \"I don't care how many records there are, give me only the _top N_, because my science requires only those.\"\n",
    " - `maxrec`: \"Give me as many records as possible given my computational resources and time constraints. Please warn me if results are truncated.\"\n",
    "\n",
    "Key Differences:\n",
    "\n",
    " - Scope: `TOP` is used within the ADQL query to limit the number of rows returned by that specific query. In contrast, `maxrec` is a TAP service parameter that sets an upper limit on the number of records any query can return, acting as a server-side `safeguard` control.\n",
    "\n",
    " - Implementation: `TOP` is specified in the query language (ADQL), whereas `maxrec` is a parameter of the TAP service protocol, often set outside the query itself."
   ]
  },
  {
   "cell_type": "code",
   "execution_count": null,
   "metadata": {},
   "outputs": [],
   "source": [
    "eso_instance.maxrec = None \n",
    "eso_instance.query_main(top=3)"
   ]
  },
  {
   "cell_type": "code",
   "execution_count": null,
   "metadata": {},
   "outputs": [],
   "source": [
    "eso_instance.maxrec = 3\n",
    "eso_instance.query_main()"
   ]
  },
  {
   "cell_type": "code",
   "execution_count": null,
   "metadata": {},
   "outputs": [],
   "source": [
    "eso_instance.maxrec = 5\n",
    "eso_instance.query_main(top=10)"
   ]
  },
  {
   "cell_type": "code",
   "execution_count": null,
   "metadata": {},
   "outputs": [],
   "source": [
    "eso_instance.maxrec = 10\n",
    "eso_instance.query_main(top=5)"
   ]
  },
  {
   "cell_type": "code",
   "execution_count": null,
   "metadata": {},
   "outputs": [],
   "source": [
    "eso_instance.maxrec = 1000"
   ]
  },
  {
   "cell_type": "markdown",
   "metadata": {},
   "source": [
    "## Filter in advance"
   ]
  },
  {
   "cell_type": "code",
   "execution_count": null,
   "metadata": {},
   "outputs": [],
   "source": [
    "my_table = eso_instance.query_surveys(\"sphere, vegas\",\n",
    "                                          columns=\"obs_collection, calib_level, multi_ob, filter, s_pixel_scale, instrument_name\" ,\n",
    "                                          column_filters={'calib_level': 3,\n",
    "                                                          'multi_ob': 'M'})\n",
    "\n",
    "table_to_csv(my_table, \"./eso_aq_example_filter_vegas.csv\")"
   ]
  },
  {
   "cell_type": "markdown",
   "metadata": {},
   "source": [
    "## Filter afterwards"
   ]
  },
  {
   "cell_type": "code",
   "execution_count": null,
   "metadata": {},
   "outputs": [],
   "source": [
    "my_table[my_table[\"s_pixel_scale\"] > 0.2]"
   ]
  },
  {
   "cell_type": "markdown",
   "metadata": {},
   "source": [
    "## Free ADQL query"
   ]
  },
  {
   "cell_type": "code",
   "execution_count": null,
   "metadata": {},
   "outputs": [],
   "source": [
    "eso_instance.query_tap_service(\"Select obs_collection, count(*) from ivoa.ObsCore group by obs_collection order by obs_collection\")"
   ]
  },
  {
   "cell_type": "code",
   "execution_count": null,
   "metadata": {},
   "outputs": [],
   "source": [
    "eso_instance.query_tap_service(\"Select obs_collection, calib_level, multi_ob, filter, s_pixel_scale, instrument_name \"\n",
    "                               \"from ivoa.ObsCore where \"\n",
    "                               \"obs_collection in ('sphere', 'vegas') and \"\n",
    "                               \"calib_level=3 and \"\n",
    "                               \"multi_ob='M' and \"\n",
    "                               \"s_pixel_scale < 0.2\")"
   ]
  },
  {
   "cell_type": "markdown",
   "metadata": {},
   "source": [
    "## Authenticated queries"
   ]
  },
  {
   "cell_type": "markdown",
   "metadata": {},
   "source": [
    " - Even when the login is correct, the query is unauthenticated.\n",
    " - No authenticated queries possible --> No risk of data leaks."
   ]
  },
  {
   "cell_type": "code",
   "execution_count": null,
   "metadata": {},
   "outputs": [],
   "source": [
    "query_str = \"select count(*) from dbo.raw\""
   ]
  },
  {
   "cell_type": "code",
   "execution_count": null,
   "metadata": {},
   "outputs": [],
   "source": [
    "skip_this_cell = True\n",
    "if not skip_this_cell:\n",
    "    eso_instance.login(username='your_username')\n",
    "else:\n",
    "    warnings.warn(\"You haven't tested authenticated queries yet!\")"
   ]
  },
  {
   "cell_type": "code",
   "execution_count": null,
   "metadata": {},
   "outputs": [],
   "source": [
    "count_unauthenticated = eso_instance.query_tap_service(query_str)\n",
    "print(count_unauthenticated) # 3453xxxx"
   ]
  },
  {
   "cell_type": "code",
   "execution_count": null,
   "metadata": {},
   "outputs": [],
   "source": [
    "# Takes longer - 17s instead of 0.5s\n",
    "if eso_instance.authenticated():\n",
    "    count_authenticated = eso_instance.query_tap_service(query_str, authenticated = True)\n",
    "    print(count_authenticated) # 4839xxxx\n",
    "else:\n",
    "    warnings.warn(\"Cell didn't run - Not authenticated\")"
   ]
  },
  {
   "cell_type": "markdown",
   "metadata": {},
   "source": [
    "## Print the ADQL string without issuing the query"
   ]
  },
  {
   "cell_type": "code",
   "execution_count": null,
   "metadata": {},
   "outputs": [],
   "source": [
    "q_str = eso_instance.query_main(\n",
    "    column_filters={\n",
    "        \"column_name\": \"like '%John Doe%'\"\n",
    "        },\n",
    "    query_str_only=True)\n",
    "print(q_str)\n",
    "\n",
    "q_str = eso_instance.query_main(cone_ra=18, cone_dec=0 , cone_radius=0.1, query_str_only=True)\n",
    "print(q_str)\n",
    "\n",
    "q_str = eso_instance.query_main(cone_ra=18, cone_dec=0 , cone_radius=0.1,\n",
    "                                column_filters={\n",
    "                                    \"column_name\": \"like '%John Doe%'\"\n",
    "                                },\n",
    "                                query_str_only=True)\n",
    "print(q_str)"
   ]
  },
  {
   "cell_type": "markdown",
   "metadata": {},
   "source": [
    "## Cone Search"
   ]
  },
  {
   "cell_type": "code",
   "execution_count": null,
   "metadata": {},
   "outputs": [],
   "source": [
    "my_table = eso_instance.query_surveys(surveys='MUSE', cone_ra=155, cone_dec=-59, cone_radius=1.0, columns=\"target_name, s_ra, s_dec, s_region\")\n",
    "my_table.sort(['s_ra', 's_dec'])\n",
    "#my_table\n",
    "table_to_csv(my_table, \"./eso_aq_example_cone_search_phase_3_muse.csv\")"
   ]
  },
  {
   "cell_type": "code",
   "execution_count": null,
   "metadata": {},
   "outputs": [],
   "source": [
    "my_table = eso_instance.query_surveys(cone_ra=150, cone_dec=-59, cone_radius=1, columns=\"target_name, s_ra, s_dec, s_region\")\n",
    "table_to_csv(my_table, \"./eso_aq_example_cone_search_phase_3_all.csv\")"
   ]
  },
  {
   "cell_type": "code",
   "execution_count": null,
   "metadata": {},
   "outputs": [],
   "source": [
    "# - Qery survey - # - Phase 3 data\n",
    "\n",
    "count_m = eso_instance.query_surveys('MUSE', cone_ra=18, cone_dec=0 , cone_radius=1, count_only=True, query_str_only=False)\n",
    "print(\"Phase 3 MUSE: \", count_m)\n",
    "print()\n",
    "\n",
    "count_m = eso_instance.query_surveys(cone_ra=18, cone_dec=0 , cone_radius=1, count_only=True, query_str_only=False)\n",
    "print(\"Phase 3 ALL: \", count_m)\n",
    "print()\n",
    "\n",
    "# - Query main - # - Raw Data\n",
    "\n",
    "count_m = eso_instance.query_main('MUSE', cone_ra=18, cone_dec=0 , cone_radius=1, count_only=True, query_str_only=False)\n",
    "print(\"Raw MUSE: \", count_m)\n",
    "print()\n",
    "\n",
    "count_m = eso_instance.query_main(cone_ra=18, cone_dec=0 , cone_radius=1, count_only=True, query_str_only=False)\n",
    "print(\"Raw ALL: \", count_m)\n",
    "print()\n",
    "\n",
    "# - Query instrument - # - Instrument Specific Raw Data\n",
    "\n",
    "count_m = eso_instance.query_instrument('MUSE', cone_ra=18, cone_dec=0 , cone_radius=1, count_only=True, query_str_only=False)\n",
    "print(\"Instrument Specific Raw - MUSE: \", count_m)\n",
    "print()"
   ]
  },
  {
   "cell_type": "markdown",
   "metadata": {},
   "source": [
    "## Column filters with operators"
   ]
  },
  {
   "cell_type": "markdown",
   "metadata": {},
   "source": [
    "### `like`"
   ]
  },
  {
   "cell_type": "code",
   "execution_count": null,
   "metadata": {},
   "outputs": [],
   "source": [
    "# Experiment with your own queries\n",
    "eso_instance.maxrec = 10000\n",
    "table = eso_instance.query_instrument('xshooter',\n",
    "                                      column_filters={\n",
    "                                        'pi_coi': \"like 'pala/%'\",\n",
    "                                      },\n",
    "                                      columns=['ob_targ_name', 'release_date', 'pi_coi', 'date_obs'])\n",
    "\n",
    "table.sort('pi_coi')\n",
    "table # 6462 records"
   ]
  },
  {
   "cell_type": "markdown",
   "metadata": {},
   "source": [
    "### Greater than `>`"
   ]
  },
  {
   "cell_type": "code",
   "execution_count": null,
   "metadata": {},
   "outputs": [],
   "source": [
    "table = eso_instance.query_instrument('sphere',\n",
    "                                      column_filters={\n",
    "                                        'pi_coi': \"like 'olofsson/%'\",\n",
    "                                        'release_date': \"> '2023'\",\n",
    "                                      },\n",
    "                                      columns=['ob_targ_name', 'release_date', 'pi_coi', 'date_obs'])\n",
    "\n",
    "table.sort('release_date')\n",
    "table  # 1305 records"
   ]
  },
  {
   "cell_type": "markdown",
   "metadata": {},
   "source": [
    "### `between`"
   ]
  },
  {
   "cell_type": "code",
   "execution_count": null,
   "metadata": {},
   "outputs": [],
   "source": [
    "table = eso_instance.query_instrument('gravity',\n",
    "                                      column_filters={\n",
    "                                        'pi_coi': \"like 'merand%'\",\n",
    "                                        'release_date': \"> '2019-06-24 00:35'\",\n",
    "                                        'exp_start': \"between '2018-06-24' and '2020-02-12'\"\n",
    "                                      },\n",
    "                                      columns=['ob_targ_name', 'release_date', 'pi_coi', 'date_obs', 'exp_start'])\n",
    "\n",
    "table.sort('exp_start') # 44 records\n",
    "table"
   ]
  },
  {
   "cell_type": "markdown",
   "metadata": {},
   "source": [
    "### Other examples"
   ]
  },
  {
   "cell_type": "code",
   "execution_count": null,
   "metadata": {},
   "outputs": [],
   "source": [
    "table = eso_instance.query_main(\n",
    "    instruments='gravity',\n",
    "    columns=['ra', 'tpl_id', 'dp_id', 'dp_tech', 'dp_type', 'tel_az', 'instrument', 'pi_coi'],\n",
    "    column_filters={\n",
    "        'pi_coi': \"like '%woillez%'\",\n",
    "        'dp_type': \"STD,SINGLE\",\n",
    "        'dp_tech': \"'INTERFEROMETRY,DIRECT'\",\n",
    "        'ra': '> 300'\n",
    "    }\n",
    "    )\n",
    "table.sort('ra')\n",
    "table\n"
   ]
  },
  {
   "cell_type": "code",
   "execution_count": null,
   "metadata": {},
   "outputs": [],
   "source": [
    "eso_instance.query_instrument('gravity',\n",
    "                              column_filters={\n",
    "                                  'object':'IX Vel',\n",
    "                                  #'stime':'2020-01-01',\n",
    "                                  #'etime':'2025-12-31',\n",
    "                                  # stime and etime are replaced by `between` in TAP\n",
    "                                  'exp_start': \"between '2020-01-01' and '2025-12-31'\",\n",
    "                                  'dp_cat':'SCIENCE'\n",
    "                              },\n",
    "                              columns = ['object', 'ra', 'tpl_id', 'dp_id', 'dp_tech', 'dp_type', 'tel_az', 'instrument', 'pi_coi']\n",
    "                            )"
   ]
  },
  {
   "cell_type": "markdown",
   "metadata": {},
   "source": [
    "<hr style=\"border:2px solid #0281c9\"> </hr>\n",
    "\n",
    "<div align=\"center\">\n",
    "  <h1 style=\"color: #0281c9; font-weight: bold;\">Run your own experiments</h1>\n",
    "</div>\n",
    "\n",
    "<hr style=\"border:2px solid #0281c9\"> </hr>"
   ]
  },
  {
   "cell_type": "code",
   "execution_count": null,
   "metadata": {},
   "outputs": [],
   "source": [
    "# Experiment with your own queries - Expect a ValueError for this query with a how-to-fix\n",
    "eso_instance.query_instrument('gravity',\n",
    "                              column_filters={\n",
    "                                  'object':'IX Vel',\n",
    "                                  'stime':'2020-01-01',\n",
    "                                  'etime':'2025-12-31',\n",
    "                              },\n",
    "                            )"
   ]
  },
  {
   "cell_type": "code",
   "execution_count": null,
   "metadata": {},
   "outputs": [],
   "source": [
    "# Fixed query:\n",
    "eso_instance.query_instrument(\n",
    "    'gravity',\n",
    "    column_filters={\n",
    "        'object':'IX Vel',\n",
    "        'exp_start': \"between '2020-01-01' and '2025-12-31'\",\n",
    "        'dp_cat':'SCIENCE'\n",
    "        },\n",
    "        columns = ['object', 'ra', 'dec', 'instrument', 'pi_coi']\n",
    "        )"
   ]
  }
 ],
 "metadata": {
  "kernelspec": {
   "display_name": "Python 3",
   "language": "python",
   "name": "python3"
  },
  "language_info": {
   "codemirror_mode": {
    "name": "ipython",
    "version": 3
   },
   "file_extension": ".py",
   "mimetype": "text/x-python",
   "name": "python",
   "nbconvert_exporter": "python",
   "pygments_lexer": "ipython3",
   "version": "3.12.1"
  }
 },
 "nbformat": 4,
 "nbformat_minor": 2
}
